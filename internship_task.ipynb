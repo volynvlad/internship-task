{
 "cells": [
  {
   "cell_type": "code",
   "execution_count": 1,
   "metadata": {},
   "outputs": [
    {
     "name": "stdout",
     "output_type": "stream",
     "text": [
      "numpy version: 1.17.4\n",
      "pandas version: 0.25.3\n",
      "seaborn version: 0.9.0\n",
      "matplotlib version: 3.1.2\n",
      "scikit-learn: 0.21.3\n"
     ]
    }
   ],
   "source": [
    "import numpy as np\n",
    "print(\"numpy version: {}\".format(np.__version__))\n",
    "import pandas as pd \n",
    "print(\"pandas version: {}\".format(pd.__version__))\n",
    "import seaborn as sns\n",
    "print(\"seaborn version: {}\".format(sns.__version__))\n",
    "import matplotlib\n",
    "import matplotlib.pyplot as plt\n",
    "print(\"matplotlib version: {}\".format(matplotlib.__version__))\n",
    "import sklearn as sl\n",
    "print(\"scikit-learn: {}\".format(sl.__version__))\n",
    "import warnings\n",
    "warnings.filterwarnings('ignore')\n",
    "import pickle"
   ]
  },
  {
   "cell_type": "code",
   "execution_count": 2,
   "metadata": {},
   "outputs": [],
   "source": [
    "from sklearn.model_selection import train_test_split"
   ]
  },
  {
   "cell_type": "markdown",
   "metadata": {},
   "source": [
    "### import data"
   ]
  },
  {
   "cell_type": "code",
   "execution_count": 3,
   "metadata": {},
   "outputs": [
    {
     "name": "stdout",
     "output_type": "stream",
     "text": [
      "ds_internship_task  internship_task.ipynb  README.md  xgb_grid.pickle\r\n"
     ]
    }
   ],
   "source": [
    "!ls"
   ]
  },
  {
   "cell_type": "code",
   "execution_count": 4,
   "metadata": {},
   "outputs": [
    {
     "name": "stdout",
     "output_type": "stream",
     "text": [
      "insurance.csv  readme.txt\r\n"
     ]
    }
   ],
   "source": [
    "!ls ds_internship_task/"
   ]
  },
  {
   "cell_type": "code",
   "execution_count": 5,
   "metadata": {},
   "outputs": [
    {
     "name": "stdout",
     "output_type": "stream",
     "text": [
      "Health Insurance Dataset\r\n",
      "\r\n",
      "Task:\r\n",
      "- Build a model that predicts \"charges\" for a given person based on their features.\r\n",
      "- Evaluate the quality of your model.\r\n",
      "- Identify the factors with the highest impact.\r\n",
      "\r\n",
      "Expected result - link to a GitHub repo with:\r\n",
      "- Code for the solution (any programming language, Python or R preferred).\r\n",
      "- Brief summary of the solution*: what did you do, which steps did you make, how to interpret the results.\r\n",
      "\r\n",
      "* Both code and solution can be a single report file, e.g. .ipynb or .rmd\r\n"
     ]
    }
   ],
   "source": [
    "!cat ds_internship_task/readme.txt"
   ]
  },
  {
   "cell_type": "code",
   "execution_count": 6,
   "metadata": {},
   "outputs": [],
   "source": [
    "data = pd.read_csv('ds_internship_task/insurance.csv')"
   ]
  },
  {
   "cell_type": "code",
   "execution_count": 7,
   "metadata": {},
   "outputs": [
    {
     "name": "stdout",
     "output_type": "stream",
     "text": [
      "<class 'pandas.core.frame.DataFrame'>\n",
      "RangeIndex: 1338 entries, 0 to 1337\n",
      "Data columns (total 7 columns):\n",
      "age         1338 non-null int64\n",
      "sex         1338 non-null object\n",
      "bmi         1338 non-null float64\n",
      "children    1338 non-null int64\n",
      "smoker      1338 non-null object\n",
      "region      1338 non-null object\n",
      "charges     1338 non-null float64\n",
      "dtypes: float64(2), int64(2), object(3)\n",
      "memory usage: 73.3+ KB\n"
     ]
    }
   ],
   "source": [
    "data.info()"
   ]
  },
  {
   "cell_type": "code",
   "execution_count": 8,
   "metadata": {},
   "outputs": [
    {
     "data": {
      "text/html": [
       "<div>\n",
       "<style scoped>\n",
       "    .dataframe tbody tr th:only-of-type {\n",
       "        vertical-align: middle;\n",
       "    }\n",
       "\n",
       "    .dataframe tbody tr th {\n",
       "        vertical-align: top;\n",
       "    }\n",
       "\n",
       "    .dataframe thead th {\n",
       "        text-align: right;\n",
       "    }\n",
       "</style>\n",
       "<table border=\"1\" class=\"dataframe\">\n",
       "  <thead>\n",
       "    <tr style=\"text-align: right;\">\n",
       "      <th></th>\n",
       "      <th>age</th>\n",
       "      <th>sex</th>\n",
       "      <th>bmi</th>\n",
       "      <th>children</th>\n",
       "      <th>smoker</th>\n",
       "      <th>region</th>\n",
       "      <th>charges</th>\n",
       "    </tr>\n",
       "  </thead>\n",
       "  <tbody>\n",
       "    <tr>\n",
       "      <th>0</th>\n",
       "      <td>19</td>\n",
       "      <td>female</td>\n",
       "      <td>27.900</td>\n",
       "      <td>0</td>\n",
       "      <td>yes</td>\n",
       "      <td>southwest</td>\n",
       "      <td>16884.92400</td>\n",
       "    </tr>\n",
       "    <tr>\n",
       "      <th>1</th>\n",
       "      <td>18</td>\n",
       "      <td>male</td>\n",
       "      <td>33.770</td>\n",
       "      <td>1</td>\n",
       "      <td>no</td>\n",
       "      <td>southeast</td>\n",
       "      <td>1725.55230</td>\n",
       "    </tr>\n",
       "    <tr>\n",
       "      <th>2</th>\n",
       "      <td>28</td>\n",
       "      <td>male</td>\n",
       "      <td>33.000</td>\n",
       "      <td>3</td>\n",
       "      <td>no</td>\n",
       "      <td>southeast</td>\n",
       "      <td>4449.46200</td>\n",
       "    </tr>\n",
       "    <tr>\n",
       "      <th>3</th>\n",
       "      <td>33</td>\n",
       "      <td>male</td>\n",
       "      <td>22.705</td>\n",
       "      <td>0</td>\n",
       "      <td>no</td>\n",
       "      <td>northwest</td>\n",
       "      <td>21984.47061</td>\n",
       "    </tr>\n",
       "    <tr>\n",
       "      <th>4</th>\n",
       "      <td>32</td>\n",
       "      <td>male</td>\n",
       "      <td>28.880</td>\n",
       "      <td>0</td>\n",
       "      <td>no</td>\n",
       "      <td>northwest</td>\n",
       "      <td>3866.85520</td>\n",
       "    </tr>\n",
       "  </tbody>\n",
       "</table>\n",
       "</div>"
      ],
      "text/plain": [
       "   age     sex     bmi  children smoker     region      charges\n",
       "0   19  female  27.900         0    yes  southwest  16884.92400\n",
       "1   18    male  33.770         1     no  southeast   1725.55230\n",
       "2   28    male  33.000         3     no  southeast   4449.46200\n",
       "3   33    male  22.705         0     no  northwest  21984.47061\n",
       "4   32    male  28.880         0     no  northwest   3866.85520"
      ]
     },
     "execution_count": 8,
     "metadata": {},
     "output_type": "execute_result"
    }
   ],
   "source": [
    "data.head()"
   ]
  },
  {
   "cell_type": "code",
   "execution_count": 9,
   "metadata": {},
   "outputs": [
    {
     "data": {
      "text/plain": [
       "Index(['age', 'sex', 'bmi', 'children', 'smoker', 'region', 'charges'], dtype='object')"
      ]
     },
     "execution_count": 9,
     "metadata": {},
     "output_type": "execute_result"
    }
   ],
   "source": [
    "data.columns"
   ]
  },
  {
   "cell_type": "markdown",
   "metadata": {},
   "source": [
    "There are 4 quantitive variables and 3 categorical variables.\n",
    "\n",
    "quantitive - age, bmi, children, charges. \n",
    "\n",
    "charges - target variable\n",
    "\n",
    "categorical - sex, smoker, region"
   ]
  },
  {
   "cell_type": "code",
   "execution_count": 10,
   "metadata": {},
   "outputs": [],
   "source": [
    "target = 'charges'"
   ]
  },
  {
   "cell_type": "code",
   "execution_count": 11,
   "metadata": {},
   "outputs": [
    {
     "data": {
      "text/plain": [
       "count     1338.000000\n",
       "mean     13270.422265\n",
       "std      12110.011237\n",
       "min       1121.873900\n",
       "25%       4740.287150\n",
       "50%       9382.033000\n",
       "75%      16639.912515\n",
       "max      63770.428010\n",
       "Name: charges, dtype: float64"
      ]
     },
     "execution_count": 11,
     "metadata": {},
     "output_type": "execute_result"
    }
   ],
   "source": [
    "data[target].describe()"
   ]
  },
  {
   "cell_type": "code",
   "execution_count": 12,
   "metadata": {},
   "outputs": [
    {
     "data": {
      "text/plain": [
       "<matplotlib.axes._subplots.AxesSubplot at 0x7f90d4e6f950>"
      ]
     },
     "execution_count": 12,
     "metadata": {},
     "output_type": "execute_result"
    },
    {
     "data": {
      "image/png": "[encoded data removed]",
      "text/plain": [
       "<Figure size 432x288 with 1 Axes>"
      ]
     },
     "metadata": {
      "needs_background": "light"
     },
     "output_type": "display_data"
    }
   ],
   "source": [
    "sns.distplot(data[target])"
   ]
  },
  {
   "cell_type": "code",
   "execution_count": 13,
   "metadata": {},
   "outputs": [
    {
     "name": "stdout",
     "output_type": "stream",
     "text": [
      "skewness: 1.5158796580240388\n",
      "kurtosis: 1.6062986532967907\n"
     ]
    }
   ],
   "source": [
    "print(f\"skewness: {data[target].skew()}\")\n",
    "print(f\"kurtosis: {data[target].kurt()}\")"
   ]
  },
  {
   "cell_type": "code",
   "execution_count": 14,
   "metadata": {},
   "outputs": [
    {
     "name": "stdout",
     "output_type": "stream",
     "text": [
      "skewness: -0.09009752473024583\n",
      "kurtosis: -0.6366666331104724\n"
     ]
    }
   ],
   "source": [
    "print(f\"skewness: {np.log(data[target]).skew()}\")\n",
    "print(f\"kurtosis: {np.log(data[target]).kurt()}\")"
   ]
  },
  {
   "cell_type": "code",
   "execution_count": 15,
   "metadata": {},
   "outputs": [
    {
     "data": {
      "text/plain": [
       "<matplotlib.axes._subplots.AxesSubplot at 0x7f90d4b38110>"
      ]
     },
     "execution_count": 15,
     "metadata": {},
     "output_type": "execute_result"
    },
    {
     "data": {
      "image/png": "[encoded data removed]",
      "text/plain": [
       "<Figure size 432x288 with 1 Axes>"
      ]
     },
     "metadata": {
      "needs_background": "light"
     },
     "output_type": "display_data"
    }
   ],
   "source": [
    "sns.distplot(np.log(data[target]))"
   ]
  },
  {
   "cell_type": "code",
   "execution_count": 16,
   "metadata": {},
   "outputs": [],
   "source": [
    "def scatter_plot(var, target=target):\n",
    "    d = pd.concat([data[target], data[var]], axis=1)\n",
    "    d.plot.scatter(x=var, y=target)"
   ]
  },
  {
   "cell_type": "code",
   "execution_count": 17,
   "metadata": {},
   "outputs": [],
   "source": [
    "def box_plot(var, target=target):\n",
    "    d = pd.concat([data[target], data[var]], axis=1)\n",
    "    f, ax = plt.subplots(figsize=(8, 6))\n",
    "    fig = sns.boxplot(x=var, y=target, data=d)"
   ]
  },
  {
   "cell_type": "code",
   "execution_count": 18,
   "metadata": {},
   "outputs": [],
   "source": [
    "def descriptive_stats(var, target=target):\n",
    "    d = pd.DataFrame(index=data.describe().index, columns=np.unique(data[var]))\n",
    "    for x in np.unique(data[var]):\n",
    "        d[x] = data[target][data[var] == x].describe()\n",
    "    return d"
   ]
  },
  {
   "cell_type": "code",
   "execution_count": 19,
   "metadata": {},
   "outputs": [],
   "source": [
    "def corrmat_plot(n, target=target):\n",
    "    corrmat = data.corr()\n",
    "    cols = corrmat.nlargest(n, target)[target].index\n",
    "    hm = sns.heatmap(corrmat, cbar=True, annot=True, square=True, \n",
    "                     fmt='.2f', annot_kws={'size': 10}, \n",
    "                     yticklabels=cols.values, xticklabels=cols.values)\n",
    "    plt.show()"
   ]
  },
  {
   "cell_type": "code",
   "execution_count": 20,
   "metadata": {},
   "outputs": [],
   "source": [
    "def count_outliers(var, target=target):\n",
    "    res = {}\n",
    "    for x in np.unique(data[var]):\n",
    "        df = data[target][data[var] == x]\n",
    "        Q1 = df.quantile(0.25)\n",
    "        Q3 = df.quantile(0.75)\n",
    "        IQR = Q3 - Q1\n",
    "        res[x] = ((df < (Q1 - 1.5 * IQR)) | (df > (Q3 + 1.5 * IQR))).sum()\n",
    "    return res"
   ]
  },
  {
   "cell_type": "code",
   "execution_count": 21,
   "metadata": {},
   "outputs": [
    {
     "data": {
      "image/png": "[encoded data removed]",
      "text/plain": [
       "<Figure size 432x288 with 2 Axes>"
      ]
     },
     "metadata": {
      "needs_background": "light"
     },
     "output_type": "display_data"
    }
   ],
   "source": [
    "corrmat_plot(len(data))"
   ]
  },
  {
   "cell_type": "markdown",
   "metadata": {},
   "source": [
    "As we can see data have weak linear relationship.\n",
    "Children have the biggest impact on changes, then age, then bmi."
   ]
  },
  {
   "cell_type": "markdown",
   "metadata": {},
   "source": [
    "quantitive -> quantitive\n"
   ]
  },
  {
   "cell_type": "code",
   "execution_count": 22,
   "metadata": {},
   "outputs": [
    {
     "data": {
      "image/png": "[encoded data removed]",
      "text/plain": [
       "<Figure size 432x288 with 1 Axes>"
      ]
     },
     "metadata": {
      "needs_background": "light"
     },
     "output_type": "display_data"
    }
   ],
   "source": [
    "scatter_plot('age')"
   ]
  },
  {
   "cell_type": "code",
   "execution_count": 23,
   "metadata": {},
   "outputs": [
    {
     "data": {
      "image/png": "[encoded data removed]",
      "text/plain": [
       "<Figure size 432x288 with 1 Axes>"
      ]
     },
     "metadata": {
      "needs_background": "light"
     },
     "output_type": "display_data"
    }
   ],
   "source": [
    "scatter_plot('bmi')"
   ]
  },
  {
   "cell_type": "code",
   "execution_count": 24,
   "metadata": {},
   "outputs": [
    {
     "data": {
      "image/png": "[encoded data removed]",
      "text/plain": [
       "<Figure size 432x288 with 1 Axes>"
      ]
     },
     "metadata": {
      "needs_background": "light"
     },
     "output_type": "display_data"
    }
   ],
   "source": [
    "scatter_plot('children')"
   ]
  },
  {
   "cell_type": "code",
   "execution_count": 25,
   "metadata": {},
   "outputs": [
    {
     "data": {
      "text/html": [
       "<div>\n",
       "<style scoped>\n",
       "    .dataframe tbody tr th:only-of-type {\n",
       "        vertical-align: middle;\n",
       "    }\n",
       "\n",
       "    .dataframe tbody tr th {\n",
       "        vertical-align: top;\n",
       "    }\n",
       "\n",
       "    .dataframe thead th {\n",
       "        text-align: right;\n",
       "    }\n",
       "</style>\n",
       "<table border=\"1\" class=\"dataframe\">\n",
       "  <thead>\n",
       "    <tr style=\"text-align: right;\">\n",
       "      <th></th>\n",
       "      <th>age</th>\n",
       "      <th>bmi</th>\n",
       "      <th>children</th>\n",
       "      <th>charges</th>\n",
       "    </tr>\n",
       "  </thead>\n",
       "  <tbody>\n",
       "    <tr>\n",
       "      <th>count</th>\n",
       "      <td>1338.000000</td>\n",
       "      <td>1338.000000</td>\n",
       "      <td>1338.000000</td>\n",
       "      <td>1338.000000</td>\n",
       "    </tr>\n",
       "    <tr>\n",
       "      <th>mean</th>\n",
       "      <td>39.207025</td>\n",
       "      <td>30.663397</td>\n",
       "      <td>1.094918</td>\n",
       "      <td>13270.422265</td>\n",
       "    </tr>\n",
       "    <tr>\n",
       "      <th>std</th>\n",
       "      <td>14.049960</td>\n",
       "      <td>6.098187</td>\n",
       "      <td>1.205493</td>\n",
       "      <td>12110.011237</td>\n",
       "    </tr>\n",
       "    <tr>\n",
       "      <th>min</th>\n",
       "      <td>18.000000</td>\n",
       "      <td>15.960000</td>\n",
       "      <td>0.000000</td>\n",
       "      <td>1121.873900</td>\n",
       "    </tr>\n",
       "    <tr>\n",
       "      <th>25%</th>\n",
       "      <td>27.000000</td>\n",
       "      <td>26.296250</td>\n",
       "      <td>0.000000</td>\n",
       "      <td>4740.287150</td>\n",
       "    </tr>\n",
       "    <tr>\n",
       "      <th>50%</th>\n",
       "      <td>39.000000</td>\n",
       "      <td>30.400000</td>\n",
       "      <td>1.000000</td>\n",
       "      <td>9382.033000</td>\n",
       "    </tr>\n",
       "    <tr>\n",
       "      <th>75%</th>\n",
       "      <td>51.000000</td>\n",
       "      <td>34.693750</td>\n",
       "      <td>2.000000</td>\n",
       "      <td>16639.912515</td>\n",
       "    </tr>\n",
       "    <tr>\n",
       "      <th>max</th>\n",
       "      <td>64.000000</td>\n",
       "      <td>53.130000</td>\n",
       "      <td>5.000000</td>\n",
       "      <td>63770.428010</td>\n",
       "    </tr>\n",
       "  </tbody>\n",
       "</table>\n",
       "</div>"
      ],
      "text/plain": [
       "               age          bmi     children       charges\n",
       "count  1338.000000  1338.000000  1338.000000   1338.000000\n",
       "mean     39.207025    30.663397     1.094918  13270.422265\n",
       "std      14.049960     6.098187     1.205493  12110.011237\n",
       "min      18.000000    15.960000     0.000000   1121.873900\n",
       "25%      27.000000    26.296250     0.000000   4740.287150\n",
       "50%      39.000000    30.400000     1.000000   9382.033000\n",
       "75%      51.000000    34.693750     2.000000  16639.912515\n",
       "max      64.000000    53.130000     5.000000  63770.428010"
      ]
     },
     "execution_count": 25,
     "metadata": {},
     "output_type": "execute_result"
    }
   ],
   "source": [
    "data.describe()"
   ]
  },
  {
   "cell_type": "markdown",
   "metadata": {},
   "source": [
    "categorical -> quantitive"
   ]
  },
  {
   "cell_type": "code",
   "execution_count": 26,
   "metadata": {},
   "outputs": [
    {
     "data": {
      "image/png": "[encoded data removed]",
      "text/plain": [
       "<Figure size 576x432 with 1 Axes>"
      ]
     },
     "metadata": {
      "needs_background": "light"
     },
     "output_type": "display_data"
    }
   ],
   "source": [
    "box_plot('sex')"
   ]
  },
  {
   "cell_type": "code",
   "execution_count": 27,
   "metadata": {},
   "outputs": [
    {
     "data": {
      "text/html": [
       "<div>\n",
       "<style scoped>\n",
       "    .dataframe tbody tr th:only-of-type {\n",
       "        vertical-align: middle;\n",
       "    }\n",
       "\n",
       "    .dataframe tbody tr th {\n",
       "        vertical-align: top;\n",
       "    }\n",
       "\n",
       "    .dataframe thead th {\n",
       "        text-align: right;\n",
       "    }\n",
       "</style>\n",
       "<table border=\"1\" class=\"dataframe\">\n",
       "  <thead>\n",
       "    <tr style=\"text-align: right;\">\n",
       "      <th></th>\n",
       "      <th>female</th>\n",
       "      <th>male</th>\n",
       "    </tr>\n",
       "  </thead>\n",
       "  <tbody>\n",
       "    <tr>\n",
       "      <th>count</th>\n",
       "      <td>662.000000</td>\n",
       "      <td>676.000000</td>\n",
       "    </tr>\n",
       "    <tr>\n",
       "      <th>mean</th>\n",
       "      <td>12569.578844</td>\n",
       "      <td>13956.751178</td>\n",
       "    </tr>\n",
       "    <tr>\n",
       "      <th>std</th>\n",
       "      <td>11128.703801</td>\n",
       "      <td>12971.025915</td>\n",
       "    </tr>\n",
       "    <tr>\n",
       "      <th>min</th>\n",
       "      <td>1607.510100</td>\n",
       "      <td>1121.873900</td>\n",
       "    </tr>\n",
       "    <tr>\n",
       "      <th>25%</th>\n",
       "      <td>4885.158700</td>\n",
       "      <td>4619.134000</td>\n",
       "    </tr>\n",
       "    <tr>\n",
       "      <th>50%</th>\n",
       "      <td>9412.962500</td>\n",
       "      <td>9369.615750</td>\n",
       "    </tr>\n",
       "    <tr>\n",
       "      <th>75%</th>\n",
       "      <td>14454.691825</td>\n",
       "      <td>18989.590250</td>\n",
       "    </tr>\n",
       "    <tr>\n",
       "      <th>max</th>\n",
       "      <td>63770.428010</td>\n",
       "      <td>62592.873090</td>\n",
       "    </tr>\n",
       "  </tbody>\n",
       "</table>\n",
       "</div>"
      ],
      "text/plain": [
       "             female          male\n",
       "count    662.000000    676.000000\n",
       "mean   12569.578844  13956.751178\n",
       "std    11128.703801  12971.025915\n",
       "min     1607.510100   1121.873900\n",
       "25%     4885.158700   4619.134000\n",
       "50%     9412.962500   9369.615750\n",
       "75%    14454.691825  18989.590250\n",
       "max    63770.428010  62592.873090"
      ]
     },
     "execution_count": 27,
     "metadata": {},
     "output_type": "execute_result"
    }
   ],
   "source": [
    "descriptive_stats('sex')"
   ]
  },
  {
   "cell_type": "code",
   "execution_count": 28,
   "metadata": {},
   "outputs": [
    {
     "data": {
      "text/plain": [
       "{'female': 65, 'male': 44}"
      ]
     },
     "execution_count": 28,
     "metadata": {},
     "output_type": "execute_result"
    }
   ],
   "source": [
    "count_outliers('sex')"
   ]
  },
  {
   "cell_type": "markdown",
   "metadata": {},
   "source": [
    "median's are close to each other. \n",
    "\n",
    "min, max, Q1, range are close\n",
    "\n",
    "male Q3 is larger than female Q3\n",
    "\n",
    "the largest observation that are not classified as outlier in male's are higher then in female's. \n",
    "\n",
    "female's have more outliers"
   ]
  },
  {
   "cell_type": "code",
   "execution_count": 29,
   "metadata": {},
   "outputs": [
    {
     "data": {
      "image/png": "[encoded data removed]",
      "text/plain": [
       "<Figure size 576x432 with 1 Axes>"
      ]
     },
     "metadata": {
      "needs_background": "light"
     },
     "output_type": "display_data"
    }
   ],
   "source": [
    "box_plot('smoker')"
   ]
  },
  {
   "cell_type": "code",
   "execution_count": 30,
   "metadata": {},
   "outputs": [
    {
     "data": {
      "text/html": [
       "<div>\n",
       "<style scoped>\n",
       "    .dataframe tbody tr th:only-of-type {\n",
       "        vertical-align: middle;\n",
       "    }\n",
       "\n",
       "    .dataframe tbody tr th {\n",
       "        vertical-align: top;\n",
       "    }\n",
       "\n",
       "    .dataframe thead th {\n",
       "        text-align: right;\n",
       "    }\n",
       "</style>\n",
       "<table border=\"1\" class=\"dataframe\">\n",
       "  <thead>\n",
       "    <tr style=\"text-align: right;\">\n",
       "      <th></th>\n",
       "      <th>no</th>\n",
       "      <th>yes</th>\n",
       "    </tr>\n",
       "  </thead>\n",
       "  <tbody>\n",
       "    <tr>\n",
       "      <th>count</th>\n",
       "      <td>1064.000000</td>\n",
       "      <td>274.000000</td>\n",
       "    </tr>\n",
       "    <tr>\n",
       "      <th>mean</th>\n",
       "      <td>8434.268298</td>\n",
       "      <td>32050.231832</td>\n",
       "    </tr>\n",
       "    <tr>\n",
       "      <th>std</th>\n",
       "      <td>5993.781819</td>\n",
       "      <td>11541.547176</td>\n",
       "    </tr>\n",
       "    <tr>\n",
       "      <th>min</th>\n",
       "      <td>1121.873900</td>\n",
       "      <td>12829.455100</td>\n",
       "    </tr>\n",
       "    <tr>\n",
       "      <th>25%</th>\n",
       "      <td>3986.438700</td>\n",
       "      <td>20826.244213</td>\n",
       "    </tr>\n",
       "    <tr>\n",
       "      <th>50%</th>\n",
       "      <td>7345.405300</td>\n",
       "      <td>34456.348450</td>\n",
       "    </tr>\n",
       "    <tr>\n",
       "      <th>75%</th>\n",
       "      <td>11362.887050</td>\n",
       "      <td>41019.207275</td>\n",
       "    </tr>\n",
       "    <tr>\n",
       "      <th>max</th>\n",
       "      <td>36910.608030</td>\n",
       "      <td>63770.428010</td>\n",
       "    </tr>\n",
       "  </tbody>\n",
       "</table>\n",
       "</div>"
      ],
      "text/plain": [
       "                 no           yes\n",
       "count   1064.000000    274.000000\n",
       "mean    8434.268298  32050.231832\n",
       "std     5993.781819  11541.547176\n",
       "min     1121.873900  12829.455100\n",
       "25%     3986.438700  20826.244213\n",
       "50%     7345.405300  34456.348450\n",
       "75%    11362.887050  41019.207275\n",
       "max    36910.608030  63770.428010"
      ]
     },
     "execution_count": 30,
     "metadata": {},
     "output_type": "execute_result"
    }
   ],
   "source": [
    "descriptive_stats('smoker')"
   ]
  },
  {
   "cell_type": "markdown",
   "metadata": {},
   "source": [
    "there is huge difference between smokers and non-smokers\n",
    "\n",
    "every statistic of smokers is higher than non-smokers\n",
    "\n",
    "there are many outliers in non-smokers"
   ]
  },
  {
   "cell_type": "code",
   "execution_count": 31,
   "metadata": {},
   "outputs": [
    {
     "data": {
      "image/png": "[encoded data removed]",
      "text/plain": [
       "<Figure size 576x432 with 1 Axes>"
      ]
     },
     "metadata": {
      "needs_background": "light"
     },
     "output_type": "display_data"
    }
   ],
   "source": [
    "box_plot('region')"
   ]
  },
  {
   "cell_type": "code",
   "execution_count": 32,
   "metadata": {},
   "outputs": [
    {
     "data": {
      "text/html": [
       "<div>\n",
       "<style scoped>\n",
       "    .dataframe tbody tr th:only-of-type {\n",
       "        vertical-align: middle;\n",
       "    }\n",
       "\n",
       "    .dataframe tbody tr th {\n",
       "        vertical-align: top;\n",
       "    }\n",
       "\n",
       "    .dataframe thead th {\n",
       "        text-align: right;\n",
       "    }\n",
       "</style>\n",
       "<table border=\"1\" class=\"dataframe\">\n",
       "  <thead>\n",
       "    <tr style=\"text-align: right;\">\n",
       "      <th></th>\n",
       "      <th>northeast</th>\n",
       "      <th>northwest</th>\n",
       "      <th>southeast</th>\n",
       "      <th>southwest</th>\n",
       "    </tr>\n",
       "  </thead>\n",
       "  <tbody>\n",
       "    <tr>\n",
       "      <th>count</th>\n",
       "      <td>324.000000</td>\n",
       "      <td>325.000000</td>\n",
       "      <td>364.000000</td>\n",
       "      <td>325.000000</td>\n",
       "    </tr>\n",
       "    <tr>\n",
       "      <th>mean</th>\n",
       "      <td>13406.384516</td>\n",
       "      <td>12417.575374</td>\n",
       "      <td>14735.411438</td>\n",
       "      <td>12346.937377</td>\n",
       "    </tr>\n",
       "    <tr>\n",
       "      <th>std</th>\n",
       "      <td>11255.803066</td>\n",
       "      <td>11072.276928</td>\n",
       "      <td>13971.098589</td>\n",
       "      <td>11557.179101</td>\n",
       "    </tr>\n",
       "    <tr>\n",
       "      <th>min</th>\n",
       "      <td>1694.796400</td>\n",
       "      <td>1621.340200</td>\n",
       "      <td>1121.873900</td>\n",
       "      <td>1241.565000</td>\n",
       "    </tr>\n",
       "    <tr>\n",
       "      <th>25%</th>\n",
       "      <td>5194.322288</td>\n",
       "      <td>4719.736550</td>\n",
       "      <td>4440.886200</td>\n",
       "      <td>4751.070000</td>\n",
       "    </tr>\n",
       "    <tr>\n",
       "      <th>50%</th>\n",
       "      <td>10057.652025</td>\n",
       "      <td>8965.795750</td>\n",
       "      <td>9294.131950</td>\n",
       "      <td>8798.593000</td>\n",
       "    </tr>\n",
       "    <tr>\n",
       "      <th>75%</th>\n",
       "      <td>16687.364100</td>\n",
       "      <td>14711.743800</td>\n",
       "      <td>19526.286900</td>\n",
       "      <td>13462.520000</td>\n",
       "    </tr>\n",
       "    <tr>\n",
       "      <th>max</th>\n",
       "      <td>58571.074480</td>\n",
       "      <td>60021.398970</td>\n",
       "      <td>63770.428010</td>\n",
       "      <td>52590.829390</td>\n",
       "    </tr>\n",
       "  </tbody>\n",
       "</table>\n",
       "</div>"
      ],
      "text/plain": [
       "          northeast     northwest     southeast     southwest\n",
       "count    324.000000    325.000000    364.000000    325.000000\n",
       "mean   13406.384516  12417.575374  14735.411438  12346.937377\n",
       "std    11255.803066  11072.276928  13971.098589  11557.179101\n",
       "min     1694.796400   1621.340200   1121.873900   1241.565000\n",
       "25%     5194.322288   4719.736550   4440.886200   4751.070000\n",
       "50%    10057.652025   8965.795750   9294.131950   8798.593000\n",
       "75%    16687.364100  14711.743800  19526.286900  13462.520000\n",
       "max    58571.074480  60021.398970  63770.428010  52590.829390"
      ]
     },
     "execution_count": 32,
     "metadata": {},
     "output_type": "execute_result"
    }
   ],
   "source": [
    "descriptive_stats('region')"
   ]
  },
  {
   "cell_type": "code",
   "execution_count": 33,
   "metadata": {},
   "outputs": [
    {
     "data": {
      "text/plain": [
       "{'northeast': 29, 'northwest': 29, 'southeast': 26, 'southwest': 38}"
      ]
     },
     "execution_count": 33,
     "metadata": {},
     "output_type": "execute_result"
    }
   ],
   "source": [
    "count_outliers('region')"
   ]
  },
  {
   "cell_type": "markdown",
   "metadata": {},
   "source": [
    "median of regions are close to each other\n",
    "\n",
    "range of southeast are the highest\n",
    "\n",
    "southwest have more outliers"
   ]
  },
  {
   "cell_type": "markdown",
   "metadata": {},
   "source": [
    "As a result we can conclude that smokers have the biggest impact on the target variable\n",
    "\n",
    "region and sex - not."
   ]
  },
  {
   "cell_type": "markdown",
   "metadata": {},
   "source": [
    "categorical variables to numerical"
   ]
  },
  {
   "cell_type": "code",
   "execution_count": 34,
   "metadata": {},
   "outputs": [],
   "source": [
    "data['sex'] = data['sex'].apply(lambda x: 0 if x == 'female' else 1)\n",
    "data['smoker'] = data['smoker'].apply(lambda x: 0 if x == 'no' else 1)"
   ]
  },
  {
   "cell_type": "markdown",
   "metadata": {},
   "source": [
    "Data engineering"
   ]
  },
  {
   "cell_type": "code",
   "execution_count": 35,
   "metadata": {},
   "outputs": [],
   "source": [
    "data['has_no_child'] = 1\n",
    "data['has_no_child'].loc[data['children'] > 0] = 0"
   ]
  },
  {
   "cell_type": "code",
   "execution_count": 36,
   "metadata": {},
   "outputs": [],
   "source": [
    "data['bmi/age'] = data['bmi'] / data['age']"
   ]
  },
  {
   "cell_type": "code",
   "execution_count": 37,
   "metadata": {},
   "outputs": [],
   "source": [
    "data['children/age'] = data['children'] / data['age']"
   ]
  },
  {
   "cell_type": "code",
   "execution_count": 38,
   "metadata": {},
   "outputs": [
    {
     "data": {
      "text/html": [
       "<div>\n",
       "<style scoped>\n",
       "    .dataframe tbody tr th:only-of-type {\n",
       "        vertical-align: middle;\n",
       "    }\n",
       "\n",
       "    .dataframe tbody tr th {\n",
       "        vertical-align: top;\n",
       "    }\n",
       "\n",
       "    .dataframe thead th {\n",
       "        text-align: right;\n",
       "    }\n",
       "</style>\n",
       "<table border=\"1\" class=\"dataframe\">\n",
       "  <thead>\n",
       "    <tr style=\"text-align: right;\">\n",
       "      <th></th>\n",
       "      <th>age</th>\n",
       "      <th>sex</th>\n",
       "      <th>bmi</th>\n",
       "      <th>children</th>\n",
       "      <th>smoker</th>\n",
       "      <th>region</th>\n",
       "      <th>charges</th>\n",
       "      <th>has_no_child</th>\n",
       "      <th>bmi/age</th>\n",
       "      <th>children/age</th>\n",
       "    </tr>\n",
       "  </thead>\n",
       "  <tbody>\n",
       "    <tr>\n",
       "      <th>0</th>\n",
       "      <td>19</td>\n",
       "      <td>0</td>\n",
       "      <td>27.900</td>\n",
       "      <td>0</td>\n",
       "      <td>1</td>\n",
       "      <td>southwest</td>\n",
       "      <td>16884.92400</td>\n",
       "      <td>1</td>\n",
       "      <td>1.468421</td>\n",
       "      <td>0.000000</td>\n",
       "    </tr>\n",
       "    <tr>\n",
       "      <th>1</th>\n",
       "      <td>18</td>\n",
       "      <td>1</td>\n",
       "      <td>33.770</td>\n",
       "      <td>1</td>\n",
       "      <td>0</td>\n",
       "      <td>southeast</td>\n",
       "      <td>1725.55230</td>\n",
       "      <td>0</td>\n",
       "      <td>1.876111</td>\n",
       "      <td>0.055556</td>\n",
       "    </tr>\n",
       "    <tr>\n",
       "      <th>2</th>\n",
       "      <td>28</td>\n",
       "      <td>1</td>\n",
       "      <td>33.000</td>\n",
       "      <td>3</td>\n",
       "      <td>0</td>\n",
       "      <td>southeast</td>\n",
       "      <td>4449.46200</td>\n",
       "      <td>0</td>\n",
       "      <td>1.178571</td>\n",
       "      <td>0.107143</td>\n",
       "    </tr>\n",
       "    <tr>\n",
       "      <th>3</th>\n",
       "      <td>33</td>\n",
       "      <td>1</td>\n",
       "      <td>22.705</td>\n",
       "      <td>0</td>\n",
       "      <td>0</td>\n",
       "      <td>northwest</td>\n",
       "      <td>21984.47061</td>\n",
       "      <td>1</td>\n",
       "      <td>0.688030</td>\n",
       "      <td>0.000000</td>\n",
       "    </tr>\n",
       "    <tr>\n",
       "      <th>4</th>\n",
       "      <td>32</td>\n",
       "      <td>1</td>\n",
       "      <td>28.880</td>\n",
       "      <td>0</td>\n",
       "      <td>0</td>\n",
       "      <td>northwest</td>\n",
       "      <td>3866.85520</td>\n",
       "      <td>1</td>\n",
       "      <td>0.902500</td>\n",
       "      <td>0.000000</td>\n",
       "    </tr>\n",
       "  </tbody>\n",
       "</table>\n",
       "</div>"
      ],
      "text/plain": [
       "   age  sex     bmi  children  smoker     region      charges  has_no_child  \\\n",
       "0   19    0  27.900         0       1  southwest  16884.92400             1   \n",
       "1   18    1  33.770         1       0  southeast   1725.55230             0   \n",
       "2   28    1  33.000         3       0  southeast   4449.46200             0   \n",
       "3   33    1  22.705         0       0  northwest  21984.47061             1   \n",
       "4   32    1  28.880         0       0  northwest   3866.85520             1   \n",
       "\n",
       "    bmi/age  children/age  \n",
       "0  1.468421      0.000000  \n",
       "1  1.876111      0.055556  \n",
       "2  1.178571      0.107143  \n",
       "3  0.688030      0.000000  \n",
       "4  0.902500      0.000000  "
      ]
     },
     "execution_count": 38,
     "metadata": {},
     "output_type": "execute_result"
    }
   ],
   "source": [
    "data.head()"
   ]
  },
  {
   "cell_type": "code",
   "execution_count": 39,
   "metadata": {},
   "outputs": [
    {
     "data": {
      "image/png": "[encoded data removed]",
      "text/plain": [
       "<Figure size 432x288 with 2 Axes>"
      ]
     },
     "metadata": {
      "needs_background": "light"
     },
     "output_type": "display_data"
    }
   ],
   "source": [
    "corrmat_plot(len(data))"
   ]
  },
  {
   "cell_type": "code",
   "execution_count": 40,
   "metadata": {},
   "outputs": [],
   "source": [
    "data['region'] = data['region'].astype('category')\n",
    "data['region_cat'] = data['region'].cat.codes\n",
    "data.drop(['region'], inplace=True, axis=1)"
   ]
  },
  {
   "cell_type": "code",
   "execution_count": 41,
   "metadata": {},
   "outputs": [],
   "source": [
    "from sklearn.preprocessing import MinMaxScaler\n",
    "from sklearn.metrics import mean_squared_error"
   ]
  },
  {
   "cell_type": "code",
   "execution_count": 42,
   "metadata": {},
   "outputs": [],
   "source": [
    "y = data[target]\n",
    "X = data.drop([target], axis=1)"
   ]
  },
  {
   "cell_type": "code",
   "execution_count": 43,
   "metadata": {},
   "outputs": [
    {
     "data": {
      "text/plain": [
       "((1338, 9), (1338,))"
      ]
     },
     "execution_count": 43,
     "metadata": {},
     "output_type": "execute_result"
    }
   ],
   "source": [
    "X.shape, y.shape"
   ]
  },
  {
   "cell_type": "code",
   "execution_count": 44,
   "metadata": {},
   "outputs": [],
   "source": [
    "X_train, X_test, y_train, y_test = train_test_split(X, y, random_state=21, test_size=0.33)"
   ]
  },
  {
   "cell_type": "markdown",
   "metadata": {},
   "source": [
    "### normalize the data"
   ]
  },
  {
   "cell_type": "code",
   "execution_count": 45,
   "metadata": {},
   "outputs": [],
   "source": [
    "scaler = MinMaxScaler().fit(X_train)"
   ]
  },
  {
   "cell_type": "code",
   "execution_count": 46,
   "metadata": {},
   "outputs": [],
   "source": [
    "X_train_scaled = scaler.transform(X_train)"
   ]
  },
  {
   "cell_type": "markdown",
   "metadata": {},
   "source": [
    "use the same scaler to the test set to "
   ]
  },
  {
   "cell_type": "code",
   "execution_count": 47,
   "metadata": {},
   "outputs": [],
   "source": [
    "X_test_scaled = scaler.transform(X_test)"
   ]
  },
  {
   "cell_type": "code",
   "execution_count": 106,
   "metadata": {},
   "outputs": [],
   "source": [
    "eval_set = [(X_train, y_train), (X_test, y_test)]"
   ]
  },
  {
   "cell_type": "markdown",
   "metadata": {},
   "source": [
    "## Training"
   ]
  },
  {
   "cell_type": "markdown",
   "metadata": {},
   "source": [
    "Our data is not linear, that why we should use something else than linear models."
   ]
  },
  {
   "cell_type": "code",
   "execution_count": 96,
   "metadata": {},
   "outputs": [],
   "source": [
    "from sklearn import linear_model\n",
    "from sklearn import ensemble\n",
    "import xgboost\n",
    "from sklearn.model_selection import GridSearchCV\n",
    "\n",
    "from sklearn.metrics import make_scorer\n",
    "from sklearn.metrics import mean_squared_error"
   ]
  },
  {
   "cell_type": "code",
   "execution_count": 98,
   "metadata": {},
   "outputs": [],
   "source": [
    "neg_mse = make_scorer(mean_squared_error, greater_is_better=False)"
   ]
  },
  {
   "cell_type": "code",
   "execution_count": 119,
   "metadata": {},
   "outputs": [],
   "source": [
    "class XGBoostHelper:\n",
    "    def __init__(self, xgboost_params):\n",
    "        self.xgboost_params = xgboost_params\n",
    "        self.model = None\n",
    "        self.results_ = {}\n",
    "    \n",
    "    def train(self, eval_set):\n",
    "        self.model = xgboost.XGBRegressor(**self.xgboost_params).fit(X_train, y_train,\n",
    "                                                                     eval_metric=[\"rmse\"], eval_set=eval_set,\n",
    "                                                                     early_stopping_rounds=10)\n",
    "        self.results_ = self.model.evals_result()\n",
    "\n",
    "    def results(self, X_train, y_train, X_test, y_test):    \n",
    "        print(\"with params:\")\n",
    "        [print(f\"{x:<25} - {xgboost_params[x]}\") for x in xgboost_params]\n",
    "        print(f\"train R2 is {self.model.score(X_train, y_train)}\\nRMSE is {np.sqrt(mean_squared_error(y_train, self.model.predict(X_train)))}\")\n",
    "        print(f\"test  R2 is {self.model.score(X_test, y_test)}\\nRMSE is {np.sqrt(mean_squared_error(y_test, self.model.predict(X_test)))}\")"
   ]
  },
  {
   "cell_type": "code",
   "execution_count": 120,
   "metadata": {},
   "outputs": [],
   "source": [
    "xgboost_params = {'gamma':0,                 \n",
    "                 'learning_rate':0.03,\n",
    "                 'max_depth':10,\n",
    "                 'min_child_weight':1,\n",
    "                 'n_estimators':1000,                                                                    \n",
    "                 'reg_alpha':2,\n",
    "                 'reg_lambda':1,\n",
    "                 'subsample':0.7,\n",
    "                 'objective':'reg:squarederror'}"
   ]
  },
  {
   "cell_type": "code",
   "execution_count": 121,
   "metadata": {
    "scrolled": true
   },
   "outputs": [
    {
     "name": "stdout",
     "output_type": "stream",
     "text": [
      "[0]\tvalidation_0-rmse:17187.9\tvalidation_1-rmse:18023.7\n",
      "Multiple eval metrics have been passed: 'validation_1-rmse' will be used for early stopping.\n",
      "\n",
      "Will train until validation_1-rmse hasn't improved in 10 rounds.\n",
      "[1]\tvalidation_0-rmse:16715\tvalidation_1-rmse:17535.4\n",
      "[2]\tvalidation_0-rmse:16257.8\tvalidation_1-rmse:17064.2\n",
      "[3]\tvalidation_0-rmse:15821.6\tvalidation_1-rmse:16618.9\n",
      "[4]\tvalidation_0-rmse:15390.5\tvalidation_1-rmse:16178.5\n",
      "[5]\tvalidation_0-rmse:14972.1\tvalidation_1-rmse:15749.4\n",
      "[6]\tvalidation_0-rmse:14566.3\tvalidation_1-rmse:15334.2\n",
      "[7]\tvalidation_0-rmse:14174.4\tvalidation_1-rmse:14939.2\n",
      "[8]\tvalidation_0-rmse:13787.5\tvalidation_1-rmse:14550.9\n",
      "[9]\tvalidation_0-rmse:13422.5\tvalidation_1-rmse:14177.6\n",
      "[10]\tvalidation_0-rmse:13064\tvalidation_1-rmse:13817.6\n",
      "[11]\tvalidation_0-rmse:12715.6\tvalidation_1-rmse:13465.5\n",
      "[12]\tvalidation_0-rmse:12379\tvalidation_1-rmse:13127.9\n",
      "[13]\tvalidation_0-rmse:12052\tvalidation_1-rmse:12804\n",
      "[14]\tvalidation_0-rmse:11740.5\tvalidation_1-rmse:12495.1\n",
      "[15]\tvalidation_0-rmse:11434.9\tvalidation_1-rmse:12196.2\n",
      "[16]\tvalidation_0-rmse:11142.3\tvalidation_1-rmse:11909\n",
      "[17]\tvalidation_0-rmse:10856.5\tvalidation_1-rmse:11631.7\n",
      "[18]\tvalidation_0-rmse:10573.8\tvalidation_1-rmse:11367.4\n",
      "[19]\tvalidation_0-rmse:10310.2\tvalidation_1-rmse:11111\n",
      "[20]\tvalidation_0-rmse:10037.9\tvalidation_1-rmse:10854.2\n",
      "[21]\tvalidation_0-rmse:9786.74\tvalidation_1-rmse:10621\n",
      "[22]\tvalidation_0-rmse:9535.89\tvalidation_1-rmse:10382.6\n",
      "[23]\tvalidation_0-rmse:9294.24\tvalidation_1-rmse:10152.7\n",
      "[24]\tvalidation_0-rmse:9063.02\tvalidation_1-rmse:9931.64\n",
      "[25]\tvalidation_0-rmse:8838.89\tvalidation_1-rmse:9722.41\n",
      "[26]\tvalidation_0-rmse:8623.64\tvalidation_1-rmse:9522.99\n",
      "[27]\tvalidation_0-rmse:8413.47\tvalidation_1-rmse:9331.32\n",
      "[28]\tvalidation_0-rmse:8204.47\tvalidation_1-rmse:9151.6\n",
      "[29]\tvalidation_0-rmse:8009.34\tvalidation_1-rmse:8968.04\n",
      "[30]\tvalidation_0-rmse:7816.91\tvalidation_1-rmse:8798.55\n",
      "[31]\tvalidation_0-rmse:7632.46\tvalidation_1-rmse:8632.6\n",
      "[32]\tvalidation_0-rmse:7449.19\tvalidation_1-rmse:8469.34\n",
      "[33]\tvalidation_0-rmse:7272.12\tvalidation_1-rmse:8315.49\n",
      "[34]\tvalidation_0-rmse:7102.13\tvalidation_1-rmse:8169.4\n",
      "[35]\tvalidation_0-rmse:6940.82\tvalidation_1-rmse:8027.17\n",
      "[36]\tvalidation_0-rmse:6782.43\tvalidation_1-rmse:7898.03\n",
      "[37]\tvalidation_0-rmse:6621.97\tvalidation_1-rmse:7763.69\n",
      "[38]\tvalidation_0-rmse:6468.25\tvalidation_1-rmse:7638.78\n",
      "[39]\tvalidation_0-rmse:6325.57\tvalidation_1-rmse:7522.98\n",
      "[40]\tvalidation_0-rmse:6182.4\tvalidation_1-rmse:7410.81\n",
      "[41]\tvalidation_0-rmse:6046.92\tvalidation_1-rmse:7306.43\n",
      "[42]\tvalidation_0-rmse:5915.11\tvalidation_1-rmse:7200.2\n",
      "[43]\tvalidation_0-rmse:5783.38\tvalidation_1-rmse:7098.32\n",
      "[44]\tvalidation_0-rmse:5655.12\tvalidation_1-rmse:7004.17\n",
      "[45]\tvalidation_0-rmse:5536.31\tvalidation_1-rmse:6912\n",
      "[46]\tvalidation_0-rmse:5420.67\tvalidation_1-rmse:6823.99\n",
      "[47]\tvalidation_0-rmse:5306.39\tvalidation_1-rmse:6743.8\n",
      "[48]\tvalidation_0-rmse:5195.82\tvalidation_1-rmse:6659.18\n",
      "[49]\tvalidation_0-rmse:5086.42\tvalidation_1-rmse:6585.69\n",
      "[50]\tvalidation_0-rmse:4976.63\tvalidation_1-rmse:6512.03\n",
      "[51]\tvalidation_0-rmse:4872.01\tvalidation_1-rmse:6436.1\n",
      "[52]\tvalidation_0-rmse:4770.61\tvalidation_1-rmse:6368.78\n",
      "[53]\tvalidation_0-rmse:4674.87\tvalidation_1-rmse:6307.27\n",
      "[54]\tvalidation_0-rmse:4583.52\tvalidation_1-rmse:6250.67\n",
      "[55]\tvalidation_0-rmse:4498.79\tvalidation_1-rmse:6192.58\n",
      "[56]\tvalidation_0-rmse:4413.5\tvalidation_1-rmse:6135.22\n",
      "[57]\tvalidation_0-rmse:4335.48\tvalidation_1-rmse:6081.5\n",
      "[58]\tvalidation_0-rmse:4254.59\tvalidation_1-rmse:6034.07\n",
      "[59]\tvalidation_0-rmse:4172.33\tvalidation_1-rmse:5985.9\n",
      "[60]\tvalidation_0-rmse:4097.56\tvalidation_1-rmse:5941.22\n",
      "[61]\tvalidation_0-rmse:4018.27\tvalidation_1-rmse:5893.38\n",
      "[62]\tvalidation_0-rmse:3944.87\tvalidation_1-rmse:5849.74\n",
      "[63]\tvalidation_0-rmse:3871.49\tvalidation_1-rmse:5813.81\n",
      "[64]\tvalidation_0-rmse:3810.12\tvalidation_1-rmse:5777.57\n",
      "[65]\tvalidation_0-rmse:3741.47\tvalidation_1-rmse:5740.02\n",
      "[66]\tvalidation_0-rmse:3679.87\tvalidation_1-rmse:5701.6\n",
      "[67]\tvalidation_0-rmse:3614.54\tvalidation_1-rmse:5666.65\n",
      "[68]\tvalidation_0-rmse:3554.06\tvalidation_1-rmse:5634.72\n",
      "[69]\tvalidation_0-rmse:3498\tvalidation_1-rmse:5606.91\n",
      "[70]\tvalidation_0-rmse:3440.64\tvalidation_1-rmse:5579.14\n",
      "[71]\tvalidation_0-rmse:3380.82\tvalidation_1-rmse:5555.6\n",
      "[72]\tvalidation_0-rmse:3323.41\tvalidation_1-rmse:5530.91\n",
      "[73]\tvalidation_0-rmse:3269.16\tvalidation_1-rmse:5504.2\n",
      "[74]\tvalidation_0-rmse:3216.15\tvalidation_1-rmse:5479.04\n",
      "[75]\tvalidation_0-rmse:3169.77\tvalidation_1-rmse:5454.1\n",
      "[76]\tvalidation_0-rmse:3124.19\tvalidation_1-rmse:5434.91\n",
      "[77]\tvalidation_0-rmse:3075.99\tvalidation_1-rmse:5412.94\n",
      "[78]\tvalidation_0-rmse:3025.06\tvalidation_1-rmse:5394.68\n",
      "[79]\tvalidation_0-rmse:2977.89\tvalidation_1-rmse:5380.4\n",
      "[80]\tvalidation_0-rmse:2926.5\tvalidation_1-rmse:5361.08\n",
      "[81]\tvalidation_0-rmse:2880.97\tvalidation_1-rmse:5348.71\n",
      "[82]\tvalidation_0-rmse:2837.73\tvalidation_1-rmse:5332.94\n",
      "[83]\tvalidation_0-rmse:2794.58\tvalidation_1-rmse:5320.65\n",
      "[84]\tvalidation_0-rmse:2757.13\tvalidation_1-rmse:5302.79\n",
      "[85]\tvalidation_0-rmse:2719.04\tvalidation_1-rmse:5289.74\n",
      "[86]\tvalidation_0-rmse:2676.53\tvalidation_1-rmse:5278.16\n",
      "[87]\tvalidation_0-rmse:2640.11\tvalidation_1-rmse:5267.35\n",
      "[88]\tvalidation_0-rmse:2602.27\tvalidation_1-rmse:5254.69\n",
      "[89]\tvalidation_0-rmse:2568.08\tvalidation_1-rmse:5243.71\n",
      "[90]\tvalidation_0-rmse:2530.57\tvalidation_1-rmse:5232.57\n",
      "[91]\tvalidation_0-rmse:2492.96\tvalidation_1-rmse:5222.85\n",
      "[92]\tvalidation_0-rmse:2459.5\tvalidation_1-rmse:5214.02\n",
      "[93]\tvalidation_0-rmse:2422.84\tvalidation_1-rmse:5207.73\n",
      "[94]\tvalidation_0-rmse:2393.36\tvalidation_1-rmse:5202.2\n",
      "[95]\tvalidation_0-rmse:2363.03\tvalidation_1-rmse:5195.17\n",
      "[96]\tvalidation_0-rmse:2329.84\tvalidation_1-rmse:5186.81\n",
      "[97]\tvalidation_0-rmse:2297.52\tvalidation_1-rmse:5180.66\n",
      "[98]\tvalidation_0-rmse:2268.2\tvalidation_1-rmse:5173.56\n",
      "[99]\tvalidation_0-rmse:2238.7\tvalidation_1-rmse:5165.9\n",
      "[100]\tvalidation_0-rmse:2207.86\tvalidation_1-rmse:5161.73\n",
      "[101]\tvalidation_0-rmse:2180.07\tvalidation_1-rmse:5156.18\n",
      "[102]\tvalidation_0-rmse:2152.59\tvalidation_1-rmse:5148.52\n",
      "[103]\tvalidation_0-rmse:2128.2\tvalidation_1-rmse:5143.25\n",
      "[104]\tvalidation_0-rmse:2105.25\tvalidation_1-rmse:5139.28\n",
      "[105]\tvalidation_0-rmse:2081.35\tvalidation_1-rmse:5134.45\n",
      "[106]\tvalidation_0-rmse:2055.27\tvalidation_1-rmse:5131.49\n",
      "[107]\tvalidation_0-rmse:2028.73\tvalidation_1-rmse:5128.78\n",
      "[108]\tvalidation_0-rmse:2003.2\tvalidation_1-rmse:5122.51\n",
      "[109]\tvalidation_0-rmse:1981.27\tvalidation_1-rmse:5118.82\n",
      "[110]\tvalidation_0-rmse:1955.97\tvalidation_1-rmse:5118.28\n",
      "[111]\tvalidation_0-rmse:1935.82\tvalidation_1-rmse:5113.25\n",
      "[112]\tvalidation_0-rmse:1914.03\tvalidation_1-rmse:5110.5\n",
      "[113]\tvalidation_0-rmse:1893.97\tvalidation_1-rmse:5110.07\n",
      "[114]\tvalidation_0-rmse:1873.77\tvalidation_1-rmse:5104.9\n",
      "[115]\tvalidation_0-rmse:1853.81\tvalidation_1-rmse:5103.14\n",
      "[116]\tvalidation_0-rmse:1832.72\tvalidation_1-rmse:5102.56\n",
      "[117]\tvalidation_0-rmse:1810.51\tvalidation_1-rmse:5100.49\n",
      "[118]\tvalidation_0-rmse:1791.02\tvalidation_1-rmse:5098.08\n",
      "[119]\tvalidation_0-rmse:1773.39\tvalidation_1-rmse:5099.05\n",
      "[120]\tvalidation_0-rmse:1755.35\tvalidation_1-rmse:5096.18\n",
      "[121]\tvalidation_0-rmse:1735.93\tvalidation_1-rmse:5095.52\n",
      "[122]\tvalidation_0-rmse:1717.92\tvalidation_1-rmse:5095.98\n",
      "[123]\tvalidation_0-rmse:1697.6\tvalidation_1-rmse:5095.3\n",
      "[124]\tvalidation_0-rmse:1680.12\tvalidation_1-rmse:5095.45\n",
      "[125]\tvalidation_0-rmse:1663.08\tvalidation_1-rmse:5097.61\n",
      "[126]\tvalidation_0-rmse:1644.95\tvalidation_1-rmse:5097.57\n",
      "[127]\tvalidation_0-rmse:1630.02\tvalidation_1-rmse:5098.37\n",
      "[128]\tvalidation_0-rmse:1611.93\tvalidation_1-rmse:5098.33\n",
      "[129]\tvalidation_0-rmse:1595.33\tvalidation_1-rmse:5099.21\n",
      "[130]\tvalidation_0-rmse:1578.13\tvalidation_1-rmse:5099.82\n",
      "[131]\tvalidation_0-rmse:1561.9\tvalidation_1-rmse:5101.29\n",
      "[132]\tvalidation_0-rmse:1548.38\tvalidation_1-rmse:5100.53\n",
      "[133]\tvalidation_0-rmse:1536.09\tvalidation_1-rmse:5100.3\n",
      "Stopping. Best iteration:\n",
      "[123]\tvalidation_0-rmse:1697.6\tvalidation_1-rmse:5095.3\n",
      "\n",
      "with params:\n",
      "gamma                     - 0\n",
      "learning_rate             - 0.03\n",
      "max_depth                 - 10\n",
      "min_child_weight          - 1\n",
      "n_estimators              - 1000\n",
      "reg_alpha                 - 2\n",
      "reg_lambda                - 1\n",
      "subsample                 - 0.7\n",
      "objective                 - reg:squarederror\n",
      "train R2 is 0.9804069461533061\n",
      "RMSE is 1697.5996385017147\n"
     ]
    },
    {
     "name": "stdout",
     "output_type": "stream",
     "text": [
      "test  R2 is 0.8202204419985486\n",
      "RMSE is 5095.300764759127\n"
     ]
    }
   ],
   "source": [
    "xgboost_helper = XGBoostHelper(xgboost_params)\n",
    "xgboost_helper.train(eval_set)\n",
    "xgboost_helper.results(X_train, y_train, X_test, y_test)"
   ]
  },
  {
   "cell_type": "code",
   "execution_count": 122,
   "metadata": {},
   "outputs": [
    {
     "data": {
      "image/png": "[encoded data removed]",
      "text/plain": [
       "<Figure size 432x288 with 1 Axes>"
      ]
     },
     "metadata": {
      "needs_background": "light"
     },
     "output_type": "display_data"
    }
   ],
   "source": [
    "results = xgboost_helper.results_\n",
    "fig, ax = plt.subplots()\n",
    "ax.plot(results['validation_0']['rmse'], label='train')\n",
    "ax.plot(results['validation_1']['rmse'], label='test')\n",
    "ax.legend()\n",
    "plt.ylabel('rmse')\n",
    "plt.title('XGBoost rmse')\n",
    "plt.show()"
   ]
  },
  {
   "cell_type": "markdown",
   "metadata": {},
   "source": [
    "Now our model is overfitting. So we need to generalize model.\n",
    "\n",
    "We can \n",
    " - decrease \n",
    "     * learning_rate\n",
    "     * max_depth\n",
    " - increase \n",
    "     * reg_alpha\n",
    "     * reg_lambda"
   ]
  },
  {
   "cell_type": "code",
   "execution_count": 123,
   "metadata": {},
   "outputs": [
    {
     "name": "stdout",
     "output_type": "stream",
     "text": [
      "[0]\tvalidation_0-rmse:17532.7\tvalidation_1-rmse:18378.4\n",
      "Multiple eval metrics have been passed: 'validation_1-rmse' will be used for early stopping.\n",
      "\n",
      "Will train until validation_1-rmse hasn't improved in 10 rounds.\n",
      "[1]\tvalidation_0-rmse:17388.6\tvalidation_1-rmse:18228.8\n",
      "[2]\tvalidation_0-rmse:17248.1\tvalidation_1-rmse:18083\n",
      "[3]\tvalidation_0-rmse:17111\tvalidation_1-rmse:17940.6\n",
      "[4]\tvalidation_0-rmse:16972.7\tvalidation_1-rmse:17796.7\n",
      "[5]\tvalidation_0-rmse:16835\tvalidation_1-rmse:17653.1\n",
      "[6]\tvalidation_0-rmse:16696.5\tvalidation_1-rmse:17509.3\n",
      "[7]\tvalidation_0-rmse:16559.2\tvalidation_1-rmse:17366.9\n",
      "[8]\tvalidation_0-rmse:16425.3\tvalidation_1-rmse:17227.7\n",
      "[9]\tvalidation_0-rmse:16294.2\tvalidation_1-rmse:17091.2\n",
      "[10]\tvalidation_0-rmse:16163.2\tvalidation_1-rmse:16955.2\n",
      "[11]\tvalidation_0-rmse:16032.5\tvalidation_1-rmse:16818.8\n",
      "[12]\tvalidation_0-rmse:15902.6\tvalidation_1-rmse:16684.1\n",
      "[13]\tvalidation_0-rmse:15775.3\tvalidation_1-rmse:16551.3\n",
      "[14]\tvalidation_0-rmse:15649.8\tvalidation_1-rmse:16421.1\n",
      "[15]\tvalidation_0-rmse:15523.3\tvalidation_1-rmse:16289.7\n",
      "[16]\tvalidation_0-rmse:15398.4\tvalidation_1-rmse:16160.4\n",
      "[17]\tvalidation_0-rmse:15277.5\tvalidation_1-rmse:16036.6\n",
      "[18]\tvalidation_0-rmse:15155.7\tvalidation_1-rmse:15910.3\n",
      "[19]\tvalidation_0-rmse:15035.5\tvalidation_1-rmse:15785.2\n",
      "[20]\tvalidation_0-rmse:14915.9\tvalidation_1-rmse:15661.1\n",
      "[21]\tvalidation_0-rmse:14798.1\tvalidation_1-rmse:15539.3\n",
      "[22]\tvalidation_0-rmse:14680.2\tvalidation_1-rmse:15416.4\n",
      "[23]\tvalidation_0-rmse:14562.8\tvalidation_1-rmse:15293.8\n",
      "[24]\tvalidation_0-rmse:14448.2\tvalidation_1-rmse:15174.5\n",
      "[25]\tvalidation_0-rmse:14334.2\tvalidation_1-rmse:15056.4\n",
      "[26]\tvalidation_0-rmse:14221.3\tvalidation_1-rmse:14938.9\n",
      "[27]\tvalidation_0-rmse:14109.3\tvalidation_1-rmse:14822.9\n",
      "[28]\tvalidation_0-rmse:13997.3\tvalidation_1-rmse:14706.8\n",
      "[29]\tvalidation_0-rmse:13888.4\tvalidation_1-rmse:14593.4\n",
      "[30]\tvalidation_0-rmse:13779.2\tvalidation_1-rmse:14479.9\n",
      "[31]\tvalidation_0-rmse:13671.8\tvalidation_1-rmse:14368.6\n",
      "[32]\tvalidation_0-rmse:13564.3\tvalidation_1-rmse:14257.3\n",
      "[33]\tvalidation_0-rmse:13459.9\tvalidation_1-rmse:14149.2\n",
      "[34]\tvalidation_0-rmse:13355.5\tvalidation_1-rmse:14040.7\n",
      "[35]\tvalidation_0-rmse:13254.4\tvalidation_1-rmse:13935.6\n",
      "[36]\tvalidation_0-rmse:13153.9\tvalidation_1-rmse:13831.4\n",
      "[37]\tvalidation_0-rmse:13052.3\tvalidation_1-rmse:13726\n",
      "[38]\tvalidation_0-rmse:12952.1\tvalidation_1-rmse:13621.8\n",
      "[39]\tvalidation_0-rmse:12854.4\tvalidation_1-rmse:13522.1\n",
      "[40]\tvalidation_0-rmse:12756\tvalidation_1-rmse:13420.3\n",
      "[41]\tvalidation_0-rmse:12660.3\tvalidation_1-rmse:13321\n",
      "[42]\tvalidation_0-rmse:12563.2\tvalidation_1-rmse:13220.6\n",
      "[43]\tvalidation_0-rmse:12468.1\tvalidation_1-rmse:13122.6\n",
      "[44]\tvalidation_0-rmse:12374.1\tvalidation_1-rmse:13025.5\n",
      "[45]\tvalidation_0-rmse:12278.9\tvalidation_1-rmse:12927.4\n",
      "[46]\tvalidation_0-rmse:12188.7\tvalidation_1-rmse:12834.1\n",
      "[47]\tvalidation_0-rmse:12096.6\tvalidation_1-rmse:12739\n",
      "[48]\tvalidation_0-rmse:12005.3\tvalidation_1-rmse:12644.5\n",
      "[49]\tvalidation_0-rmse:11914\tvalidation_1-rmse:12550.8\n",
      "[50]\tvalidation_0-rmse:11824.3\tvalidation_1-rmse:12458.2\n",
      "[51]\tvalidation_0-rmse:11735.5\tvalidation_1-rmse:12366.7\n",
      "[52]\tvalidation_0-rmse:11648.3\tvalidation_1-rmse:12276.6\n",
      "[53]\tvalidation_0-rmse:11562.5\tvalidation_1-rmse:12188.3\n",
      "[54]\tvalidation_0-rmse:11476.2\tvalidation_1-rmse:12099.4\n",
      "[55]\tvalidation_0-rmse:11393.3\tvalidation_1-rmse:12014.2\n",
      "[56]\tvalidation_0-rmse:11310.2\tvalidation_1-rmse:11928.8\n",
      "[57]\tvalidation_0-rmse:11229.7\tvalidation_1-rmse:11846.4\n",
      "[58]\tvalidation_0-rmse:11148.9\tvalidation_1-rmse:11763.4\n",
      "[59]\tvalidation_0-rmse:11066.2\tvalidation_1-rmse:11679\n",
      "[60]\tvalidation_0-rmse:10986\tvalidation_1-rmse:11597.4\n",
      "[61]\tvalidation_0-rmse:10907.4\tvalidation_1-rmse:11516.5\n",
      "[62]\tvalidation_0-rmse:10827.4\tvalidation_1-rmse:11434.2\n",
      "[63]\tvalidation_0-rmse:10750.1\tvalidation_1-rmse:11354.5\n",
      "[64]\tvalidation_0-rmse:10675.2\tvalidation_1-rmse:11277.8\n",
      "[65]\tvalidation_0-rmse:10600\tvalidation_1-rmse:11200.6\n",
      "[66]\tvalidation_0-rmse:10524.1\tvalidation_1-rmse:11122.6\n",
      "[67]\tvalidation_0-rmse:10449.9\tvalidation_1-rmse:11046.6\n",
      "[68]\tvalidation_0-rmse:10376\tvalidation_1-rmse:10970.8\n",
      "[69]\tvalidation_0-rmse:10303.8\tvalidation_1-rmse:10897.4\n",
      "[70]\tvalidation_0-rmse:10232.6\tvalidation_1-rmse:10824\n",
      "[71]\tvalidation_0-rmse:10160.2\tvalidation_1-rmse:10750.2\n",
      "[72]\tvalidation_0-rmse:10088.7\tvalidation_1-rmse:10676.7\n",
      "[73]\tvalidation_0-rmse:10017.9\tvalidation_1-rmse:10606.3\n",
      "[74]\tvalidation_0-rmse:9949.39\tvalidation_1-rmse:10536.2\n",
      "[75]\tvalidation_0-rmse:9881.22\tvalidation_1-rmse:10466.8\n",
      "[76]\tvalidation_0-rmse:9813.59\tvalidation_1-rmse:10397.7\n",
      "[77]\tvalidation_0-rmse:9747.46\tvalidation_1-rmse:10330\n",
      "[78]\tvalidation_0-rmse:9681.76\tvalidation_1-rmse:10262.6\n",
      "[79]\tvalidation_0-rmse:9615.98\tvalidation_1-rmse:10196.6\n",
      "[80]\tvalidation_0-rmse:9550.04\tvalidation_1-rmse:10131.2\n",
      "[81]\tvalidation_0-rmse:9484.47\tvalidation_1-rmse:10064.1\n",
      "[82]\tvalidation_0-rmse:9421.42\tvalidation_1-rmse:10001.5\n",
      "[83]\tvalidation_0-rmse:9359.21\tvalidation_1-rmse:9937.26\n",
      "[84]\tvalidation_0-rmse:9297.9\tvalidation_1-rmse:9874.79\n",
      "[85]\tvalidation_0-rmse:9235.91\tvalidation_1-rmse:9811.64\n",
      "[86]\tvalidation_0-rmse:9172.86\tvalidation_1-rmse:9747.81\n",
      "[87]\tvalidation_0-rmse:9113.31\tvalidation_1-rmse:9686.87\n",
      "[88]\tvalidation_0-rmse:9053.91\tvalidation_1-rmse:9625.67\n",
      "[89]\tvalidation_0-rmse:8995.28\tvalidation_1-rmse:9565.63\n",
      "[90]\tvalidation_0-rmse:8937.61\tvalidation_1-rmse:9507.7\n",
      "[91]\tvalidation_0-rmse:8879.61\tvalidation_1-rmse:9447.24\n",
      "[92]\tvalidation_0-rmse:8822.83\tvalidation_1-rmse:9389.82\n",
      "[93]\tvalidation_0-rmse:8765.4\tvalidation_1-rmse:9331.13\n",
      "[94]\tvalidation_0-rmse:8708.85\tvalidation_1-rmse:9275.72\n",
      "[95]\tvalidation_0-rmse:8653.93\tvalidation_1-rmse:9220.11\n",
      "[96]\tvalidation_0-rmse:8597.58\tvalidation_1-rmse:9164.91\n",
      "[97]\tvalidation_0-rmse:8543.38\tvalidation_1-rmse:9111.15\n",
      "[98]\tvalidation_0-rmse:8488.84\tvalidation_1-rmse:9056.26\n",
      "[99]\tvalidation_0-rmse:8434.66\tvalidation_1-rmse:9002.84\n",
      "[100]\tvalidation_0-rmse:8382.6\tvalidation_1-rmse:8952.23\n",
      "[101]\tvalidation_0-rmse:8330.31\tvalidation_1-rmse:8900.61\n",
      "[102]\tvalidation_0-rmse:8277.78\tvalidation_1-rmse:8848.64\n",
      "[103]\tvalidation_0-rmse:8227.84\tvalidation_1-rmse:8799.21\n",
      "[104]\tvalidation_0-rmse:8177.68\tvalidation_1-rmse:8748.9\n",
      "[105]\tvalidation_0-rmse:8127.33\tvalidation_1-rmse:8702.08\n",
      "[106]\tvalidation_0-rmse:8075.99\tvalidation_1-rmse:8650.8\n",
      "[107]\tvalidation_0-rmse:8027.16\tvalidation_1-rmse:8603.67\n",
      "[108]\tvalidation_0-rmse:7981.11\tvalidation_1-rmse:8558.92\n",
      "[109]\tvalidation_0-rmse:7932.82\tvalidation_1-rmse:8512.58\n",
      "[110]\tvalidation_0-rmse:7884.83\tvalidation_1-rmse:8467.15\n",
      "[111]\tvalidation_0-rmse:7839.43\tvalidation_1-rmse:8423.43\n",
      "[112]\tvalidation_0-rmse:7793.95\tvalidation_1-rmse:8379.52\n",
      "[113]\tvalidation_0-rmse:7748.64\tvalidation_1-rmse:8334.37\n",
      "[114]\tvalidation_0-rmse:7703.78\tvalidation_1-rmse:8291.36\n",
      "[115]\tvalidation_0-rmse:7659.57\tvalidation_1-rmse:8249.41\n",
      "[116]\tvalidation_0-rmse:7614.32\tvalidation_1-rmse:8204.7\n",
      "[117]\tvalidation_0-rmse:7569.83\tvalidation_1-rmse:8162.21\n",
      "[118]\tvalidation_0-rmse:7526.37\tvalidation_1-rmse:8119.32\n",
      "[119]\tvalidation_0-rmse:7483.93\tvalidation_1-rmse:8079.33\n",
      "[120]\tvalidation_0-rmse:7442.54\tvalidation_1-rmse:8038.49\n",
      "[121]\tvalidation_0-rmse:7400.32\tvalidation_1-rmse:7998.77\n",
      "[122]\tvalidation_0-rmse:7359.02\tvalidation_1-rmse:7957.87\n",
      "[123]\tvalidation_0-rmse:7317.23\tvalidation_1-rmse:7918.67\n",
      "[124]\tvalidation_0-rmse:7277.05\tvalidation_1-rmse:7881.34\n",
      "[125]\tvalidation_0-rmse:7237.47\tvalidation_1-rmse:7841.88\n",
      "[126]\tvalidation_0-rmse:7198.94\tvalidation_1-rmse:7804.84\n",
      "[127]\tvalidation_0-rmse:7160.28\tvalidation_1-rmse:7767.98\n",
      "[128]\tvalidation_0-rmse:7121.11\tvalidation_1-rmse:7732.02\n",
      "[129]\tvalidation_0-rmse:7083.12\tvalidation_1-rmse:7697.34\n",
      "[130]\tvalidation_0-rmse:7045.54\tvalidation_1-rmse:7661.94\n",
      "[131]\tvalidation_0-rmse:7008.13\tvalidation_1-rmse:7627.98\n",
      "[132]\tvalidation_0-rmse:6971.74\tvalidation_1-rmse:7592.64\n",
      "[133]\tvalidation_0-rmse:6935.82\tvalidation_1-rmse:7557.25\n",
      "[134]\tvalidation_0-rmse:6899\tvalidation_1-rmse:7524.15\n",
      "[135]\tvalidation_0-rmse:6862.01\tvalidation_1-rmse:7490.37\n",
      "[136]\tvalidation_0-rmse:6827.08\tvalidation_1-rmse:7457.57\n",
      "[137]\tvalidation_0-rmse:6791.57\tvalidation_1-rmse:7423.83\n",
      "[138]\tvalidation_0-rmse:6756.45\tvalidation_1-rmse:7390.01\n",
      "[139]\tvalidation_0-rmse:6721.31\tvalidation_1-rmse:7358.83\n",
      "[140]\tvalidation_0-rmse:6688.81\tvalidation_1-rmse:7327.8\n",
      "[141]\tvalidation_0-rmse:6655.53\tvalidation_1-rmse:7296.81\n"
     ]
    },
    {
     "name": "stdout",
     "output_type": "stream",
     "text": [
      "[142]\tvalidation_0-rmse:6622.61\tvalidation_1-rmse:7268.98\n",
      "[143]\tvalidation_0-rmse:6589.39\tvalidation_1-rmse:7235.92\n",
      "[144]\tvalidation_0-rmse:6557.3\tvalidation_1-rmse:7205.93\n",
      "[145]\tvalidation_0-rmse:6527.26\tvalidation_1-rmse:7176.42\n",
      "[146]\tvalidation_0-rmse:6495.24\tvalidation_1-rmse:7148.63\n",
      "[147]\tvalidation_0-rmse:6463.32\tvalidation_1-rmse:7120.05\n",
      "[148]\tvalidation_0-rmse:6432.31\tvalidation_1-rmse:7092.57\n",
      "[149]\tvalidation_0-rmse:6400.92\tvalidation_1-rmse:7065.98\n",
      "[150]\tvalidation_0-rmse:6369.76\tvalidation_1-rmse:7038.2\n",
      "[151]\tvalidation_0-rmse:6337.56\tvalidation_1-rmse:7007.84\n",
      "[152]\tvalidation_0-rmse:6308.54\tvalidation_1-rmse:6983.25\n",
      "[153]\tvalidation_0-rmse:6279.1\tvalidation_1-rmse:6955.99\n",
      "[154]\tvalidation_0-rmse:6249.86\tvalidation_1-rmse:6928.52\n",
      "[155]\tvalidation_0-rmse:6221.09\tvalidation_1-rmse:6900.73\n",
      "[156]\tvalidation_0-rmse:6192.22\tvalidation_1-rmse:6876.15\n",
      "[157]\tvalidation_0-rmse:6162.95\tvalidation_1-rmse:6851.27\n",
      "[158]\tvalidation_0-rmse:6136.77\tvalidation_1-rmse:6829.45\n",
      "[159]\tvalidation_0-rmse:6108.31\tvalidation_1-rmse:6803.76\n",
      "[160]\tvalidation_0-rmse:6080.75\tvalidation_1-rmse:6777.81\n",
      "[161]\tvalidation_0-rmse:6054.64\tvalidation_1-rmse:6752.36\n",
      "[162]\tvalidation_0-rmse:6028.32\tvalidation_1-rmse:6728.21\n",
      "[163]\tvalidation_0-rmse:6001.69\tvalidation_1-rmse:6702.67\n",
      "[164]\tvalidation_0-rmse:5975.78\tvalidation_1-rmse:6677.15\n",
      "[165]\tvalidation_0-rmse:5950.36\tvalidation_1-rmse:6654.81\n",
      "[166]\tvalidation_0-rmse:5923.7\tvalidation_1-rmse:6629.08\n",
      "[167]\tvalidation_0-rmse:5897.72\tvalidation_1-rmse:6607.56\n",
      "[168]\tvalidation_0-rmse:5872.33\tvalidation_1-rmse:6584.95\n",
      "[169]\tvalidation_0-rmse:5848.28\tvalidation_1-rmse:6563.24\n",
      "[170]\tvalidation_0-rmse:5823.03\tvalidation_1-rmse:6541.01\n",
      "[171]\tvalidation_0-rmse:5799.54\tvalidation_1-rmse:6519.63\n",
      "[172]\tvalidation_0-rmse:5774.73\tvalidation_1-rmse:6496.71\n",
      "[173]\tvalidation_0-rmse:5751.66\tvalidation_1-rmse:6476.03\n",
      "[174]\tvalidation_0-rmse:5728.24\tvalidation_1-rmse:6453.85\n",
      "[175]\tvalidation_0-rmse:5704.82\tvalidation_1-rmse:6436.41\n",
      "[176]\tvalidation_0-rmse:5681.61\tvalidation_1-rmse:6415.4\n",
      "[177]\tvalidation_0-rmse:5659.41\tvalidation_1-rmse:6396.17\n",
      "[178]\tvalidation_0-rmse:5637.87\tvalidation_1-rmse:6380.19\n",
      "[179]\tvalidation_0-rmse:5615.78\tvalidation_1-rmse:6360.44\n",
      "[180]\tvalidation_0-rmse:5592.64\tvalidation_1-rmse:6339.98\n",
      "[181]\tvalidation_0-rmse:5570.8\tvalidation_1-rmse:6320.45\n",
      "[182]\tvalidation_0-rmse:5548.56\tvalidation_1-rmse:6301.98\n",
      "[183]\tvalidation_0-rmse:5526.74\tvalidation_1-rmse:6284.24\n",
      "[184]\tvalidation_0-rmse:5506.22\tvalidation_1-rmse:6266.59\n",
      "[185]\tvalidation_0-rmse:5484.82\tvalidation_1-rmse:6249.75\n",
      "[186]\tvalidation_0-rmse:5463.67\tvalidation_1-rmse:6231.14\n",
      "[187]\tvalidation_0-rmse:5443.71\tvalidation_1-rmse:6214.96\n",
      "[188]\tvalidation_0-rmse:5423.09\tvalidation_1-rmse:6197.72\n",
      "[189]\tvalidation_0-rmse:5403.27\tvalidation_1-rmse:6181.86\n",
      "[190]\tvalidation_0-rmse:5383.56\tvalidation_1-rmse:6165.93\n",
      "[191]\tvalidation_0-rmse:5365.14\tvalidation_1-rmse:6149\n",
      "[192]\tvalidation_0-rmse:5345.45\tvalidation_1-rmse:6132.33\n",
      "[193]\tvalidation_0-rmse:5325.23\tvalidation_1-rmse:6115.56\n",
      "[194]\tvalidation_0-rmse:5307.66\tvalidation_1-rmse:6099.46\n",
      "[195]\tvalidation_0-rmse:5289.48\tvalidation_1-rmse:6083.92\n",
      "[196]\tvalidation_0-rmse:5271.1\tvalidation_1-rmse:6066.49\n",
      "[197]\tvalidation_0-rmse:5252.87\tvalidation_1-rmse:6050.22\n",
      "[198]\tvalidation_0-rmse:5233.75\tvalidation_1-rmse:6036.68\n",
      "[199]\tvalidation_0-rmse:5216.36\tvalidation_1-rmse:6023.21\n",
      "[200]\tvalidation_0-rmse:5198.16\tvalidation_1-rmse:6007.63\n",
      "[201]\tvalidation_0-rmse:5180.17\tvalidation_1-rmse:5990.98\n",
      "[202]\tvalidation_0-rmse:5162.8\tvalidation_1-rmse:5974.9\n",
      "[203]\tvalidation_0-rmse:5145.72\tvalidation_1-rmse:5960.67\n",
      "[204]\tvalidation_0-rmse:5129.05\tvalidation_1-rmse:5946.58\n",
      "[205]\tvalidation_0-rmse:5112.98\tvalidation_1-rmse:5933.87\n",
      "[206]\tvalidation_0-rmse:5097.76\tvalidation_1-rmse:5920.74\n",
      "[207]\tvalidation_0-rmse:5082.2\tvalidation_1-rmse:5907.21\n",
      "[208]\tvalidation_0-rmse:5066.9\tvalidation_1-rmse:5893.4\n",
      "[209]\tvalidation_0-rmse:5051.84\tvalidation_1-rmse:5881.54\n",
      "[210]\tvalidation_0-rmse:5035.54\tvalidation_1-rmse:5870.49\n",
      "[211]\tvalidation_0-rmse:5020.11\tvalidation_1-rmse:5857.47\n",
      "[212]\tvalidation_0-rmse:5004.88\tvalidation_1-rmse:5843.28\n",
      "[213]\tvalidation_0-rmse:4989\tvalidation_1-rmse:5831.3\n",
      "[214]\tvalidation_0-rmse:4974.13\tvalidation_1-rmse:5817.46\n",
      "[215]\tvalidation_0-rmse:4957.95\tvalidation_1-rmse:5806.63\n",
      "[216]\tvalidation_0-rmse:4944.43\tvalidation_1-rmse:5794.27\n",
      "[217]\tvalidation_0-rmse:4930.93\tvalidation_1-rmse:5782.01\n",
      "[218]\tvalidation_0-rmse:4917.01\tvalidation_1-rmse:5771.05\n",
      "[219]\tvalidation_0-rmse:4903.47\tvalidation_1-rmse:5758.88\n",
      "[220]\tvalidation_0-rmse:4889.04\tvalidation_1-rmse:5747.55\n",
      "[221]\tvalidation_0-rmse:4874.57\tvalidation_1-rmse:5736.5\n",
      "[222]\tvalidation_0-rmse:4861.3\tvalidation_1-rmse:5725.65\n",
      "[223]\tvalidation_0-rmse:4847.86\tvalidation_1-rmse:5715.19\n",
      "[224]\tvalidation_0-rmse:4835.26\tvalidation_1-rmse:5705.24\n",
      "[225]\tvalidation_0-rmse:4820.85\tvalidation_1-rmse:5694.29\n",
      "[226]\tvalidation_0-rmse:4807.07\tvalidation_1-rmse:5682.88\n",
      "[227]\tvalidation_0-rmse:4794.65\tvalidation_1-rmse:5673.18\n",
      "[228]\tvalidation_0-rmse:4781.92\tvalidation_1-rmse:5663.31\n",
      "[229]\tvalidation_0-rmse:4769.98\tvalidation_1-rmse:5653.18\n",
      "[230]\tvalidation_0-rmse:4757.88\tvalidation_1-rmse:5644.2\n",
      "[231]\tvalidation_0-rmse:4745.52\tvalidation_1-rmse:5634.71\n",
      "[232]\tvalidation_0-rmse:4732.91\tvalidation_1-rmse:5625.75\n",
      "[233]\tvalidation_0-rmse:4720.85\tvalidation_1-rmse:5615.53\n",
      "[234]\tvalidation_0-rmse:4709.01\tvalidation_1-rmse:5606.59\n",
      "[235]\tvalidation_0-rmse:4697.01\tvalidation_1-rmse:5597.36\n",
      "[236]\tvalidation_0-rmse:4684.85\tvalidation_1-rmse:5588.87\n",
      "[237]\tvalidation_0-rmse:4672\tvalidation_1-rmse:5579.97\n",
      "[238]\tvalidation_0-rmse:4659.9\tvalidation_1-rmse:5571.26\n",
      "[239]\tvalidation_0-rmse:4648.2\tvalidation_1-rmse:5561.48\n",
      "[240]\tvalidation_0-rmse:4636.11\tvalidation_1-rmse:5551.31\n",
      "[241]\tvalidation_0-rmse:4625.54\tvalidation_1-rmse:5543.96\n",
      "[242]\tvalidation_0-rmse:4614.33\tvalidation_1-rmse:5536.09\n",
      "[243]\tvalidation_0-rmse:4603.53\tvalidation_1-rmse:5526.82\n",
      "[244]\tvalidation_0-rmse:4592.52\tvalidation_1-rmse:5519.43\n",
      "[245]\tvalidation_0-rmse:4580.96\tvalidation_1-rmse:5511.6\n",
      "[246]\tvalidation_0-rmse:4570.15\tvalidation_1-rmse:5503.72\n",
      "[247]\tvalidation_0-rmse:4559.98\tvalidation_1-rmse:5496.19\n",
      "[248]\tvalidation_0-rmse:4549.14\tvalidation_1-rmse:5486.86\n",
      "[249]\tvalidation_0-rmse:4538.62\tvalidation_1-rmse:5479.09\n",
      "[250]\tvalidation_0-rmse:4527.96\tvalidation_1-rmse:5471.77\n",
      "[251]\tvalidation_0-rmse:4518.02\tvalidation_1-rmse:5464.95\n",
      "[252]\tvalidation_0-rmse:4508.48\tvalidation_1-rmse:5458.19\n",
      "[253]\tvalidation_0-rmse:4498.95\tvalidation_1-rmse:5450.28\n",
      "[254]\tvalidation_0-rmse:4489.39\tvalidation_1-rmse:5442.01\n",
      "[255]\tvalidation_0-rmse:4479.73\tvalidation_1-rmse:5434.48\n",
      "[256]\tvalidation_0-rmse:4469.86\tvalidation_1-rmse:5427.31\n",
      "[257]\tvalidation_0-rmse:4460.21\tvalidation_1-rmse:5420.99\n",
      "[258]\tvalidation_0-rmse:4449.86\tvalidation_1-rmse:5414.61\n",
      "[259]\tvalidation_0-rmse:4439.4\tvalidation_1-rmse:5408.08\n",
      "[260]\tvalidation_0-rmse:4430.41\tvalidation_1-rmse:5401.29\n",
      "[261]\tvalidation_0-rmse:4421.35\tvalidation_1-rmse:5395.99\n",
      "[262]\tvalidation_0-rmse:4411.75\tvalidation_1-rmse:5389.45\n",
      "[263]\tvalidation_0-rmse:4401.78\tvalidation_1-rmse:5383.51\n",
      "[264]\tvalidation_0-rmse:4392.88\tvalidation_1-rmse:5376.75\n",
      "[265]\tvalidation_0-rmse:4383.34\tvalidation_1-rmse:5370.51\n",
      "[266]\tvalidation_0-rmse:4374.04\tvalidation_1-rmse:5365.23\n",
      "[267]\tvalidation_0-rmse:4364.88\tvalidation_1-rmse:5360.05\n",
      "[268]\tvalidation_0-rmse:4356.42\tvalidation_1-rmse:5354.91\n",
      "[269]\tvalidation_0-rmse:4347.1\tvalidation_1-rmse:5350.17\n",
      "[270]\tvalidation_0-rmse:4338.49\tvalidation_1-rmse:5344.35\n",
      "[271]\tvalidation_0-rmse:4329.96\tvalidation_1-rmse:5338.76\n",
      "[272]\tvalidation_0-rmse:4321.57\tvalidation_1-rmse:5332.76\n",
      "[273]\tvalidation_0-rmse:4313.22\tvalidation_1-rmse:5326.75\n",
      "[274]\tvalidation_0-rmse:4305.9\tvalidation_1-rmse:5321.49\n",
      "[275]\tvalidation_0-rmse:4297.49\tvalidation_1-rmse:5316.01\n",
      "[276]\tvalidation_0-rmse:4288.63\tvalidation_1-rmse:5311.41\n",
      "[277]\tvalidation_0-rmse:4280.54\tvalidation_1-rmse:5308.12\n",
      "[278]\tvalidation_0-rmse:4271.76\tvalidation_1-rmse:5303.75\n",
      "[279]\tvalidation_0-rmse:4264.64\tvalidation_1-rmse:5299.24\n",
      "[280]\tvalidation_0-rmse:4256.9\tvalidation_1-rmse:5294.93\n",
      "[281]\tvalidation_0-rmse:4248.98\tvalidation_1-rmse:5290.72\n",
      "[282]\tvalidation_0-rmse:4241.47\tvalidation_1-rmse:5286.15\n",
      "[283]\tvalidation_0-rmse:4233.54\tvalidation_1-rmse:5281.6\n"
     ]
    },
    {
     "name": "stdout",
     "output_type": "stream",
     "text": [
      "[284]\tvalidation_0-rmse:4225.38\tvalidation_1-rmse:5277.46\n",
      "[285]\tvalidation_0-rmse:4218.03\tvalidation_1-rmse:5273.34\n",
      "[286]\tvalidation_0-rmse:4210.08\tvalidation_1-rmse:5270.23\n",
      "[287]\tvalidation_0-rmse:4202.15\tvalidation_1-rmse:5265.15\n",
      "[288]\tvalidation_0-rmse:4194.45\tvalidation_1-rmse:5259.73\n",
      "[289]\tvalidation_0-rmse:4187.26\tvalidation_1-rmse:5255.24\n",
      "[290]\tvalidation_0-rmse:4179.48\tvalidation_1-rmse:5250.76\n",
      "[291]\tvalidation_0-rmse:4172.7\tvalidation_1-rmse:5246.35\n",
      "[292]\tvalidation_0-rmse:4165.46\tvalidation_1-rmse:5240.34\n",
      "[293]\tvalidation_0-rmse:4157.7\tvalidation_1-rmse:5236.94\n",
      "[294]\tvalidation_0-rmse:4151.7\tvalidation_1-rmse:5233.67\n",
      "[295]\tvalidation_0-rmse:4144.35\tvalidation_1-rmse:5229.87\n",
      "[296]\tvalidation_0-rmse:4137.96\tvalidation_1-rmse:5225.69\n",
      "[297]\tvalidation_0-rmse:4131.2\tvalidation_1-rmse:5221.53\n",
      "[298]\tvalidation_0-rmse:4124.61\tvalidation_1-rmse:5217.38\n",
      "[299]\tvalidation_0-rmse:4117.38\tvalidation_1-rmse:5213.77\n",
      "[300]\tvalidation_0-rmse:4110.92\tvalidation_1-rmse:5210.14\n",
      "[301]\tvalidation_0-rmse:4104.44\tvalidation_1-rmse:5206.16\n",
      "[302]\tvalidation_0-rmse:4097.88\tvalidation_1-rmse:5203\n",
      "[303]\tvalidation_0-rmse:4091.86\tvalidation_1-rmse:5200.26\n",
      "[304]\tvalidation_0-rmse:4085.74\tvalidation_1-rmse:5196.64\n",
      "[305]\tvalidation_0-rmse:4079.78\tvalidation_1-rmse:5193.03\n",
      "[306]\tvalidation_0-rmse:4073.96\tvalidation_1-rmse:5189.41\n",
      "[307]\tvalidation_0-rmse:4068.07\tvalidation_1-rmse:5186.4\n",
      "[308]\tvalidation_0-rmse:4062.45\tvalidation_1-rmse:5183.12\n",
      "[309]\tvalidation_0-rmse:4056.24\tvalidation_1-rmse:5179.43\n",
      "[310]\tvalidation_0-rmse:4050.32\tvalidation_1-rmse:5177.13\n",
      "[311]\tvalidation_0-rmse:4043.8\tvalidation_1-rmse:5173.79\n",
      "[312]\tvalidation_0-rmse:4038.19\tvalidation_1-rmse:5170.21\n",
      "[313]\tvalidation_0-rmse:4032.12\tvalidation_1-rmse:5166.44\n",
      "[314]\tvalidation_0-rmse:4026.18\tvalidation_1-rmse:5163.16\n",
      "[315]\tvalidation_0-rmse:4020.19\tvalidation_1-rmse:5160.46\n",
      "[316]\tvalidation_0-rmse:4014.12\tvalidation_1-rmse:5156.85\n",
      "[317]\tvalidation_0-rmse:4008.12\tvalidation_1-rmse:5154.36\n",
      "[318]\tvalidation_0-rmse:4002.11\tvalidation_1-rmse:5152.07\n",
      "[319]\tvalidation_0-rmse:3996.39\tvalidation_1-rmse:5148.54\n",
      "[320]\tvalidation_0-rmse:3990.14\tvalidation_1-rmse:5143.87\n",
      "[321]\tvalidation_0-rmse:3984.96\tvalidation_1-rmse:5140.48\n",
      "[322]\tvalidation_0-rmse:3980.59\tvalidation_1-rmse:5138.3\n",
      "[323]\tvalidation_0-rmse:3976.3\tvalidation_1-rmse:5135.44\n",
      "[324]\tvalidation_0-rmse:3970.81\tvalidation_1-rmse:5132.77\n",
      "[325]\tvalidation_0-rmse:3965.54\tvalidation_1-rmse:5129.9\n",
      "[326]\tvalidation_0-rmse:3960.77\tvalidation_1-rmse:5127.53\n",
      "[327]\tvalidation_0-rmse:3955.92\tvalidation_1-rmse:5124.67\n",
      "[328]\tvalidation_0-rmse:3950.46\tvalidation_1-rmse:5121.42\n",
      "[329]\tvalidation_0-rmse:3944.53\tvalidation_1-rmse:5120\n",
      "[330]\tvalidation_0-rmse:3938.53\tvalidation_1-rmse:5117.47\n",
      "[331]\tvalidation_0-rmse:3932.72\tvalidation_1-rmse:5114.25\n",
      "[332]\tvalidation_0-rmse:3927.97\tvalidation_1-rmse:5111.97\n",
      "[333]\tvalidation_0-rmse:3922.05\tvalidation_1-rmse:5110.81\n",
      "[334]\tvalidation_0-rmse:3916.73\tvalidation_1-rmse:5109.16\n",
      "[335]\tvalidation_0-rmse:3911.12\tvalidation_1-rmse:5106.88\n",
      "[336]\tvalidation_0-rmse:3906.1\tvalidation_1-rmse:5104.51\n",
      "[337]\tvalidation_0-rmse:3901.54\tvalidation_1-rmse:5103.09\n",
      "[338]\tvalidation_0-rmse:3896.34\tvalidation_1-rmse:5101.18\n",
      "[339]\tvalidation_0-rmse:3891.9\tvalidation_1-rmse:5099.08\n",
      "[340]\tvalidation_0-rmse:3888.59\tvalidation_1-rmse:5096.61\n",
      "[341]\tvalidation_0-rmse:3884.62\tvalidation_1-rmse:5094.4\n",
      "[342]\tvalidation_0-rmse:3879.51\tvalidation_1-rmse:5092.18\n",
      "[343]\tvalidation_0-rmse:3874.6\tvalidation_1-rmse:5089.92\n",
      "[344]\tvalidation_0-rmse:3870.12\tvalidation_1-rmse:5087.15\n",
      "[345]\tvalidation_0-rmse:3865.33\tvalidation_1-rmse:5085.56\n",
      "[346]\tvalidation_0-rmse:3861.67\tvalidation_1-rmse:5083.9\n",
      "[347]\tvalidation_0-rmse:3857.7\tvalidation_1-rmse:5082.79\n",
      "[348]\tvalidation_0-rmse:3854.06\tvalidation_1-rmse:5080.7\n",
      "[349]\tvalidation_0-rmse:3849.68\tvalidation_1-rmse:5078.75\n",
      "[350]\tvalidation_0-rmse:3845.48\tvalidation_1-rmse:5076.75\n",
      "[351]\tvalidation_0-rmse:3840.69\tvalidation_1-rmse:5075.13\n",
      "[352]\tvalidation_0-rmse:3836.11\tvalidation_1-rmse:5073.63\n",
      "[353]\tvalidation_0-rmse:3831.78\tvalidation_1-rmse:5072.25\n",
      "[354]\tvalidation_0-rmse:3827.51\tvalidation_1-rmse:5070.19\n",
      "[355]\tvalidation_0-rmse:3822.68\tvalidation_1-rmse:5068\n",
      "[356]\tvalidation_0-rmse:3817.95\tvalidation_1-rmse:5066.66\n",
      "[357]\tvalidation_0-rmse:3813.62\tvalidation_1-rmse:5064.38\n",
      "[358]\tvalidation_0-rmse:3809.04\tvalidation_1-rmse:5063.07\n",
      "[359]\tvalidation_0-rmse:3804.53\tvalidation_1-rmse:5061.01\n",
      "[360]\tvalidation_0-rmse:3800.51\tvalidation_1-rmse:5059.91\n",
      "[361]\tvalidation_0-rmse:3796.54\tvalidation_1-rmse:5057.79\n",
      "[362]\tvalidation_0-rmse:3791.35\tvalidation_1-rmse:5056.31\n",
      "[363]\tvalidation_0-rmse:3786.93\tvalidation_1-rmse:5053.99\n",
      "[364]\tvalidation_0-rmse:3783.01\tvalidation_1-rmse:5052.8\n",
      "[365]\tvalidation_0-rmse:3778.23\tvalidation_1-rmse:5052.3\n",
      "[366]\tvalidation_0-rmse:3773.88\tvalidation_1-rmse:5050.32\n",
      "[367]\tvalidation_0-rmse:3770.85\tvalidation_1-rmse:5048.48\n",
      "[368]\tvalidation_0-rmse:3767.3\tvalidation_1-rmse:5047.2\n",
      "[369]\tvalidation_0-rmse:3763.5\tvalidation_1-rmse:5045.79\n",
      "[370]\tvalidation_0-rmse:3759.73\tvalidation_1-rmse:5045.1\n",
      "[371]\tvalidation_0-rmse:3755.06\tvalidation_1-rmse:5043.54\n",
      "[372]\tvalidation_0-rmse:3751.04\tvalidation_1-rmse:5042.35\n",
      "[373]\tvalidation_0-rmse:3747.61\tvalidation_1-rmse:5041.17\n",
      "[374]\tvalidation_0-rmse:3744.2\tvalidation_1-rmse:5039.5\n",
      "[375]\tvalidation_0-rmse:3740.62\tvalidation_1-rmse:5037.92\n",
      "[376]\tvalidation_0-rmse:3737.24\tvalidation_1-rmse:5036.94\n",
      "[377]\tvalidation_0-rmse:3733.76\tvalidation_1-rmse:5036\n",
      "[378]\tvalidation_0-rmse:3729.15\tvalidation_1-rmse:5034.09\n",
      "[379]\tvalidation_0-rmse:3726.3\tvalidation_1-rmse:5033.5\n",
      "[380]\tvalidation_0-rmse:3723.31\tvalidation_1-rmse:5032.4\n",
      "[381]\tvalidation_0-rmse:3720.04\tvalidation_1-rmse:5031.56\n",
      "[382]\tvalidation_0-rmse:3716.2\tvalidation_1-rmse:5030.92\n",
      "[383]\tvalidation_0-rmse:3713.06\tvalidation_1-rmse:5030.08\n",
      "[384]\tvalidation_0-rmse:3709.56\tvalidation_1-rmse:5028.43\n",
      "[385]\tvalidation_0-rmse:3706.27\tvalidation_1-rmse:5027.08\n",
      "[386]\tvalidation_0-rmse:3702.9\tvalidation_1-rmse:5025.34\n",
      "[387]\tvalidation_0-rmse:3699.16\tvalidation_1-rmse:5023.8\n",
      "[388]\tvalidation_0-rmse:3695.53\tvalidation_1-rmse:5022.61\n",
      "[389]\tvalidation_0-rmse:3692.11\tvalidation_1-rmse:5021.42\n",
      "[390]\tvalidation_0-rmse:3688.85\tvalidation_1-rmse:5019.93\n",
      "[391]\tvalidation_0-rmse:3685.55\tvalidation_1-rmse:5019.29\n",
      "[392]\tvalidation_0-rmse:3682.57\tvalidation_1-rmse:5018.17\n",
      "[393]\tvalidation_0-rmse:3679.88\tvalidation_1-rmse:5016.96\n",
      "[394]\tvalidation_0-rmse:3676.66\tvalidation_1-rmse:5015.94\n",
      "[395]\tvalidation_0-rmse:3673.39\tvalidation_1-rmse:5014.49\n",
      "[396]\tvalidation_0-rmse:3670.2\tvalidation_1-rmse:5014.15\n",
      "[397]\tvalidation_0-rmse:3667.39\tvalidation_1-rmse:5013.86\n",
      "[398]\tvalidation_0-rmse:3663.41\tvalidation_1-rmse:5013.8\n",
      "[399]\tvalidation_0-rmse:3660.22\tvalidation_1-rmse:5012.56\n",
      "[400]\tvalidation_0-rmse:3657.16\tvalidation_1-rmse:5011.55\n",
      "[401]\tvalidation_0-rmse:3653.42\tvalidation_1-rmse:5010.27\n",
      "[402]\tvalidation_0-rmse:3650.22\tvalidation_1-rmse:5009.18\n",
      "[403]\tvalidation_0-rmse:3647.17\tvalidation_1-rmse:5008.39\n",
      "[404]\tvalidation_0-rmse:3644\tvalidation_1-rmse:5006.22\n",
      "[405]\tvalidation_0-rmse:3640.88\tvalidation_1-rmse:5005.77\n",
      "[406]\tvalidation_0-rmse:3637.23\tvalidation_1-rmse:5005.55\n",
      "[407]\tvalidation_0-rmse:3634.31\tvalidation_1-rmse:5004.09\n",
      "[408]\tvalidation_0-rmse:3631.54\tvalidation_1-rmse:5003.21\n",
      "[409]\tvalidation_0-rmse:3628.35\tvalidation_1-rmse:5002.24\n",
      "[410]\tvalidation_0-rmse:3624.87\tvalidation_1-rmse:5001.28\n",
      "[411]\tvalidation_0-rmse:3621.92\tvalidation_1-rmse:5000.7\n",
      "[412]\tvalidation_0-rmse:3619.21\tvalidation_1-rmse:4999.35\n",
      "[413]\tvalidation_0-rmse:3616.44\tvalidation_1-rmse:4998.02\n",
      "[414]\tvalidation_0-rmse:3614.23\tvalidation_1-rmse:4997.12\n",
      "[415]\tvalidation_0-rmse:3611.46\tvalidation_1-rmse:4996.66\n",
      "[416]\tvalidation_0-rmse:3608.7\tvalidation_1-rmse:4996.41\n",
      "[417]\tvalidation_0-rmse:3606.01\tvalidation_1-rmse:4995.16\n",
      "[418]\tvalidation_0-rmse:3602.12\tvalidation_1-rmse:4994.96\n",
      "[419]\tvalidation_0-rmse:3600.13\tvalidation_1-rmse:4994.49\n",
      "[420]\tvalidation_0-rmse:3597.67\tvalidation_1-rmse:4993.74\n",
      "[421]\tvalidation_0-rmse:3595.22\tvalidation_1-rmse:4993.16\n",
      "[422]\tvalidation_0-rmse:3592.77\tvalidation_1-rmse:4992.02\n",
      "[423]\tvalidation_0-rmse:3589.99\tvalidation_1-rmse:4991.87\n",
      "[424]\tvalidation_0-rmse:3587.1\tvalidation_1-rmse:4990.6\n",
      "[425]\tvalidation_0-rmse:3583.98\tvalidation_1-rmse:4990.84\n",
      "[426]\tvalidation_0-rmse:3581.15\tvalidation_1-rmse:4991.1\n"
     ]
    },
    {
     "name": "stdout",
     "output_type": "stream",
     "text": [
      "[427]\tvalidation_0-rmse:3578.19\tvalidation_1-rmse:4989.88\n",
      "[428]\tvalidation_0-rmse:3574.73\tvalidation_1-rmse:4988.46\n",
      "[429]\tvalidation_0-rmse:3571.8\tvalidation_1-rmse:4987.7\n",
      "[430]\tvalidation_0-rmse:3569.33\tvalidation_1-rmse:4986.53\n",
      "[431]\tvalidation_0-rmse:3567.34\tvalidation_1-rmse:4986.23\n",
      "[432]\tvalidation_0-rmse:3564.48\tvalidation_1-rmse:4985.59\n",
      "[433]\tvalidation_0-rmse:3562.18\tvalidation_1-rmse:4984.85\n",
      "[434]\tvalidation_0-rmse:3559.8\tvalidation_1-rmse:4983.85\n",
      "[435]\tvalidation_0-rmse:3556.19\tvalidation_1-rmse:4983.69\n",
      "[436]\tvalidation_0-rmse:3553.21\tvalidation_1-rmse:4982.75\n",
      "[437]\tvalidation_0-rmse:3550.76\tvalidation_1-rmse:4982.77\n",
      "[438]\tvalidation_0-rmse:3547.63\tvalidation_1-rmse:4982.44\n",
      "[439]\tvalidation_0-rmse:3544.16\tvalidation_1-rmse:4981.35\n",
      "[440]\tvalidation_0-rmse:3541.38\tvalidation_1-rmse:4980.68\n",
      "[441]\tvalidation_0-rmse:3538.16\tvalidation_1-rmse:4980.28\n",
      "[442]\tvalidation_0-rmse:3534.94\tvalidation_1-rmse:4980.01\n",
      "[443]\tvalidation_0-rmse:3532.09\tvalidation_1-rmse:4978.86\n",
      "[444]\tvalidation_0-rmse:3528.99\tvalidation_1-rmse:4978.56\n",
      "[445]\tvalidation_0-rmse:3526.06\tvalidation_1-rmse:4977.98\n",
      "[446]\tvalidation_0-rmse:3523.08\tvalidation_1-rmse:4977.09\n",
      "[447]\tvalidation_0-rmse:3520.32\tvalidation_1-rmse:4976.81\n",
      "[448]\tvalidation_0-rmse:3518.08\tvalidation_1-rmse:4975.91\n",
      "[449]\tvalidation_0-rmse:3515.24\tvalidation_1-rmse:4975.84\n",
      "[450]\tvalidation_0-rmse:3512.5\tvalidation_1-rmse:4975.81\n",
      "[451]\tvalidation_0-rmse:3509.07\tvalidation_1-rmse:4975.81\n",
      "[452]\tvalidation_0-rmse:3506\tvalidation_1-rmse:4976.26\n",
      "[453]\tvalidation_0-rmse:3503.81\tvalidation_1-rmse:4975.22\n",
      "[454]\tvalidation_0-rmse:3501.29\tvalidation_1-rmse:4973.82\n",
      "[455]\tvalidation_0-rmse:3498.87\tvalidation_1-rmse:4972.51\n",
      "[456]\tvalidation_0-rmse:3496.31\tvalidation_1-rmse:4972.12\n",
      "[457]\tvalidation_0-rmse:3493.9\tvalidation_1-rmse:4972.01\n",
      "[458]\tvalidation_0-rmse:3490.93\tvalidation_1-rmse:4971.65\n",
      "[459]\tvalidation_0-rmse:3488.27\tvalidation_1-rmse:4971.22\n",
      "[460]\tvalidation_0-rmse:3485.41\tvalidation_1-rmse:4971.68\n",
      "[461]\tvalidation_0-rmse:3483.57\tvalidation_1-rmse:4970.74\n",
      "[462]\tvalidation_0-rmse:3480.93\tvalidation_1-rmse:4969.96\n",
      "[463]\tvalidation_0-rmse:3477.77\tvalidation_1-rmse:4969.84\n",
      "[464]\tvalidation_0-rmse:3475.3\tvalidation_1-rmse:4968.96\n",
      "[465]\tvalidation_0-rmse:3472.86\tvalidation_1-rmse:4968.53\n",
      "[466]\tvalidation_0-rmse:3469.95\tvalidation_1-rmse:4967.98\n",
      "[467]\tvalidation_0-rmse:3467.42\tvalidation_1-rmse:4967.13\n",
      "[468]\tvalidation_0-rmse:3465.03\tvalidation_1-rmse:4966.98\n",
      "[469]\tvalidation_0-rmse:3462.89\tvalidation_1-rmse:4966.91\n",
      "[470]\tvalidation_0-rmse:3460.12\tvalidation_1-rmse:4966.17\n",
      "[471]\tvalidation_0-rmse:3457.48\tvalidation_1-rmse:4965.67\n",
      "[472]\tvalidation_0-rmse:3454.49\tvalidation_1-rmse:4965.97\n",
      "[473]\tvalidation_0-rmse:3451.6\tvalidation_1-rmse:4965.59\n",
      "[474]\tvalidation_0-rmse:3449.15\tvalidation_1-rmse:4964.29\n",
      "[475]\tvalidation_0-rmse:3446.86\tvalidation_1-rmse:4963.56\n",
      "[476]\tvalidation_0-rmse:3444.2\tvalidation_1-rmse:4964.04\n",
      "[477]\tvalidation_0-rmse:3441.78\tvalidation_1-rmse:4964.27\n",
      "[478]\tvalidation_0-rmse:3439.03\tvalidation_1-rmse:4964.4\n",
      "[479]\tvalidation_0-rmse:3436.99\tvalidation_1-rmse:4964.04\n",
      "[480]\tvalidation_0-rmse:3434.67\tvalidation_1-rmse:4963.39\n",
      "[481]\tvalidation_0-rmse:3432.17\tvalidation_1-rmse:4963.59\n",
      "[482]\tvalidation_0-rmse:3429.75\tvalidation_1-rmse:4962.98\n",
      "[483]\tvalidation_0-rmse:3426.36\tvalidation_1-rmse:4963.23\n",
      "[484]\tvalidation_0-rmse:3424.79\tvalidation_1-rmse:4962.85\n",
      "[485]\tvalidation_0-rmse:3423.03\tvalidation_1-rmse:4962.35\n",
      "[486]\tvalidation_0-rmse:3420.78\tvalidation_1-rmse:4962.69\n",
      "[487]\tvalidation_0-rmse:3418.66\tvalidation_1-rmse:4962.08\n",
      "[488]\tvalidation_0-rmse:3416.98\tvalidation_1-rmse:4961.51\n",
      "[489]\tvalidation_0-rmse:3414.6\tvalidation_1-rmse:4961\n",
      "[490]\tvalidation_0-rmse:3412.54\tvalidation_1-rmse:4961.41\n",
      "[491]\tvalidation_0-rmse:3410.18\tvalidation_1-rmse:4960.91\n",
      "[492]\tvalidation_0-rmse:3407.58\tvalidation_1-rmse:4961.21\n",
      "[493]\tvalidation_0-rmse:3405.45\tvalidation_1-rmse:4961.16\n",
      "[494]\tvalidation_0-rmse:3403.07\tvalidation_1-rmse:4960.64\n",
      "[495]\tvalidation_0-rmse:3400.37\tvalidation_1-rmse:4960.51\n",
      "[496]\tvalidation_0-rmse:3398.57\tvalidation_1-rmse:4960.67\n",
      "[497]\tvalidation_0-rmse:3395.55\tvalidation_1-rmse:4960.63\n",
      "[498]\tvalidation_0-rmse:3393.2\tvalidation_1-rmse:4960.11\n",
      "[499]\tvalidation_0-rmse:3390.86\tvalidation_1-rmse:4960.8\n",
      "[500]\tvalidation_0-rmse:3388.2\tvalidation_1-rmse:4960.88\n",
      "[501]\tvalidation_0-rmse:3385.22\tvalidation_1-rmse:4960.89\n",
      "[502]\tvalidation_0-rmse:3383.57\tvalidation_1-rmse:4960.11\n",
      "[503]\tvalidation_0-rmse:3380.84\tvalidation_1-rmse:4959.92\n",
      "[504]\tvalidation_0-rmse:3378.33\tvalidation_1-rmse:4959.63\n",
      "[505]\tvalidation_0-rmse:3376.64\tvalidation_1-rmse:4959.58\n",
      "[506]\tvalidation_0-rmse:3374.14\tvalidation_1-rmse:4959.55\n",
      "[507]\tvalidation_0-rmse:3371.74\tvalidation_1-rmse:4959.38\n",
      "[508]\tvalidation_0-rmse:3369.48\tvalidation_1-rmse:4959.35\n",
      "[509]\tvalidation_0-rmse:3366.69\tvalidation_1-rmse:4959.34\n",
      "[510]\tvalidation_0-rmse:3364.01\tvalidation_1-rmse:4959.17\n",
      "[511]\tvalidation_0-rmse:3361.64\tvalidation_1-rmse:4958.7\n",
      "[512]\tvalidation_0-rmse:3359.28\tvalidation_1-rmse:4958.6\n",
      "[513]\tvalidation_0-rmse:3357.41\tvalidation_1-rmse:4958.39\n",
      "[514]\tvalidation_0-rmse:3355.92\tvalidation_1-rmse:4958.14\n",
      "[515]\tvalidation_0-rmse:3354.2\tvalidation_1-rmse:4958.23\n",
      "[516]\tvalidation_0-rmse:3351.85\tvalidation_1-rmse:4958.47\n",
      "[517]\tvalidation_0-rmse:3349.64\tvalidation_1-rmse:4958.27\n",
      "[518]\tvalidation_0-rmse:3348.09\tvalidation_1-rmse:4957.76\n",
      "[519]\tvalidation_0-rmse:3345.63\tvalidation_1-rmse:4957.96\n",
      "[520]\tvalidation_0-rmse:3343.34\tvalidation_1-rmse:4958.09\n",
      "[521]\tvalidation_0-rmse:3340.74\tvalidation_1-rmse:4958.46\n",
      "[522]\tvalidation_0-rmse:3338.49\tvalidation_1-rmse:4958.83\n",
      "[523]\tvalidation_0-rmse:3336.64\tvalidation_1-rmse:4959.02\n",
      "[524]\tvalidation_0-rmse:3334.03\tvalidation_1-rmse:4958.91\n",
      "[525]\tvalidation_0-rmse:3331.72\tvalidation_1-rmse:4959.08\n",
      "[526]\tvalidation_0-rmse:3329.7\tvalidation_1-rmse:4959.35\n",
      "[527]\tvalidation_0-rmse:3327.76\tvalidation_1-rmse:4959.48\n",
      "[528]\tvalidation_0-rmse:3325.9\tvalidation_1-rmse:4959.15\n",
      "Stopping. Best iteration:\n",
      "[518]\tvalidation_0-rmse:3348.09\tvalidation_1-rmse:4957.76\n",
      "\n",
      "with params:\n",
      "gamma                     - 0\n",
      "learning_rate             - 0.01\n",
      "max_depth                 - 6\n",
      "min_child_weight          - 1\n",
      "n_estimators              - 1000\n",
      "reg_alpha                 - 5\n",
      "reg_lambda                - 10\n",
      "subsample                 - 0.7\n",
      "objective                 - reg:squarederror\n",
      "train R2 is 0.9237873716431743\n",
      "RMSE is 3348.0942712806536\n",
      "test  R2 is 0.8297951890723629\n",
      "RMSE is 4957.76099253161\n"
     ]
    }
   ],
   "source": [
    "xgboost_params = {'gamma':0,                 \n",
    "                 'learning_rate':0.01,\n",
    "                 'max_depth':6,\n",
    "                 'min_child_weight':1,\n",
    "                 'n_estimators':1000,                                                                    \n",
    "                 'reg_alpha':5,\n",
    "                 'reg_lambda':10,\n",
    "                 'subsample':0.7,\n",
    "                 'objective':'reg:squarederror'}\n",
    "xgboost_helper = XGBoostHelper(xgboost_params)\n",
    "xgboost_helper.train(eval_set)\n",
    "xgboost_helper.results(X_train, y_train, X_test, y_test)"
   ]
  },
  {
   "cell_type": "code",
   "execution_count": 124,
   "metadata": {},
   "outputs": [
    {
     "data": {
      "image/png": "[encoded data removed]",
      "text/plain": [
       "<Figure size 432x288 with 1 Axes>"
      ]
     },
     "metadata": {
      "needs_background": "light"
     },
     "output_type": "display_data"
    }
   ],
   "source": [
    "results = xgboost_helper.results_\n",
    "fig, ax = plt.subplots()\n",
    "ax.plot(results['validation_0']['rmse'], label='train')\n",
    "ax.plot(results['validation_1']['rmse'], label='test')\n",
    "ax.legend()\n",
    "plt.ylabel('rmse')\n",
    "plt.title('XGBoost rmse')\n",
    "plt.show()"
   ]
  },
  {
   "cell_type": "markdown",
   "metadata": {},
   "source": [
    "Instead of trying to choose right hyperparams manually we can automate this process"
   ]
  },
  {
   "cell_type": "code",
   "execution_count": 137,
   "metadata": {},
   "outputs": [],
   "source": [
    "xgboost_params = {'gamma': [0],                 \n",
    "                 'learning_rate': [0.001, 0.03, 0.1],\n",
    "                 'max_depth': list(range(2, 5)),\n",
    "                 'min_child_weight': list(range(4, 11, 3)),\n",
    "                 'n_estimators':[1000],\n",
    "                 'silent': [1],\n",
    "                 'reg_alpha': list(range(5, 16, 5)),\n",
    "                 'reg_lambda':list(range(5, 16, 5)),\n",
    "                 'subsample': [0.7, 0.8, 0.9,],\n",
    "                 'objective':['reg:squarederror'],\n",
    "                 'early_stopping_rounds':[10],\n",
    "                 'seed': [42],\n",
    "                 }"
   ]
  },
  {
   "cell_type": "code",
   "execution_count": 138,
   "metadata": {
    "scrolled": true
   },
   "outputs": [
    {
     "name": "stdout",
     "output_type": "stream",
     "text": [
      "Fitting 5 folds for each of 729 candidates, totalling 3645 fits\n"
     ]
    },
    {
     "name": "stderr",
     "output_type": "stream",
     "text": [
      "[Parallel(n_jobs=-1)]: Using backend LokyBackend with 4 concurrent workers.\n",
      "[Parallel(n_jobs=-1)]: Done  42 tasks      | elapsed:    9.3s\n",
      "[Parallel(n_jobs=-1)]: Done 192 tasks      | elapsed:   33.6s\n",
      "[Parallel(n_jobs=-1)]: Done 442 tasks      | elapsed:  1.3min\n",
      "[Parallel(n_jobs=-1)]: Done 792 tasks      | elapsed:  2.4min\n",
      "[Parallel(n_jobs=-1)]: Done 1242 tasks      | elapsed:  4.1min\n",
      "[Parallel(n_jobs=-1)]: Done 1792 tasks      | elapsed:  5.8min\n",
      "[Parallel(n_jobs=-1)]: Done 2442 tasks      | elapsed:  8.2min\n",
      "[Parallel(n_jobs=-1)]: Done 3192 tasks      | elapsed: 10.5min\n",
      "[Parallel(n_jobs=-1)]: Done 3645 out of 3645 | elapsed: 12.3min finished\n"
     ]
    },
    {
     "name": "stdout",
     "output_type": "stream",
     "text": [
      "best_params: {'early_stopping_rounds': 10, 'gamma': 0, 'learning_rate': 0.03, 'max_depth': 2, 'min_child_weight': 7, 'n_estimators': 1000, 'objective': 'reg:squarederror', 'reg_alpha': 5, 'reg_lambda': 15, 'seed': 42, 'silent': 1, 'subsample': 0.9}\n",
      "best_score: -19516714.765074402\n"
     ]
    }
   ],
   "source": [
    "xgb_grid = GridSearchCV(xgboost.XGBRegressor(), \n",
    "                    param_grid = xgboost_params, \n",
    "                    scoring = neg_mse, \n",
    "                    n_jobs = -1,\n",
    "                    cv = 5,\n",
    "                    verbose=True)\n",
    "\n",
    "xgb_grid.fit(X_train, y_train)\n",
    "print(f\"best_params: {xgb_grid.best_params_}\\nbest_score: {xgb_grid.best_score_}\")\n",
    "\n",
    "pickle.dump(xgb_grid.best_estimator_, open(\"xgb_grid.pickle\", \"wb\"))"
   ]
  },
  {
   "cell_type": "code",
   "execution_count": 139,
   "metadata": {},
   "outputs": [],
   "source": [
    "best_model = xgb_grid.best_estimator_"
   ]
  },
  {
   "cell_type": "code",
   "execution_count": 140,
   "metadata": {},
   "outputs": [
    {
     "name": "stdout",
     "output_type": "stream",
     "text": [
      "train R2 is 0.9092034096178703\n",
      "RMSE is 3654.4243675851358\n",
      "test  R2 is 0.8280258927502603\n",
      "RMSE is 4983.462587440936\n"
     ]
    }
   ],
   "source": [
    "print(f\"train R2 is {best_model.score(X_train, y_train)}\\nRMSE is {np.sqrt(mean_squared_error(y_train, best_model.predict(X_train)))}\")\n",
    "print(f\"test  R2 is {best_model.score(X_test, y_test)}\\nRMSE is {np.sqrt(mean_squared_error(y_test, best_model.predict(X_test)))}\")"
   ]
  },
  {
   "cell_type": "markdown",
   "metadata": {},
   "source": [
    "As we can see with grid search we evaluate our model on 0.002, but it takes some time. \n",
    "\n",
    "This approach is time consuming but we can get better results."
   ]
  },
  {
   "cell_type": "markdown",
   "metadata": {},
   "source": [
    "To compare we will try linear regrassion, ridge and lasso models."
   ]
  },
  {
   "cell_type": "code",
   "execution_count": 70,
   "metadata": {},
   "outputs": [],
   "source": [
    "lr = linear_model.LinearRegression().fit(X_train_scaled, y_train)"
   ]
  },
  {
   "cell_type": "code",
   "execution_count": 71,
   "metadata": {},
   "outputs": [],
   "source": [
    "lr_test_score = lr.score(X_test_scaled, y_test)"
   ]
  },
  {
   "cell_type": "code",
   "execution_count": 72,
   "metadata": {},
   "outputs": [
    {
     "name": "stdout",
     "output_type": "stream",
     "text": [
      "lr train R2 is 0.7619139078836461\n",
      "RMSE is 5917.676518837375\n",
      "lr test set score 0.7271650060028311\n",
      "RMSE is 6276.964993816362\n"
     ]
    }
   ],
   "source": [
    "print(f\"lr train R2 is {lr.score(X_train_scaled, y_train)}\\nRMSE is {np.sqrt(mean_squared_error(y_train, lr.predict(X_train_scaled)))}\")\n",
    "print(f\"lr test set score {lr_test_score}\\nRMSE is {np.sqrt(mean_squared_error(y_test, lr.predict(X_test_scaled)))}\")"
   ]
  },
  {
   "cell_type": "code",
   "execution_count": 73,
   "metadata": {},
   "outputs": [
    {
     "name": "stdout",
     "output_type": "stream",
     "text": [
      "lr.coef_:[14030.8940646   -542.17694309 10149.8608597   3366.01599274\n",
      " 23904.04146278   128.09030179  4292.03495365   163.99361078\n",
      " -1200.26236408]\n",
      "lr.intercept_:-2927.081772153504\n"
     ]
    }
   ],
   "source": [
    "print(f\"lr.coef_:{lr.coef_}\")\n",
    "print(f\"lr.intercept_:{lr.intercept_}\")"
   ]
  },
  {
   "cell_type": "code",
   "execution_count": 74,
   "metadata": {
    "scrolled": true
   },
   "outputs": [
    {
     "name": "stdout",
     "output_type": "stream",
     "text": [
      "alpha=0.0001\n",
      "R^2 train is: 0.7619139078815315\n",
      "RMSE train is 5917.676518863654\n",
      "R^2 test is: 0.7271649211131967\n",
      "RMSE test is 6276.965970320904\n",
      "------------------------------\n",
      "alpha=0.0003\n",
      "R^2 train is: 0.7619139078646178\n",
      "RMSE train is 5917.67651907385\n",
      "R^2 test is: 0.7271647513626109\n",
      "RMSE test is 6276.967922999586\n",
      "------------------------------\n",
      "alpha=0.001\n",
      "R^2 train is: 0.7619139076723351\n",
      "RMSE train is 5917.676521463462\n",
      "R^2 test is: 0.7271641575365746\n",
      "RMSE test is 6276.974753907565\n",
      "------------------------------\n",
      "alpha=0.003\n",
      "R^2 train is: 0.7619139059847672\n",
      "RMSE train is 5917.676542435878\n",
      "R^2 test is: 0.7271624634670734\n",
      "RMSE test is 6276.994241110728\n",
      "------------------------------\n",
      "alpha=0.01\n",
      "R^2 train is: 0.7619138868975681\n",
      "RMSE train is 5917.67677964391\n",
      "R^2 test is: 0.7271565641328613\n",
      "RMSE test is 6277.062101800245\n",
      "------------------------------\n",
      "alpha=0.03\n",
      "R^2 train is: 0.7619137218309759\n",
      "RMSE train is 5917.6788310247275\n",
      "R^2 test is: 0.7271399614996947\n",
      "RMSE test is 6277.253079775882\n",
      "------------------------------\n",
      "alpha=0.1\n",
      "R^2 train is: 0.7619119416797063\n",
      "RMSE train is 5917.700953979218\n",
      "R^2 test is: 0.72708465755338\n",
      "RMSE test is 6277.889192121914\n",
      "------------------------------\n",
      "best_alpha is 0.0001, best_test_score is 0.7271649211131967, RMSE best test is 6276.965970320904\n"
     ]
    }
   ],
   "source": [
    "alphas = [0.0001, 0.0003, 0.001, 0.003, 0.01, 0.03, 0.1]\n",
    "best_ridge_model = None\n",
    "best_ridge_score = 0\n",
    "for alpha in alphas:\n",
    "    ridge = linear_model.Ridge(alpha=alpha).fit(X_train_scaled, y_train)\n",
    "    pred_ridge = ridge.predict(X_test_scaled)\n",
    "    \n",
    "    score = ridge.score(X_test_scaled, y_test)\n",
    "    if score > best_ridge_score:\n",
    "        best_ridge_score = score\n",
    "        best_ridge_model = ridge\n",
    "    print(f'alpha={alpha}\\nR^2 train is: {ridge.score(X_train_scaled, y_train)}\\nRMSE train is {np.sqrt(mean_squared_error(y_train, ridge.predict(X_train_scaled)))}\\nR^2 test is: {score}\\nRMSE test is {np.sqrt(mean_squared_error(y_test, ridge.predict(X_test_scaled)))}')\n",
    "    print('-' * 30)\n",
    "print(f'best_alpha is {best_ridge_model.alpha}, best_test_score is {best_ridge_score}, RMSE best test is {np.sqrt(mean_squared_error(y_test, best_ridge_model.predict(X_test_scaled)))}')"
   ]
  },
  {
   "cell_type": "code",
   "execution_count": 75,
   "metadata": {
    "scrolled": true
   },
   "outputs": [
    {
     "name": "stdout",
     "output_type": "stream",
     "text": [
      "alpha=0.0001\n",
      "R^2 train is: 0.7619139078835977\n",
      "RMSE train is 5917.676518837976\n",
      "R^2 test is: 0.7271649852237763\n",
      "RMSE test is 6276.965232842514\n",
      "------------------------------\n",
      "alpha=0.0003\n",
      "R^2 train is: 0.7619139078832102\n",
      "RMSE train is 5917.676518842791\n",
      "R^2 test is: 0.7271649436245813\n",
      "RMSE test is 6276.965711367402\n",
      "------------------------------\n",
      "alpha=0.001\n",
      "R^2 train is: 0.76191390787881\n",
      "RMSE train is 5917.676518897474\n",
      "R^2 test is: 0.7271647983188352\n",
      "RMSE test is 6276.967382851773\n",
      "------------------------------\n",
      "alpha=0.003\n",
      "R^2 train is: 0.7619139078400925\n",
      "RMSE train is 5917.6765193786405\n",
      "R^2 test is: 0.7271643825124288\n",
      "RMSE test is 6276.972165963042\n",
      "------------------------------\n",
      "alpha=0.01\n",
      "R^2 train is: 0.7619139073994003\n",
      "RMSE train is 5917.676524855386\n",
      "R^2 test is: 0.7271629259438503\n",
      "RMSE test is 6276.988921158545\n",
      "------------------------------\n",
      "alpha=0.03\n",
      "R^2 train is: 0.7619139035308871\n",
      "RMSE train is 5917.676572931713\n",
      "R^2 test is: 0.7271587693249203\n",
      "RMSE test is 6277.0367353196\n",
      "------------------------------\n",
      "alpha=0.1\n",
      "R^2 train is: 0.7619138594960052\n",
      "RMSE train is 5917.677120179496\n",
      "R^2 test is: 0.7271441628995479\n",
      "RMSE test is 6277.204752157381\n",
      "------------------------------\n",
      "best_alpha is 0.0001, best_test_score is 0.7271649852237763, RMSE best test is 6276.965232842514\n"
     ]
    }
   ],
   "source": [
    "best_lasso_model = None\n",
    "best_lasso_score = 0\n",
    "for alpha in alphas:\n",
    "    lasso = linear_model.Lasso(alpha=alpha)\n",
    "    lasso.fit(X_train_scaled, y_train)\n",
    "    pred_lasso = lasso.predict(X_test_scaled)\n",
    "    tmp_mean = mean_squared_error(y_test, pred_ridge)\n",
    "    score = lasso.score(X_test_scaled, y_test)\n",
    "    if score > best_lasso_score:\n",
    "        best_lasso_score = score\n",
    "        best_lasso_model = lasso\n",
    "    print(f'alpha={alpha}\\nR^2 train is: {lasso.score(X_train_scaled, y_train)}\\nRMSE train is {np.sqrt(mean_squared_error(y_train, lasso.predict(X_train_scaled)))}\\nR^2 test is: {score}\\nRMSE test is {np.sqrt(mean_squared_error(y_test, lasso.predict(X_test_scaled)))}')\n",
    "    print('-' * 30)\n",
    "print(f'best_alpha is {best_lasso_model.alpha}, best_test_score is {best_lasso_score}, RMSE best test is {np.sqrt(mean_squared_error(y_test, best_lasso_model.predict(X_test_scaled)))}')"
   ]
  },
  {
   "cell_type": "markdown",
   "metadata": {},
   "source": [
    "both regularization models show the best performance with low alpha \n",
    "\n",
    "as you might expect linear models performed worse than xgboost"
   ]
  },
  {
   "cell_type": "code",
   "execution_count": 76,
   "metadata": {},
   "outputs": [],
   "source": [
    "best_scores = {\"no_reg\": lr_test_score, \"ridge\": best_ridge_score, \"lasso\": best_lasso_score,}"
   ]
  },
  {
   "cell_type": "code",
   "execution_count": 77,
   "metadata": {},
   "outputs": [
    {
     "data": {
      "text/plain": [
       "'ridge'"
      ]
     },
     "execution_count": 77,
     "metadata": {},
     "output_type": "execute_result"
    }
   ],
   "source": [
    "max(best_scores)"
   ]
  },
  {
   "cell_type": "code",
   "execution_count": 78,
   "metadata": {},
   "outputs": [
    {
     "name": "stdout",
     "output_type": "stream",
     "text": [
      "0.7271650060028311\n",
      "0.7271649211131967\n",
      "0.7271649852237763\n"
     ]
    }
   ],
   "source": [
    "for x in best_scores:\n",
    "    print(best_scores[x])"
   ]
  },
  {
   "cell_type": "code",
   "execution_count": 79,
   "metadata": {},
   "outputs": [
    {
     "data": {
      "text/plain": [
       "23904.04146278308"
      ]
     },
     "execution_count": 79,
     "metadata": {},
     "output_type": "execute_result"
    }
   ],
   "source": [
    "max(*best_lasso_model.coef_, *best_ridge_model.coef_, *lr.coef_)"
   ]
  },
  {
   "cell_type": "code",
   "execution_count": 80,
   "metadata": {},
   "outputs": [
    {
     "data": {
      "text/plain": [
       "-1200.2623640755521"
      ]
     },
     "execution_count": 80,
     "metadata": {},
     "output_type": "execute_result"
    }
   ],
   "source": [
    "min(*best_lasso_model.coef_, *best_ridge_model.coef_, *lr.coef_)"
   ]
  },
  {
   "cell_type": "code",
   "execution_count": 81,
   "metadata": {},
   "outputs": [
    {
     "data": {
      "image/png": "[encoded data removed]",
      "text/plain": [
       "<Figure size 432x288 with 1 Axes>"
      ]
     },
     "metadata": {
      "needs_background": "light"
     },
     "output_type": "display_data"
    }
   ],
   "source": [
    "plt.plot(best_ridge_model.coef_, 'v', label=\"Ridge\")\n",
    "plt.plot(best_lasso_model.coef_, '<', label=\"Lasso\")\n",
    "plt.plot(lr.coef_, 'o', label=\"LinearRegression\")\n",
    "\n",
    "plt.xlabel(\"Coefficient index\")\n",
    "plt.ylabel(\"Coefficient magnitude\")\n",
    "plt.hlines(0, 0, len(best_ridge_model.coef_))\n",
    "plt.ylim(-1000, 24000)\n",
    "plt.legend()\n",
    "plt.show()"
   ]
  },
  {
   "cell_type": "markdown",
   "metadata": {},
   "source": [
    "Here all parameters are the same because of low regularization parameter on lasso and ridge."
   ]
  },
  {
   "cell_type": "code",
   "execution_count": null,
   "metadata": {},
   "outputs": [],
   "source": []
  }
 ],
 "metadata": {
  "kernelspec": {
   "display_name": "Python 3.7.4 64-bit ('base': conda)",
   "language": "python",
   "name": "python37464bitbaseconda9ef852fcd3cb450e9289824f3fbb8bb4"
  },
  "language_info": {
   "codemirror_mode": {
    "name": "ipython",
    "version": 3
   },
   "file_extension": ".py",
   "mimetype": "text/x-python",
   "name": "python",
   "nbconvert_exporter": "python",
   "pygments_lexer": "ipython3",
   "version": "3.7.4"
  }
 },
 "nbformat": 4,
 "nbformat_minor": 2
}
