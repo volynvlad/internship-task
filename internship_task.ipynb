{
 "cells": [
  {
   "cell_type": "code",
   "execution_count": 1,
   "metadata": {},
   "outputs": [
    {
     "name": "stdout",
     "output_type": "stream",
     "text": [
      "numpy version: 1.17.4\n",
      "pandas version: 0.25.3\n",
      "seaborn version: 0.9.0\n",
      "matplotlib version: 3.1.2\n",
      "scikit-learn: 0.21.3\n"
     ]
    }
   ],
   "source": [
    "import numpy as np\n",
    "print(\"numpy version: {}\".format(np.__version__))\n",
    "import pandas as pd \n",
    "print(\"pandas version: {}\".format(pd.__version__))\n",
    "import seaborn as sns\n",
    "print(\"seaborn version: {}\".format(sns.__version__))\n",
    "import matplotlib\n",
    "import matplotlib.pyplot as plt\n",
    "print(\"matplotlib version: {}\".format(matplotlib.__version__))\n",
    "import sklearn as sl\n",
    "print(\"scikit-learn: {}\".format(sl.__version__))\n",
    "import warnings\n",
    "warnings.filterwarnings('ignore')\n",
    "import pickle"
   ]
  },
  {
   "cell_type": "code",
   "execution_count": 2,
   "metadata": {},
   "outputs": [],
   "source": [
    "from sklearn.model_selection import train_test_split"
   ]
  },
  {
   "cell_type": "markdown",
   "metadata": {},
   "source": [
    "### import data"
   ]
  },
  {
   "cell_type": "code",
   "execution_count": 3,
   "metadata": {},
   "outputs": [
    {
     "name": "stdout",
     "output_type": "stream",
     "text": [
      "ds_internship_task  internship_task.ipynb  README.md  xgb_grid.pickle\r\n"
     ]
    }
   ],
   "source": [
    "!ls"
   ]
  },
  {
   "cell_type": "code",
   "execution_count": 4,
   "metadata": {},
   "outputs": [
    {
     "name": "stdout",
     "output_type": "stream",
     "text": [
      "insurance.csv  readme.txt\r\n"
     ]
    }
   ],
   "source": [
    "!ls ds_internship_task/"
   ]
  },
  {
   "cell_type": "code",
   "execution_count": 5,
   "metadata": {},
   "outputs": [
    {
     "name": "stdout",
     "output_type": "stream",
     "text": [
      "Health Insurance Dataset\r\n",
      "\r\n",
      "Task:\r\n",
      "- Build a model that predicts \"charges\" for a given person based on their features.\r\n",
      "- Evaluate the quality of your model.\r\n",
      "- Identify the factors with the highest impact.\r\n",
      "\r\n",
      "Expected result - link to a GitHub repo with:\r\n",
      "- Code for the solution (any programming language, Python or R preferred).\r\n",
      "- Brief summary of the solution*: what did you do, which steps did you make, how to interpret the results.\r\n",
      "\r\n",
      "* Both code and solution can be a single report file, e.g. .ipynb or .rmd\r\n"
     ]
    }
   ],
   "source": [
    "!cat ds_internship_task/readme.txt"
   ]
  },
  {
   "cell_type": "code",
   "execution_count": 6,
   "metadata": {},
   "outputs": [],
   "source": [
    "data = pd.read_csv('ds_internship_task/insurance.csv')"
   ]
  },
  {
   "cell_type": "code",
   "execution_count": 7,
   "metadata": {},
   "outputs": [
    {
     "name": "stdout",
     "output_type": "stream",
     "text": [
      "<class 'pandas.core.frame.DataFrame'>\n",
      "RangeIndex: 1338 entries, 0 to 1337\n",
      "Data columns (total 7 columns):\n",
      "age         1338 non-null int64\n",
      "sex         1338 non-null object\n",
      "bmi         1338 non-null float64\n",
      "children    1338 non-null int64\n",
      "smoker      1338 non-null object\n",
      "region      1338 non-null object\n",
      "charges     1338 non-null float64\n",
      "dtypes: float64(2), int64(2), object(3)\n",
      "memory usage: 73.3+ KB\n"
     ]
    }
   ],
   "source": [
    "data.info()"
   ]
  },
  {
   "cell_type": "code",
   "execution_count": 8,
   "metadata": {},
   "outputs": [
    {
     "data": {
      "text/html": [
       "<div>\n",
       "<style scoped>\n",
       "    .dataframe tbody tr th:only-of-type {\n",
       "        vertical-align: middle;\n",
       "    }\n",
       "\n",
       "    .dataframe tbody tr th {\n",
       "        vertical-align: top;\n",
       "    }\n",
       "\n",
       "    .dataframe thead th {\n",
       "        text-align: right;\n",
       "    }\n",
       "</style>\n",
       "<table border=\"1\" class=\"dataframe\">\n",
       "  <thead>\n",
       "    <tr style=\"text-align: right;\">\n",
       "      <th></th>\n",
       "      <th>age</th>\n",
       "      <th>sex</th>\n",
       "      <th>bmi</th>\n",
       "      <th>children</th>\n",
       "      <th>smoker</th>\n",
       "      <th>region</th>\n",
       "      <th>charges</th>\n",
       "    </tr>\n",
       "  </thead>\n",
       "  <tbody>\n",
       "    <tr>\n",
       "      <th>0</th>\n",
       "      <td>19</td>\n",
       "      <td>female</td>\n",
       "      <td>27.900</td>\n",
       "      <td>0</td>\n",
       "      <td>yes</td>\n",
       "      <td>southwest</td>\n",
       "      <td>16884.92400</td>\n",
       "    </tr>\n",
       "    <tr>\n",
       "      <th>1</th>\n",
       "      <td>18</td>\n",
       "      <td>male</td>\n",
       "      <td>33.770</td>\n",
       "      <td>1</td>\n",
       "      <td>no</td>\n",
       "      <td>southeast</td>\n",
       "      <td>1725.55230</td>\n",
       "    </tr>\n",
       "    <tr>\n",
       "      <th>2</th>\n",
       "      <td>28</td>\n",
       "      <td>male</td>\n",
       "      <td>33.000</td>\n",
       "      <td>3</td>\n",
       "      <td>no</td>\n",
       "      <td>southeast</td>\n",
       "      <td>4449.46200</td>\n",
       "    </tr>\n",
       "    <tr>\n",
       "      <th>3</th>\n",
       "      <td>33</td>\n",
       "      <td>male</td>\n",
       "      <td>22.705</td>\n",
       "      <td>0</td>\n",
       "      <td>no</td>\n",
       "      <td>northwest</td>\n",
       "      <td>21984.47061</td>\n",
       "    </tr>\n",
       "    <tr>\n",
       "      <th>4</th>\n",
       "      <td>32</td>\n",
       "      <td>male</td>\n",
       "      <td>28.880</td>\n",
       "      <td>0</td>\n",
       "      <td>no</td>\n",
       "      <td>northwest</td>\n",
       "      <td>3866.85520</td>\n",
       "    </tr>\n",
       "  </tbody>\n",
       "</table>\n",
       "</div>"
      ],
      "text/plain": [
       "   age     sex     bmi  children smoker     region      charges\n",
       "0   19  female  27.900         0    yes  southwest  16884.92400\n",
       "1   18    male  33.770         1     no  southeast   1725.55230\n",
       "2   28    male  33.000         3     no  southeast   4449.46200\n",
       "3   33    male  22.705         0     no  northwest  21984.47061\n",
       "4   32    male  28.880         0     no  northwest   3866.85520"
      ]
     },
     "execution_count": 8,
     "metadata": {},
     "output_type": "execute_result"
    }
   ],
   "source": [
    "data.head()"
   ]
  },
  {
   "cell_type": "code",
   "execution_count": 9,
   "metadata": {},
   "outputs": [
    {
     "data": {
      "text/plain": [
       "Index(['age', 'sex', 'bmi', 'children', 'smoker', 'region', 'charges'], dtype='object')"
      ]
     },
     "execution_count": 9,
     "metadata": {},
     "output_type": "execute_result"
    }
   ],
   "source": [
    "data.columns"
   ]
  },
  {
   "cell_type": "markdown",
   "metadata": {},
   "source": [
    "There are 4 quantitive variables and 3 categorical variables.\n",
    "\n",
    "quantitive - age, bmi, children, charges. \n",
    "\n",
    "charges - target variable\n",
    "\n",
    "categorical - sex, smoker, region"
   ]
  },
  {
   "cell_type": "code",
   "execution_count": 10,
   "metadata": {},
   "outputs": [],
   "source": [
    "target = 'charges'"
   ]
  },
  {
   "cell_type": "markdown",
   "metadata": {},
   "source": [
    "EDA"
   ]
  },
  {
   "cell_type": "code",
   "execution_count": 11,
   "metadata": {},
   "outputs": [
    {
     "data": {
      "text/plain": [
       "count     1338.000000\n",
       "mean     13270.422265\n",
       "std      12110.011237\n",
       "min       1121.873900\n",
       "25%       4740.287150\n",
       "50%       9382.033000\n",
       "75%      16639.912515\n",
       "max      63770.428010\n",
       "Name: charges, dtype: float64"
      ]
     },
     "execution_count": 11,
     "metadata": {},
     "output_type": "execute_result"
    }
   ],
   "source": [
    "data[target].describe()"
   ]
  },
  {
   "cell_type": "code",
   "execution_count": 12,
   "metadata": {},
   "outputs": [
    {
     "data": {
      "text/plain": [
       "<matplotlib.axes._subplots.AxesSubplot at 0x7fedbbf67b10>"
      ]
     },
     "execution_count": 12,
     "metadata": {},
     "output_type": "execute_result"
    },
    {
     "data": {
      "image/png": "[encoded data removed]",
      "text/plain": [
       "<Figure size 432x288 with 1 Axes>"
      ]
     },
     "metadata": {
      "needs_background": "light"
     },
     "output_type": "display_data"
    }
   ],
   "source": [
    "sns.distplot(data[target])"
   ]
  },
  {
   "cell_type": "code",
   "execution_count": 13,
   "metadata": {},
   "outputs": [
    {
     "name": "stdout",
     "output_type": "stream",
     "text": [
      "skewness: 1.5158796580240388\n",
      "kurtosis: 1.6062986532967907\n"
     ]
    }
   ],
   "source": [
    "print(f\"skewness: {data[target].skew()}\")\n",
    "print(f\"kurtosis: {data[target].kurt()}\")"
   ]
  },
  {
   "cell_type": "code",
   "execution_count": 14,
   "metadata": {},
   "outputs": [
    {
     "name": "stdout",
     "output_type": "stream",
     "text": [
      "skewness: -0.09009752473024583\n",
      "kurtosis: -0.6366666331104724\n"
     ]
    }
   ],
   "source": [
    "print(f\"skewness: {np.log(data[target]).skew()}\")\n",
    "print(f\"kurtosis: {np.log(data[target]).kurt()}\")"
   ]
  },
  {
   "cell_type": "code",
   "execution_count": 15,
   "metadata": {},
   "outputs": [
    {
     "data": {
      "text/plain": [
       "<matplotlib.axes._subplots.AxesSubplot at 0x7fedbbc1a290>"
      ]
     },
     "execution_count": 15,
     "metadata": {},
     "output_type": "execute_result"
    },
    {
     "data": {
      "image/png": "[encoded data removed]",
      "text/plain": [
       "<Figure size 432x288 with 1 Axes>"
      ]
     },
     "metadata": {
      "needs_background": "light"
     },
     "output_type": "display_data"
    }
   ],
   "source": [
    "sns.distplot(np.log(data[target]))"
   ]
  },
  {
   "cell_type": "code",
   "execution_count": 16,
   "metadata": {},
   "outputs": [],
   "source": [
    "def scatter_plot(var, target=target):\n",
    "    d = pd.concat([data[target], data[var]], axis=1)\n",
    "    d.plot.scatter(x=var, y=target)"
   ]
  },
  {
   "cell_type": "code",
   "execution_count": 17,
   "metadata": {},
   "outputs": [],
   "source": [
    "def box_plot(var, target=target):\n",
    "    d = pd.concat([data[target], data[var]], axis=1)\n",
    "    f, ax = plt.subplots(figsize=(8, 6))\n",
    "    fig = sns.boxplot(x=var, y=target, data=d)"
   ]
  },
  {
   "cell_type": "code",
   "execution_count": 18,
   "metadata": {},
   "outputs": [],
   "source": [
    "def descriptive_stats(var, target=target):\n",
    "    d = pd.DataFrame(index=data.describe().index, columns=np.unique(data[var]))\n",
    "    for x in np.unique(data[var]):\n",
    "        d[x] = data[target][data[var] == x].describe()\n",
    "    return d"
   ]
  },
  {
   "cell_type": "code",
   "execution_count": 19,
   "metadata": {},
   "outputs": [],
   "source": [
    "def corrmat_plot(n, target=target):\n",
    "    corrmat = data.corr()\n",
    "    cols = corrmat.nlargest(n, target)[target].index\n",
    "    hm = sns.heatmap(corrmat, cbar=True, annot=True, square=True, \n",
    "                     fmt='.2f', annot_kws={'size': 10}, \n",
    "                     yticklabels=cols.values, xticklabels=cols.values)\n",
    "    plt.show()"
   ]
  },
  {
   "cell_type": "code",
   "execution_count": 20,
   "metadata": {},
   "outputs": [],
   "source": [
    "def count_outliers(var, target=target):\n",
    "    res = {}\n",
    "    for x in np.unique(data[var]):\n",
    "        df = data[target][data[var] == x]\n",
    "        Q1 = df.quantile(0.25)\n",
    "        Q3 = df.quantile(0.75)\n",
    "        IQR = Q3 - Q1\n",
    "        res[x] = ((df < (Q1 - 1.5 * IQR)) | (df > (Q3 + 1.5 * IQR))).sum()\n",
    "    return res"
   ]
  },
  {
   "cell_type": "code",
   "execution_count": 21,
   "metadata": {},
   "outputs": [
    {
     "data": {
      "image/png": "[encoded data removed]",
      "text/plain": [
       "<Figure size 432x288 with 2 Axes>"
      ]
     },
     "metadata": {
      "needs_background": "light"
     },
     "output_type": "display_data"
    }
   ],
   "source": [
    "corrmat_plot(len(data))"
   ]
  },
  {
   "cell_type": "markdown",
   "metadata": {},
   "source": [
    "As we can see data have weak linear relationship.\n",
    "Children have the biggest impact on changes, then age, then bmi."
   ]
  },
  {
   "cell_type": "markdown",
   "metadata": {},
   "source": [
    "quantitive -> quantitive\n"
   ]
  },
  {
   "cell_type": "code",
   "execution_count": 22,
   "metadata": {},
   "outputs": [
    {
     "data": {
      "image/png": "[encoded data removed]",
      "text/plain": [
       "<Figure size 432x288 with 1 Axes>"
      ]
     },
     "metadata": {
      "needs_background": "light"
     },
     "output_type": "display_data"
    }
   ],
   "source": [
    "scatter_plot('age')"
   ]
  },
  {
   "cell_type": "code",
   "execution_count": 23,
   "metadata": {},
   "outputs": [
    {
     "data": {
      "image/png": "[encoded data removed]",
      "text/plain": [
       "<Figure size 432x288 with 1 Axes>"
      ]
     },
     "metadata": {
      "needs_background": "light"
     },
     "output_type": "display_data"
    }
   ],
   "source": [
    "scatter_plot('bmi')"
   ]
  },
  {
   "cell_type": "code",
   "execution_count": 24,
   "metadata": {},
   "outputs": [
    {
     "data": {
      "image/png": "[encoded data removed]",
      "text/plain": [
       "<Figure size 432x288 with 1 Axes>"
      ]
     },
     "metadata": {
      "needs_background": "light"
     },
     "output_type": "display_data"
    }
   ],
   "source": [
    "scatter_plot('children')"
   ]
  },
  {
   "cell_type": "code",
   "execution_count": 25,
   "metadata": {},
   "outputs": [
    {
     "data": {
      "text/html": [
       "<div>\n",
       "<style scoped>\n",
       "    .dataframe tbody tr th:only-of-type {\n",
       "        vertical-align: middle;\n",
       "    }\n",
       "\n",
       "    .dataframe tbody tr th {\n",
       "        vertical-align: top;\n",
       "    }\n",
       "\n",
       "    .dataframe thead th {\n",
       "        text-align: right;\n",
       "    }\n",
       "</style>\n",
       "<table border=\"1\" class=\"dataframe\">\n",
       "  <thead>\n",
       "    <tr style=\"text-align: right;\">\n",
       "      <th></th>\n",
       "      <th>age</th>\n",
       "      <th>bmi</th>\n",
       "      <th>children</th>\n",
       "      <th>charges</th>\n",
       "    </tr>\n",
       "  </thead>\n",
       "  <tbody>\n",
       "    <tr>\n",
       "      <th>count</th>\n",
       "      <td>1338.000000</td>\n",
       "      <td>1338.000000</td>\n",
       "      <td>1338.000000</td>\n",
       "      <td>1338.000000</td>\n",
       "    </tr>\n",
       "    <tr>\n",
       "      <th>mean</th>\n",
       "      <td>39.207025</td>\n",
       "      <td>30.663397</td>\n",
       "      <td>1.094918</td>\n",
       "      <td>13270.422265</td>\n",
       "    </tr>\n",
       "    <tr>\n",
       "      <th>std</th>\n",
       "      <td>14.049960</td>\n",
       "      <td>6.098187</td>\n",
       "      <td>1.205493</td>\n",
       "      <td>12110.011237</td>\n",
       "    </tr>\n",
       "    <tr>\n",
       "      <th>min</th>\n",
       "      <td>18.000000</td>\n",
       "      <td>15.960000</td>\n",
       "      <td>0.000000</td>\n",
       "      <td>1121.873900</td>\n",
       "    </tr>\n",
       "    <tr>\n",
       "      <th>25%</th>\n",
       "      <td>27.000000</td>\n",
       "      <td>26.296250</td>\n",
       "      <td>0.000000</td>\n",
       "      <td>4740.287150</td>\n",
       "    </tr>\n",
       "    <tr>\n",
       "      <th>50%</th>\n",
       "      <td>39.000000</td>\n",
       "      <td>30.400000</td>\n",
       "      <td>1.000000</td>\n",
       "      <td>9382.033000</td>\n",
       "    </tr>\n",
       "    <tr>\n",
       "      <th>75%</th>\n",
       "      <td>51.000000</td>\n",
       "      <td>34.693750</td>\n",
       "      <td>2.000000</td>\n",
       "      <td>16639.912515</td>\n",
       "    </tr>\n",
       "    <tr>\n",
       "      <th>max</th>\n",
       "      <td>64.000000</td>\n",
       "      <td>53.130000</td>\n",
       "      <td>5.000000</td>\n",
       "      <td>63770.428010</td>\n",
       "    </tr>\n",
       "  </tbody>\n",
       "</table>\n",
       "</div>"
      ],
      "text/plain": [
       "               age          bmi     children       charges\n",
       "count  1338.000000  1338.000000  1338.000000   1338.000000\n",
       "mean     39.207025    30.663397     1.094918  13270.422265\n",
       "std      14.049960     6.098187     1.205493  12110.011237\n",
       "min      18.000000    15.960000     0.000000   1121.873900\n",
       "25%      27.000000    26.296250     0.000000   4740.287150\n",
       "50%      39.000000    30.400000     1.000000   9382.033000\n",
       "75%      51.000000    34.693750     2.000000  16639.912515\n",
       "max      64.000000    53.130000     5.000000  63770.428010"
      ]
     },
     "execution_count": 25,
     "metadata": {},
     "output_type": "execute_result"
    }
   ],
   "source": [
    "data.describe()"
   ]
  },
  {
   "cell_type": "markdown",
   "metadata": {},
   "source": [
    "categorical -> quantitive"
   ]
  },
  {
   "cell_type": "code",
   "execution_count": 26,
   "metadata": {},
   "outputs": [
    {
     "data": {
      "image/png": "[encoded data removed]",
      "text/plain": [
       "<Figure size 576x432 with 1 Axes>"
      ]
     },
     "metadata": {
      "needs_background": "light"
     },
     "output_type": "display_data"
    }
   ],
   "source": [
    "box_plot('sex')"
   ]
  },
  {
   "cell_type": "code",
   "execution_count": 27,
   "metadata": {},
   "outputs": [
    {
     "data": {
      "text/html": [
       "<div>\n",
       "<style scoped>\n",
       "    .dataframe tbody tr th:only-of-type {\n",
       "        vertical-align: middle;\n",
       "    }\n",
       "\n",
       "    .dataframe tbody tr th {\n",
       "        vertical-align: top;\n",
       "    }\n",
       "\n",
       "    .dataframe thead th {\n",
       "        text-align: right;\n",
       "    }\n",
       "</style>\n",
       "<table border=\"1\" class=\"dataframe\">\n",
       "  <thead>\n",
       "    <tr style=\"text-align: right;\">\n",
       "      <th></th>\n",
       "      <th>female</th>\n",
       "      <th>male</th>\n",
       "    </tr>\n",
       "  </thead>\n",
       "  <tbody>\n",
       "    <tr>\n",
       "      <th>count</th>\n",
       "      <td>662.000000</td>\n",
       "      <td>676.000000</td>\n",
       "    </tr>\n",
       "    <tr>\n",
       "      <th>mean</th>\n",
       "      <td>12569.578844</td>\n",
       "      <td>13956.751178</td>\n",
       "    </tr>\n",
       "    <tr>\n",
       "      <th>std</th>\n",
       "      <td>11128.703801</td>\n",
       "      <td>12971.025915</td>\n",
       "    </tr>\n",
       "    <tr>\n",
       "      <th>min</th>\n",
       "      <td>1607.510100</td>\n",
       "      <td>1121.873900</td>\n",
       "    </tr>\n",
       "    <tr>\n",
       "      <th>25%</th>\n",
       "      <td>4885.158700</td>\n",
       "      <td>4619.134000</td>\n",
       "    </tr>\n",
       "    <tr>\n",
       "      <th>50%</th>\n",
       "      <td>9412.962500</td>\n",
       "      <td>9369.615750</td>\n",
       "    </tr>\n",
       "    <tr>\n",
       "      <th>75%</th>\n",
       "      <td>14454.691825</td>\n",
       "      <td>18989.590250</td>\n",
       "    </tr>\n",
       "    <tr>\n",
       "      <th>max</th>\n",
       "      <td>63770.428010</td>\n",
       "      <td>62592.873090</td>\n",
       "    </tr>\n",
       "  </tbody>\n",
       "</table>\n",
       "</div>"
      ],
      "text/plain": [
       "             female          male\n",
       "count    662.000000    676.000000\n",
       "mean   12569.578844  13956.751178\n",
       "std    11128.703801  12971.025915\n",
       "min     1607.510100   1121.873900\n",
       "25%     4885.158700   4619.134000\n",
       "50%     9412.962500   9369.615750\n",
       "75%    14454.691825  18989.590250\n",
       "max    63770.428010  62592.873090"
      ]
     },
     "execution_count": 27,
     "metadata": {},
     "output_type": "execute_result"
    }
   ],
   "source": [
    "descriptive_stats('sex')"
   ]
  },
  {
   "cell_type": "code",
   "execution_count": 28,
   "metadata": {},
   "outputs": [
    {
     "data": {
      "text/plain": [
       "{'female': 65, 'male': 44}"
      ]
     },
     "execution_count": 28,
     "metadata": {},
     "output_type": "execute_result"
    }
   ],
   "source": [
    "count_outliers('sex')"
   ]
  },
  {
   "cell_type": "markdown",
   "metadata": {},
   "source": [
    "median's are close to each other. \n",
    "\n",
    "min, max, Q1, range are close\n",
    "\n",
    "male Q3 is larger than female Q3\n",
    "\n",
    "the largest observation that are not classified as outlier in male's are higher then in female's. \n",
    "\n",
    "female's have more outliers"
   ]
  },
  {
   "cell_type": "code",
   "execution_count": 29,
   "metadata": {},
   "outputs": [
    {
     "data": {
      "image/png": "[encoded data removed]",
      "text/plain": [
       "<Figure size 576x432 with 1 Axes>"
      ]
     },
     "metadata": {
      "needs_background": "light"
     },
     "output_type": "display_data"
    }
   ],
   "source": [
    "box_plot('smoker')"
   ]
  },
  {
   "cell_type": "code",
   "execution_count": 30,
   "metadata": {},
   "outputs": [
    {
     "data": {
      "text/html": [
       "<div>\n",
       "<style scoped>\n",
       "    .dataframe tbody tr th:only-of-type {\n",
       "        vertical-align: middle;\n",
       "    }\n",
       "\n",
       "    .dataframe tbody tr th {\n",
       "        vertical-align: top;\n",
       "    }\n",
       "\n",
       "    .dataframe thead th {\n",
       "        text-align: right;\n",
       "    }\n",
       "</style>\n",
       "<table border=\"1\" class=\"dataframe\">\n",
       "  <thead>\n",
       "    <tr style=\"text-align: right;\">\n",
       "      <th></th>\n",
       "      <th>no</th>\n",
       "      <th>yes</th>\n",
       "    </tr>\n",
       "  </thead>\n",
       "  <tbody>\n",
       "    <tr>\n",
       "      <th>count</th>\n",
       "      <td>1064.000000</td>\n",
       "      <td>274.000000</td>\n",
       "    </tr>\n",
       "    <tr>\n",
       "      <th>mean</th>\n",
       "      <td>8434.268298</td>\n",
       "      <td>32050.231832</td>\n",
       "    </tr>\n",
       "    <tr>\n",
       "      <th>std</th>\n",
       "      <td>5993.781819</td>\n",
       "      <td>11541.547176</td>\n",
       "    </tr>\n",
       "    <tr>\n",
       "      <th>min</th>\n",
       "      <td>1121.873900</td>\n",
       "      <td>12829.455100</td>\n",
       "    </tr>\n",
       "    <tr>\n",
       "      <th>25%</th>\n",
       "      <td>3986.438700</td>\n",
       "      <td>20826.244213</td>\n",
       "    </tr>\n",
       "    <tr>\n",
       "      <th>50%</th>\n",
       "      <td>7345.405300</td>\n",
       "      <td>34456.348450</td>\n",
       "    </tr>\n",
       "    <tr>\n",
       "      <th>75%</th>\n",
       "      <td>11362.887050</td>\n",
       "      <td>41019.207275</td>\n",
       "    </tr>\n",
       "    <tr>\n",
       "      <th>max</th>\n",
       "      <td>36910.608030</td>\n",
       "      <td>63770.428010</td>\n",
       "    </tr>\n",
       "  </tbody>\n",
       "</table>\n",
       "</div>"
      ],
      "text/plain": [
       "                 no           yes\n",
       "count   1064.000000    274.000000\n",
       "mean    8434.268298  32050.231832\n",
       "std     5993.781819  11541.547176\n",
       "min     1121.873900  12829.455100\n",
       "25%     3986.438700  20826.244213\n",
       "50%     7345.405300  34456.348450\n",
       "75%    11362.887050  41019.207275\n",
       "max    36910.608030  63770.428010"
      ]
     },
     "execution_count": 30,
     "metadata": {},
     "output_type": "execute_result"
    }
   ],
   "source": [
    "descriptive_stats('smoker')"
   ]
  },
  {
   "cell_type": "markdown",
   "metadata": {},
   "source": [
    "there is huge difference between smokers and non-smokers\n",
    "\n",
    "every statistic of smokers is higher than non-smokers\n",
    "\n",
    "there are many outliers in non-smokers"
   ]
  },
  {
   "cell_type": "code",
   "execution_count": 31,
   "metadata": {},
   "outputs": [
    {
     "data": {
      "image/png": "[encoded data removed]",
      "text/plain": [
       "<Figure size 576x432 with 1 Axes>"
      ]
     },
     "metadata": {
      "needs_background": "light"
     },
     "output_type": "display_data"
    }
   ],
   "source": [
    "box_plot('region')"
   ]
  },
  {
   "cell_type": "code",
   "execution_count": 32,
   "metadata": {},
   "outputs": [
    {
     "data": {
      "text/html": [
       "<div>\n",
       "<style scoped>\n",
       "    .dataframe tbody tr th:only-of-type {\n",
       "        vertical-align: middle;\n",
       "    }\n",
       "\n",
       "    .dataframe tbody tr th {\n",
       "        vertical-align: top;\n",
       "    }\n",
       "\n",
       "    .dataframe thead th {\n",
       "        text-align: right;\n",
       "    }\n",
       "</style>\n",
       "<table border=\"1\" class=\"dataframe\">\n",
       "  <thead>\n",
       "    <tr style=\"text-align: right;\">\n",
       "      <th></th>\n",
       "      <th>northeast</th>\n",
       "      <th>northwest</th>\n",
       "      <th>southeast</th>\n",
       "      <th>southwest</th>\n",
       "    </tr>\n",
       "  </thead>\n",
       "  <tbody>\n",
       "    <tr>\n",
       "      <th>count</th>\n",
       "      <td>324.000000</td>\n",
       "      <td>325.000000</td>\n",
       "      <td>364.000000</td>\n",
       "      <td>325.000000</td>\n",
       "    </tr>\n",
       "    <tr>\n",
       "      <th>mean</th>\n",
       "      <td>13406.384516</td>\n",
       "      <td>12417.575374</td>\n",
       "      <td>14735.411438</td>\n",
       "      <td>12346.937377</td>\n",
       "    </tr>\n",
       "    <tr>\n",
       "      <th>std</th>\n",
       "      <td>11255.803066</td>\n",
       "      <td>11072.276928</td>\n",
       "      <td>13971.098589</td>\n",
       "      <td>11557.179101</td>\n",
       "    </tr>\n",
       "    <tr>\n",
       "      <th>min</th>\n",
       "      <td>1694.796400</td>\n",
       "      <td>1621.340200</td>\n",
       "      <td>1121.873900</td>\n",
       "      <td>1241.565000</td>\n",
       "    </tr>\n",
       "    <tr>\n",
       "      <th>25%</th>\n",
       "      <td>5194.322288</td>\n",
       "      <td>4719.736550</td>\n",
       "      <td>4440.886200</td>\n",
       "      <td>4751.070000</td>\n",
       "    </tr>\n",
       "    <tr>\n",
       "      <th>50%</th>\n",
       "      <td>10057.652025</td>\n",
       "      <td>8965.795750</td>\n",
       "      <td>9294.131950</td>\n",
       "      <td>8798.593000</td>\n",
       "    </tr>\n",
       "    <tr>\n",
       "      <th>75%</th>\n",
       "      <td>16687.364100</td>\n",
       "      <td>14711.743800</td>\n",
       "      <td>19526.286900</td>\n",
       "      <td>13462.520000</td>\n",
       "    </tr>\n",
       "    <tr>\n",
       "      <th>max</th>\n",
       "      <td>58571.074480</td>\n",
       "      <td>60021.398970</td>\n",
       "      <td>63770.428010</td>\n",
       "      <td>52590.829390</td>\n",
       "    </tr>\n",
       "  </tbody>\n",
       "</table>\n",
       "</div>"
      ],
      "text/plain": [
       "          northeast     northwest     southeast     southwest\n",
       "count    324.000000    325.000000    364.000000    325.000000\n",
       "mean   13406.384516  12417.575374  14735.411438  12346.937377\n",
       "std    11255.803066  11072.276928  13971.098589  11557.179101\n",
       "min     1694.796400   1621.340200   1121.873900   1241.565000\n",
       "25%     5194.322288   4719.736550   4440.886200   4751.070000\n",
       "50%    10057.652025   8965.795750   9294.131950   8798.593000\n",
       "75%    16687.364100  14711.743800  19526.286900  13462.520000\n",
       "max    58571.074480  60021.398970  63770.428010  52590.829390"
      ]
     },
     "execution_count": 32,
     "metadata": {},
     "output_type": "execute_result"
    }
   ],
   "source": [
    "descriptive_stats('region')"
   ]
  },
  {
   "cell_type": "code",
   "execution_count": 33,
   "metadata": {},
   "outputs": [
    {
     "data": {
      "text/plain": [
       "{'northeast': 29, 'northwest': 29, 'southeast': 26, 'southwest': 38}"
      ]
     },
     "execution_count": 33,
     "metadata": {},
     "output_type": "execute_result"
    }
   ],
   "source": [
    "count_outliers('region')"
   ]
  },
  {
   "cell_type": "markdown",
   "metadata": {},
   "source": [
    "median of regions are close to each other\n",
    "\n",
    "range of southeast are the highest\n",
    "\n",
    "southwest have more outliers"
   ]
  },
  {
   "cell_type": "markdown",
   "metadata": {},
   "source": [
    "As a result we can conclude that smokers have the biggest impact on the target variable\n",
    "\n",
    "region and sex - not."
   ]
  },
  {
   "cell_type": "markdown",
   "metadata": {},
   "source": [
    "categorical variables to numerical"
   ]
  },
  {
   "cell_type": "code",
   "execution_count": 34,
   "metadata": {},
   "outputs": [],
   "source": [
    "data['sex'] = data['sex'].apply(lambda x: 0 if x == 'female' else 1)\n",
    "data['smoker'] = data['smoker'].apply(lambda x: 0 if x == 'no' else 1)"
   ]
  },
  {
   "cell_type": "markdown",
   "metadata": {},
   "source": [
    "Data engineering"
   ]
  },
  {
   "cell_type": "code",
   "execution_count": 35,
   "metadata": {},
   "outputs": [],
   "source": [
    "data['has_no_child'] = 1\n",
    "data['has_no_child'].loc[data['children'] > 0] = 0"
   ]
  },
  {
   "cell_type": "code",
   "execution_count": 36,
   "metadata": {},
   "outputs": [],
   "source": [
    "data['bmi/age'] = data['bmi'] / data['age']"
   ]
  },
  {
   "cell_type": "code",
   "execution_count": 37,
   "metadata": {},
   "outputs": [],
   "source": [
    "data['children/age'] = data['children'] / data['age']"
   ]
  },
  {
   "cell_type": "code",
   "execution_count": 38,
   "metadata": {},
   "outputs": [
    {
     "data": {
      "text/html": [
       "<div>\n",
       "<style scoped>\n",
       "    .dataframe tbody tr th:only-of-type {\n",
       "        vertical-align: middle;\n",
       "    }\n",
       "\n",
       "    .dataframe tbody tr th {\n",
       "        vertical-align: top;\n",
       "    }\n",
       "\n",
       "    .dataframe thead th {\n",
       "        text-align: right;\n",
       "    }\n",
       "</style>\n",
       "<table border=\"1\" class=\"dataframe\">\n",
       "  <thead>\n",
       "    <tr style=\"text-align: right;\">\n",
       "      <th></th>\n",
       "      <th>age</th>\n",
       "      <th>sex</th>\n",
       "      <th>bmi</th>\n",
       "      <th>children</th>\n",
       "      <th>smoker</th>\n",
       "      <th>region</th>\n",
       "      <th>charges</th>\n",
       "      <th>has_no_child</th>\n",
       "      <th>bmi/age</th>\n",
       "      <th>children/age</th>\n",
       "    </tr>\n",
       "  </thead>\n",
       "  <tbody>\n",
       "    <tr>\n",
       "      <th>0</th>\n",
       "      <td>19</td>\n",
       "      <td>0</td>\n",
       "      <td>27.900</td>\n",
       "      <td>0</td>\n",
       "      <td>1</td>\n",
       "      <td>southwest</td>\n",
       "      <td>16884.92400</td>\n",
       "      <td>1</td>\n",
       "      <td>1.468421</td>\n",
       "      <td>0.000000</td>\n",
       "    </tr>\n",
       "    <tr>\n",
       "      <th>1</th>\n",
       "      <td>18</td>\n",
       "      <td>1</td>\n",
       "      <td>33.770</td>\n",
       "      <td>1</td>\n",
       "      <td>0</td>\n",
       "      <td>southeast</td>\n",
       "      <td>1725.55230</td>\n",
       "      <td>0</td>\n",
       "      <td>1.876111</td>\n",
       "      <td>0.055556</td>\n",
       "    </tr>\n",
       "    <tr>\n",
       "      <th>2</th>\n",
       "      <td>28</td>\n",
       "      <td>1</td>\n",
       "      <td>33.000</td>\n",
       "      <td>3</td>\n",
       "      <td>0</td>\n",
       "      <td>southeast</td>\n",
       "      <td>4449.46200</td>\n",
       "      <td>0</td>\n",
       "      <td>1.178571</td>\n",
       "      <td>0.107143</td>\n",
       "    </tr>\n",
       "    <tr>\n",
       "      <th>3</th>\n",
       "      <td>33</td>\n",
       "      <td>1</td>\n",
       "      <td>22.705</td>\n",
       "      <td>0</td>\n",
       "      <td>0</td>\n",
       "      <td>northwest</td>\n",
       "      <td>21984.47061</td>\n",
       "      <td>1</td>\n",
       "      <td>0.688030</td>\n",
       "      <td>0.000000</td>\n",
       "    </tr>\n",
       "    <tr>\n",
       "      <th>4</th>\n",
       "      <td>32</td>\n",
       "      <td>1</td>\n",
       "      <td>28.880</td>\n",
       "      <td>0</td>\n",
       "      <td>0</td>\n",
       "      <td>northwest</td>\n",
       "      <td>3866.85520</td>\n",
       "      <td>1</td>\n",
       "      <td>0.902500</td>\n",
       "      <td>0.000000</td>\n",
       "    </tr>\n",
       "  </tbody>\n",
       "</table>\n",
       "</div>"
      ],
      "text/plain": [
       "   age  sex     bmi  children  smoker     region      charges  has_no_child  \\\n",
       "0   19    0  27.900         0       1  southwest  16884.92400             1   \n",
       "1   18    1  33.770         1       0  southeast   1725.55230             0   \n",
       "2   28    1  33.000         3       0  southeast   4449.46200             0   \n",
       "3   33    1  22.705         0       0  northwest  21984.47061             1   \n",
       "4   32    1  28.880         0       0  northwest   3866.85520             1   \n",
       "\n",
       "    bmi/age  children/age  \n",
       "0  1.468421      0.000000  \n",
       "1  1.876111      0.055556  \n",
       "2  1.178571      0.107143  \n",
       "3  0.688030      0.000000  \n",
       "4  0.902500      0.000000  "
      ]
     },
     "execution_count": 38,
     "metadata": {},
     "output_type": "execute_result"
    }
   ],
   "source": [
    "data.head()"
   ]
  },
  {
   "cell_type": "code",
   "execution_count": 39,
   "metadata": {},
   "outputs": [
    {
     "data": {
      "image/png": "[encoded data removed]",
      "text/plain": [
       "<Figure size 432x288 with 2 Axes>"
      ]
     },
     "metadata": {
      "needs_background": "light"
     },
     "output_type": "display_data"
    }
   ],
   "source": [
    "corrmat_plot(len(data))"
   ]
  },
  {
   "cell_type": "code",
   "execution_count": 40,
   "metadata": {},
   "outputs": [],
   "source": [
    "data['region'] = data['region'].astype('category')\n",
    "data['region_cat'] = data['region'].cat.codes\n",
    "data.drop(['region'], inplace=True, axis=1)"
   ]
  },
  {
   "cell_type": "code",
   "execution_count": 41,
   "metadata": {},
   "outputs": [],
   "source": [
    "from sklearn.preprocessing import MinMaxScaler\n",
    "from sklearn.metrics import mean_squared_error"
   ]
  },
  {
   "cell_type": "markdown",
   "metadata": {},
   "source": [
    "Depending on the business task, we can choose one of two options\n",
    "\n",
    "- If we have more interest in large charges, we shouldn't change the target variable\n",
    "- If we have interest in all charges, we should log tranform the target variable"
   ]
  },
  {
   "cell_type": "markdown",
   "metadata": {},
   "source": [
    "# 1 pipeline without log transformation"
   ]
  },
  {
   "cell_type": "code",
   "execution_count": 42,
   "metadata": {},
   "outputs": [],
   "source": [
    "y = data[target]\n",
    "X = data.drop([target], axis=1)"
   ]
  },
  {
   "cell_type": "code",
   "execution_count": 43,
   "metadata": {},
   "outputs": [
    {
     "data": {
      "text/plain": [
       "((1338, 9), (1338,))"
      ]
     },
     "execution_count": 43,
     "metadata": {},
     "output_type": "execute_result"
    }
   ],
   "source": [
    "X.shape, y.shape"
   ]
  },
  {
   "cell_type": "code",
   "execution_count": 44,
   "metadata": {},
   "outputs": [],
   "source": [
    "X_trainval, X_test, y_trainval, y_test = train_test_split(X, y, random_state=22, test_size=0.2)"
   ]
  },
  {
   "cell_type": "code",
   "execution_count": 45,
   "metadata": {},
   "outputs": [],
   "source": [
    "X_train, X_val, y_train, y_val = train_test_split(X_trainval, y_trainval, random_state=23, test_size=0.2)"
   ]
  },
  {
   "cell_type": "code",
   "execution_count": 46,
   "metadata": {},
   "outputs": [
    {
     "data": {
      "text/plain": [
       "((1070, 9), (856, 9), (214, 9), (268, 9))"
      ]
     },
     "execution_count": 46,
     "metadata": {},
     "output_type": "execute_result"
    }
   ],
   "source": [
    "X_trainval.shape, X_train.shape, X_val.shape, X_test.shape"
   ]
  },
  {
   "cell_type": "markdown",
   "metadata": {},
   "source": [
    "### normalize the data"
   ]
  },
  {
   "cell_type": "code",
   "execution_count": 47,
   "metadata": {},
   "outputs": [],
   "source": [
    "scaler = MinMaxScaler().fit(X_trainval)"
   ]
  },
  {
   "cell_type": "code",
   "execution_count": 48,
   "metadata": {},
   "outputs": [],
   "source": [
    "X_trainval_scaled = scaler.transform(X_trainval)"
   ]
  },
  {
   "cell_type": "markdown",
   "metadata": {},
   "source": [
    "use the same scaler to the test set to "
   ]
  },
  {
   "cell_type": "code",
   "execution_count": 49,
   "metadata": {},
   "outputs": [],
   "source": [
    "X_test_scaled = scaler.transform(X_test)"
   ]
  },
  {
   "cell_type": "markdown",
   "metadata": {},
   "source": [
    "## Training"
   ]
  },
  {
   "cell_type": "markdown",
   "metadata": {},
   "source": [
    "Our data is not linear, that why we should use something else than linear models."
   ]
  },
  {
   "cell_type": "code",
   "execution_count": 50,
   "metadata": {},
   "outputs": [],
   "source": [
    "from sklearn import linear_model\n",
    "from sklearn import ensemble\n",
    "import xgboost\n",
    "from sklearn.model_selection import GridSearchCV\n",
    "\n",
    "from sklearn.metrics import make_scorer\n",
    "from sklearn.metrics import mean_squared_error"
   ]
  },
  {
   "cell_type": "code",
   "execution_count": 51,
   "metadata": {},
   "outputs": [],
   "source": [
    "neg_mse = make_scorer(mean_squared_error, greater_is_better=False)"
   ]
  },
  {
   "cell_type": "code",
   "execution_count": 52,
   "metadata": {},
   "outputs": [],
   "source": [
    "class XGBoostHelper:\n",
    "    def __init__(self, xgboost_params, datasets, early_stopping_rounds=None, model=None):\n",
    "        self.xgboost_params = xgboost_params\n",
    "        self.model = model\n",
    "        if len(datasets) == 3:\n",
    "            # train/val/test split\n",
    "            self.train_data, self.val_data, self.test_data = datasets\n",
    "        elif len(datasets) == 2:\n",
    "            # train/test split\n",
    "            self.train_data, self.test_data = datasets\n",
    "            self.val_data = None\n",
    "        else:\n",
    "            raise Exception('datasets should be list with length 2 or 3')\n",
    "        self.early_stopping_rounds = early_stopping_rounds\n",
    "    \n",
    "    def train(self):\n",
    "        eval_params = {'eval_metric': ['rmse'],\n",
    "                       'eval_set': [self.train_data, self.val_data],\n",
    "                       'early_stopping_rounds': self.early_stopping_rounds} if self.val_data is not None else {}\n",
    "        self.model = xgboost.XGBRegressor(**self.xgboost_params).fit(self.train_data[0],\n",
    "                                                                     self.train_data[1],\n",
    "                                                                     **eval_params)\n",
    "        if self.val_data is not None:\n",
    "            self.results_ = self.model.evals_result()\n",
    "        self.evals()\n",
    "\n",
    "        \n",
    "    def evals(self):\n",
    "        print(\"with params:\")\n",
    "        [print(f\"{x:<25} - {self.xgboost_params[x]}\") for x in self.xgboost_params]\n",
    "        \n",
    "        print(f\"xgboost train set r2-score {self.model.score(self.train_data[0], self.train_data[1])}\")\n",
    "        if self.val_data is not None:\n",
    "            print(f\"xgboost val set r2-score {self.model.score(self.val_data[0], self.val_data[1])}\")\n",
    "        print(f\"xgboost test set r2-score {self.model.score(self.test_data[0], self.test_data[1])}\")\n",
    "        \n",
    "        print(f\"xgboost train set rmse {np.sqrt(mean_squared_error(self.train_data[1], self.model.predict(self.train_data[0])))}\")\n",
    "        if self.val_data is not None:\n",
    "            print(f\"xgboost val set rmse {np.sqrt(mean_squared_error(self.val_data[1], self.model.predict(self.val_data[0])))}\")\n",
    "        print(f\"xgboost test set rmse {np.sqrt(mean_squared_error(self.test_data[1], self.model.predict(self.test_data[0])))}\")\n",
    "        "
   ]
  },
  {
   "cell_type": "code",
   "execution_count": 53,
   "metadata": {},
   "outputs": [],
   "source": [
    "xgboost_params = {\n",
    "                #'gamma':0,                 \n",
    "                'learning_rate':0.03,\n",
    "                #'max_depth':10,\n",
    "                #'min_child_weight':1,\n",
    "                'n_estimators':1000,                                                                    \n",
    "                #'reg_alpha':2,\n",
    "                #'reg_lambda':1,\n",
    "                #'subsample':0.7,\n",
    "                'objective':'reg:squarederror'\n",
    "                }"
   ]
  },
  {
   "cell_type": "markdown",
   "metadata": {},
   "source": [
    "In xgboost we shouldn't use scaled data."
   ]
  },
  {
   "cell_type": "code",
   "execution_count": 54,
   "metadata": {
    "scrolled": true
   },
   "outputs": [
    {
     "name": "stdout",
     "output_type": "stream",
     "text": [
      "[0]\tvalidation_0-rmse:17245.3\tvalidation_1-rmse:18148.5\n",
      "Multiple eval metrics have been passed: 'validation_1-rmse' will be used for early stopping.\n",
      "\n",
      "Will train until validation_1-rmse hasn't improved in 10 rounds.\n",
      "[1]\tvalidation_0-rmse:16771.3\tvalidation_1-rmse:17660.3\n",
      "[2]\tvalidation_0-rmse:16312.3\tvalidation_1-rmse:17187.6\n",
      "[3]\tvalidation_0-rmse:15867.4\tvalidation_1-rmse:16727\n",
      "[4]\tvalidation_0-rmse:15436.8\tvalidation_1-rmse:16284.1\n",
      "[5]\tvalidation_0-rmse:15019.5\tvalidation_1-rmse:15851.2\n",
      "[6]\tvalidation_0-rmse:14615.6\tvalidation_1-rmse:15434.2\n",
      "[7]\tvalidation_0-rmse:14224.7\tvalidation_1-rmse:15030.6\n",
      "[8]\tvalidation_0-rmse:13846.1\tvalidation_1-rmse:14640.8\n",
      "[9]\tvalidation_0-rmse:13479.9\tvalidation_1-rmse:14264.3\n",
      "[10]\tvalidation_0-rmse:13125.3\tvalidation_1-rmse:13898.4\n",
      "[11]\tvalidation_0-rmse:12782.3\tvalidation_1-rmse:13546.7\n",
      "[12]\tvalidation_0-rmse:12450.5\tvalidation_1-rmse:13204.5\n",
      "[13]\tvalidation_0-rmse:12129.6\tvalidation_1-rmse:12874.3\n",
      "[14]\tvalidation_0-rmse:11819.2\tvalidation_1-rmse:12555.1\n",
      "[15]\tvalidation_0-rmse:11519.1\tvalidation_1-rmse:12247.7\n",
      "[16]\tvalidation_0-rmse:11228.9\tvalidation_1-rmse:11947.2\n",
      "[17]\tvalidation_0-rmse:10948.5\tvalidation_1-rmse:11658.2\n",
      "[18]\tvalidation_0-rmse:10677.7\tvalidation_1-rmse:11380.4\n",
      "[19]\tvalidation_0-rmse:10415.9\tvalidation_1-rmse:11106.2\n",
      "[20]\tvalidation_0-rmse:10163\tvalidation_1-rmse:10845.4\n",
      "[21]\tvalidation_0-rmse:9918.96\tvalidation_1-rmse:10596\n",
      "[22]\tvalidation_0-rmse:9683.28\tvalidation_1-rmse:10352.6\n",
      "[23]\tvalidation_0-rmse:9455.7\tvalidation_1-rmse:10115.4\n",
      "[24]\tvalidation_0-rmse:9236.22\tvalidation_1-rmse:9891.56\n",
      "[25]\tvalidation_0-rmse:9024.49\tvalidation_1-rmse:9672.32\n",
      "[26]\tvalidation_0-rmse:8820.29\tvalidation_1-rmse:9461.65\n",
      "[27]\tvalidation_0-rmse:8623.36\tvalidation_1-rmse:9259.36\n",
      "[28]\tvalidation_0-rmse:8433.17\tvalidation_1-rmse:9063.1\n",
      "[29]\tvalidation_0-rmse:8250.24\tvalidation_1-rmse:8875.15\n",
      "[30]\tvalidation_0-rmse:8074.01\tvalidation_1-rmse:8696.37\n",
      "[31]\tvalidation_0-rmse:7904.16\tvalidation_1-rmse:8520.44\n",
      "[32]\tvalidation_0-rmse:7740.45\tvalidation_1-rmse:8348.19\n",
      "[33]\tvalidation_0-rmse:7583\tvalidation_1-rmse:8182.15\n",
      "[34]\tvalidation_0-rmse:7431.5\tvalidation_1-rmse:8033.46\n",
      "[35]\tvalidation_0-rmse:7285.72\tvalidation_1-rmse:7882.03\n",
      "[36]\tvalidation_0-rmse:7145.67\tvalidation_1-rmse:7737.87\n",
      "[37]\tvalidation_0-rmse:7011.02\tvalidation_1-rmse:7602.99\n",
      "[38]\tvalidation_0-rmse:6881.74\tvalidation_1-rmse:7470.57\n",
      "[39]\tvalidation_0-rmse:6757.52\tvalidation_1-rmse:7343.97\n",
      "[40]\tvalidation_0-rmse:6638.03\tvalidation_1-rmse:7220.03\n",
      "[41]\tvalidation_0-rmse:6523.62\tvalidation_1-rmse:7102.58\n",
      "[42]\tvalidation_0-rmse:6413.58\tvalidation_1-rmse:6993.45\n",
      "[43]\tvalidation_0-rmse:6308.19\tvalidation_1-rmse:6883.56\n",
      "[44]\tvalidation_0-rmse:6207.01\tvalidation_1-rmse:6785.9\n",
      "[45]\tvalidation_0-rmse:6110.11\tvalidation_1-rmse:6683.85\n",
      "[46]\tvalidation_0-rmse:6016.4\tvalidation_1-rmse:6588.47\n",
      "[47]\tvalidation_0-rmse:5927.49\tvalidation_1-rmse:6501.08\n",
      "[48]\tvalidation_0-rmse:5841.42\tvalidation_1-rmse:6414.64\n",
      "[49]\tvalidation_0-rmse:5759.86\tvalidation_1-rmse:6334.37\n",
      "[50]\tvalidation_0-rmse:5681.08\tvalidation_1-rmse:6255.14\n",
      "[51]\tvalidation_0-rmse:5606.41\tvalidation_1-rmse:6179.16\n",
      "[52]\tvalidation_0-rmse:5534.85\tvalidation_1-rmse:6111.43\n",
      "[53]\tvalidation_0-rmse:5465.94\tvalidation_1-rmse:6042.85\n",
      "[54]\tvalidation_0-rmse:5400.78\tvalidation_1-rmse:5978.77\n",
      "[55]\tvalidation_0-rmse:5337.86\tvalidation_1-rmse:5915.97\n",
      "[56]\tvalidation_0-rmse:5278.34\tvalidation_1-rmse:5854.29\n",
      "[57]\tvalidation_0-rmse:5220.49\tvalidation_1-rmse:5801.57\n",
      "[58]\tvalidation_0-rmse:5165.66\tvalidation_1-rmse:5749.19\n",
      "[59]\tvalidation_0-rmse:5113.06\tvalidation_1-rmse:5700.86\n",
      "[60]\tvalidation_0-rmse:5063.33\tvalidation_1-rmse:5650.79\n",
      "[61]\tvalidation_0-rmse:5015.65\tvalidation_1-rmse:5604.55\n",
      "[62]\tvalidation_0-rmse:4969.58\tvalidation_1-rmse:5562.04\n",
      "[63]\tvalidation_0-rmse:4926.27\tvalidation_1-rmse:5522.87\n",
      "[64]\tvalidation_0-rmse:4884.88\tvalidation_1-rmse:5482.98\n",
      "[65]\tvalidation_0-rmse:4844.83\tvalidation_1-rmse:5444.44\n",
      "[66]\tvalidation_0-rmse:4807.38\tvalidation_1-rmse:5405.99\n",
      "[67]\tvalidation_0-rmse:4771.13\tvalidation_1-rmse:5372.27\n",
      "[68]\tvalidation_0-rmse:4736.96\tvalidation_1-rmse:5338.87\n",
      "[69]\tvalidation_0-rmse:4704.07\tvalidation_1-rmse:5310.43\n",
      "[70]\tvalidation_0-rmse:4672.63\tvalidation_1-rmse:5280.78\n",
      "[71]\tvalidation_0-rmse:4643.01\tvalidation_1-rmse:5253.31\n",
      "[72]\tvalidation_0-rmse:4614.8\tvalidation_1-rmse:5226.27\n",
      "[73]\tvalidation_0-rmse:4587.28\tvalidation_1-rmse:5201.07\n",
      "[74]\tvalidation_0-rmse:4561.74\tvalidation_1-rmse:5177.04\n",
      "[75]\tvalidation_0-rmse:4536.39\tvalidation_1-rmse:5154.36\n",
      "[76]\tvalidation_0-rmse:4513\tvalidation_1-rmse:5134.47\n",
      "[77]\tvalidation_0-rmse:4490.05\tvalidation_1-rmse:5113.56\n",
      "[78]\tvalidation_0-rmse:4468.46\tvalidation_1-rmse:5095.99\n",
      "[79]\tvalidation_0-rmse:4447.8\tvalidation_1-rmse:5076.91\n",
      "[80]\tvalidation_0-rmse:4427.88\tvalidation_1-rmse:5060.29\n",
      "[81]\tvalidation_0-rmse:4409.4\tvalidation_1-rmse:5042.96\n",
      "[82]\tvalidation_0-rmse:4391.15\tvalidation_1-rmse:5028.96\n",
      "[83]\tvalidation_0-rmse:4373.77\tvalidation_1-rmse:5014.62\n",
      "[84]\tvalidation_0-rmse:4357.72\tvalidation_1-rmse:5000.79\n",
      "[85]\tvalidation_0-rmse:4341.76\tvalidation_1-rmse:4987.16\n",
      "[86]\tvalidation_0-rmse:4326.54\tvalidation_1-rmse:4974.97\n",
      "[87]\tvalidation_0-rmse:4312.29\tvalidation_1-rmse:4961.8\n",
      "[88]\tvalidation_0-rmse:4298.25\tvalidation_1-rmse:4950.54\n",
      "[89]\tvalidation_0-rmse:4284.91\tvalidation_1-rmse:4939.47\n",
      "[90]\tvalidation_0-rmse:4272.1\tvalidation_1-rmse:4928.88\n",
      "[91]\tvalidation_0-rmse:4260.45\tvalidation_1-rmse:4918.71\n",
      "[92]\tvalidation_0-rmse:4248.82\tvalidation_1-rmse:4910.23\n",
      "[93]\tvalidation_0-rmse:4237.72\tvalidation_1-rmse:4901.85\n",
      "[94]\tvalidation_0-rmse:4226.93\tvalidation_1-rmse:4892.35\n",
      "[95]\tvalidation_0-rmse:4216.81\tvalidation_1-rmse:4884.75\n",
      "[96]\tvalidation_0-rmse:4206.98\tvalidation_1-rmse:4877.29\n",
      "[97]\tvalidation_0-rmse:4197.98\tvalidation_1-rmse:4869.33\n",
      "[98]\tvalidation_0-rmse:4188.97\tvalidation_1-rmse:4862.17\n",
      "[99]\tvalidation_0-rmse:4180.24\tvalidation_1-rmse:4856.42\n",
      "[100]\tvalidation_0-rmse:4172.4\tvalidation_1-rmse:4849.67\n",
      "[101]\tvalidation_0-rmse:4164.5\tvalidation_1-rmse:4845.22\n",
      "[102]\tvalidation_0-rmse:4156.74\tvalidation_1-rmse:4839.09\n",
      "[103]\tvalidation_0-rmse:4149.16\tvalidation_1-rmse:4832.98\n",
      "[104]\tvalidation_0-rmse:4142.44\tvalidation_1-rmse:4826.73\n",
      "[105]\tvalidation_0-rmse:4135.66\tvalidation_1-rmse:4822.16\n",
      "[106]\tvalidation_0-rmse:4129.12\tvalidation_1-rmse:4817.55\n",
      "[107]\tvalidation_0-rmse:4122.89\tvalidation_1-rmse:4812.06\n",
      "[108]\tvalidation_0-rmse:4116.6\tvalidation_1-rmse:4806.13\n",
      "[109]\tvalidation_0-rmse:4111.14\tvalidation_1-rmse:4801.72\n",
      "[110]\tvalidation_0-rmse:4105.36\tvalidation_1-rmse:4797.76\n",
      "[111]\tvalidation_0-rmse:4098.83\tvalidation_1-rmse:4791.57\n",
      "[112]\tvalidation_0-rmse:4093.13\tvalidation_1-rmse:4789.71\n",
      "[113]\tvalidation_0-rmse:4088.15\tvalidation_1-rmse:4786.9\n",
      "[114]\tvalidation_0-rmse:4082.74\tvalidation_1-rmse:4782.99\n",
      "[115]\tvalidation_0-rmse:4078.19\tvalidation_1-rmse:4780.7\n",
      "[116]\tvalidation_0-rmse:4073.14\tvalidation_1-rmse:4776.59\n",
      "[117]\tvalidation_0-rmse:4068.34\tvalidation_1-rmse:4772.63\n",
      "[118]\tvalidation_0-rmse:4063.35\tvalidation_1-rmse:4769.32\n",
      "[119]\tvalidation_0-rmse:4057.15\tvalidation_1-rmse:4767.09\n",
      "[120]\tvalidation_0-rmse:4052.73\tvalidation_1-rmse:4765.63\n",
      "[121]\tvalidation_0-rmse:4046.96\tvalidation_1-rmse:4763.7\n",
      "[122]\tvalidation_0-rmse:4039.85\tvalidation_1-rmse:4759.79\n",
      "[123]\tvalidation_0-rmse:4034.99\tvalidation_1-rmse:4756.1\n",
      "[124]\tvalidation_0-rmse:4029.68\tvalidation_1-rmse:4753.37\n",
      "[125]\tvalidation_0-rmse:4025.13\tvalidation_1-rmse:4752.1\n",
      "[126]\tvalidation_0-rmse:4021.23\tvalidation_1-rmse:4750.24\n",
      "[127]\tvalidation_0-rmse:4016.28\tvalidation_1-rmse:4749.44\n",
      "[128]\tvalidation_0-rmse:4009.91\tvalidation_1-rmse:4746.17\n",
      "[129]\tvalidation_0-rmse:4004.46\tvalidation_1-rmse:4746.16\n",
      "[130]\tvalidation_0-rmse:4000.28\tvalidation_1-rmse:4740.85\n",
      "[131]\tvalidation_0-rmse:3996.96\tvalidation_1-rmse:4739.69\n",
      "[132]\tvalidation_0-rmse:3993.48\tvalidation_1-rmse:4738.24\n",
      "[133]\tvalidation_0-rmse:3988.3\tvalidation_1-rmse:4738.54\n",
      "[134]\tvalidation_0-rmse:3982.48\tvalidation_1-rmse:4735.76\n",
      "[135]\tvalidation_0-rmse:3977.48\tvalidation_1-rmse:4736.13\n",
      "[136]\tvalidation_0-rmse:3973.17\tvalidation_1-rmse:4735.14\n",
      "[137]\tvalidation_0-rmse:3970.81\tvalidation_1-rmse:4734.92\n",
      "[138]\tvalidation_0-rmse:3967.6\tvalidation_1-rmse:4733.87\n",
      "[139]\tvalidation_0-rmse:3963.97\tvalidation_1-rmse:4728.15\n",
      "[140]\tvalidation_0-rmse:3961.04\tvalidation_1-rmse:4728.1\n"
     ]
    },
    {
     "name": "stdout",
     "output_type": "stream",
     "text": [
      "[141]\tvalidation_0-rmse:3957.83\tvalidation_1-rmse:4726.33\n",
      "[142]\tvalidation_0-rmse:3953.31\tvalidation_1-rmse:4726.38\n",
      "[143]\tvalidation_0-rmse:3951.22\tvalidation_1-rmse:4725.7\n",
      "[144]\tvalidation_0-rmse:3945.98\tvalidation_1-rmse:4723.5\n",
      "[145]\tvalidation_0-rmse:3943.65\tvalidation_1-rmse:4723\n",
      "[146]\tvalidation_0-rmse:3938.67\tvalidation_1-rmse:4721.58\n",
      "[147]\tvalidation_0-rmse:3936.45\tvalidation_1-rmse:4721.28\n",
      "[148]\tvalidation_0-rmse:3933.2\tvalidation_1-rmse:4717.45\n",
      "[149]\tvalidation_0-rmse:3930.25\tvalidation_1-rmse:4715.69\n",
      "[150]\tvalidation_0-rmse:3928.39\tvalidation_1-rmse:4715.19\n",
      "[151]\tvalidation_0-rmse:3925.43\tvalidation_1-rmse:4715.56\n",
      "[152]\tvalidation_0-rmse:3921.76\tvalidation_1-rmse:4713.23\n",
      "[153]\tvalidation_0-rmse:3917.64\tvalidation_1-rmse:4714.14\n",
      "[154]\tvalidation_0-rmse:3915.16\tvalidation_1-rmse:4714.41\n",
      "[155]\tvalidation_0-rmse:3912.23\tvalidation_1-rmse:4710.55\n",
      "[156]\tvalidation_0-rmse:3910.53\tvalidation_1-rmse:4710.21\n",
      "[157]\tvalidation_0-rmse:3907.78\tvalidation_1-rmse:4710.63\n",
      "[158]\tvalidation_0-rmse:3904.34\tvalidation_1-rmse:4708.62\n",
      "[159]\tvalidation_0-rmse:3900.48\tvalidation_1-rmse:4709.7\n",
      "[160]\tvalidation_0-rmse:3898.13\tvalidation_1-rmse:4710.24\n",
      "[161]\tvalidation_0-rmse:3895.54\tvalidation_1-rmse:4710.83\n",
      "[162]\tvalidation_0-rmse:3892.89\tvalidation_1-rmse:4707.56\n",
      "[163]\tvalidation_0-rmse:3891.47\tvalidation_1-rmse:4707.45\n",
      "[164]\tvalidation_0-rmse:3889.03\tvalidation_1-rmse:4708.1\n",
      "[165]\tvalidation_0-rmse:3886.52\tvalidation_1-rmse:4704.98\n",
      "[166]\tvalidation_0-rmse:3884.72\tvalidation_1-rmse:4704.91\n",
      "[167]\tvalidation_0-rmse:3881.1\tvalidation_1-rmse:4705.69\n",
      "[168]\tvalidation_0-rmse:3879.79\tvalidation_1-rmse:4705.59\n",
      "[169]\tvalidation_0-rmse:3876.46\tvalidation_1-rmse:4704.67\n",
      "[170]\tvalidation_0-rmse:3874.17\tvalidation_1-rmse:4705.4\n",
      "[171]\tvalidation_0-rmse:3870.99\tvalidation_1-rmse:4704.7\n",
      "[172]\tvalidation_0-rmse:3867.75\tvalidation_1-rmse:4704.92\n",
      "[173]\tvalidation_0-rmse:3866.49\tvalidation_1-rmse:4704.89\n",
      "[174]\tvalidation_0-rmse:3860.4\tvalidation_1-rmse:4705.92\n",
      "[175]\tvalidation_0-rmse:3858.12\tvalidation_1-rmse:4702.68\n",
      "[176]\tvalidation_0-rmse:3854.04\tvalidation_1-rmse:4700.88\n",
      "[177]\tvalidation_0-rmse:3852.01\tvalidation_1-rmse:4701.5\n",
      "[178]\tvalidation_0-rmse:3849.1\tvalidation_1-rmse:4700.66\n",
      "[179]\tvalidation_0-rmse:3843.17\tvalidation_1-rmse:4698.2\n",
      "[180]\tvalidation_0-rmse:3841.8\tvalidation_1-rmse:4698.2\n",
      "[181]\tvalidation_0-rmse:3839.52\tvalidation_1-rmse:4698.79\n",
      "[182]\tvalidation_0-rmse:3837.45\tvalidation_1-rmse:4696.35\n",
      "[183]\tvalidation_0-rmse:3834.07\tvalidation_1-rmse:4697.65\n",
      "[184]\tvalidation_0-rmse:3830.33\tvalidation_1-rmse:4695.97\n",
      "[185]\tvalidation_0-rmse:3828.4\tvalidation_1-rmse:4696.64\n",
      "[186]\tvalidation_0-rmse:3826.22\tvalidation_1-rmse:4697.25\n",
      "[187]\tvalidation_0-rmse:3820.72\tvalidation_1-rmse:4694.94\n",
      "[188]\tvalidation_0-rmse:3818.79\tvalidation_1-rmse:4692.89\n",
      "[189]\tvalidation_0-rmse:3816.72\tvalidation_1-rmse:4691.99\n",
      "[190]\tvalidation_0-rmse:3815.19\tvalidation_1-rmse:4692.03\n",
      "[191]\tvalidation_0-rmse:3810.73\tvalidation_1-rmse:4691.26\n",
      "[192]\tvalidation_0-rmse:3808.75\tvalidation_1-rmse:4691.87\n",
      "[193]\tvalidation_0-rmse:3807.5\tvalidation_1-rmse:4691.82\n",
      "[194]\tvalidation_0-rmse:3805.77\tvalidation_1-rmse:4691.95\n",
      "[195]\tvalidation_0-rmse:3802.5\tvalidation_1-rmse:4690.11\n",
      "[196]\tvalidation_0-rmse:3800.3\tvalidation_1-rmse:4691.34\n",
      "[197]\tvalidation_0-rmse:3798.49\tvalidation_1-rmse:4691.35\n",
      "[198]\tvalidation_0-rmse:3796.62\tvalidation_1-rmse:4691.98\n",
      "[199]\tvalidation_0-rmse:3791.85\tvalidation_1-rmse:4692.68\n",
      "[200]\tvalidation_0-rmse:3790.06\tvalidation_1-rmse:4691.07\n",
      "[201]\tvalidation_0-rmse:3788.19\tvalidation_1-rmse:4689.9\n",
      "[202]\tvalidation_0-rmse:3783.54\tvalidation_1-rmse:4690.24\n",
      "[203]\tvalidation_0-rmse:3781.78\tvalidation_1-rmse:4690.24\n",
      "[204]\tvalidation_0-rmse:3780.21\tvalidation_1-rmse:4689.95\n",
      "[205]\tvalidation_0-rmse:3775.83\tvalidation_1-rmse:4691.08\n",
      "[206]\tvalidation_0-rmse:3774.07\tvalidation_1-rmse:4690.32\n",
      "[207]\tvalidation_0-rmse:3772.37\tvalidation_1-rmse:4691.1\n",
      "[208]\tvalidation_0-rmse:3770.88\tvalidation_1-rmse:4690.03\n",
      "[209]\tvalidation_0-rmse:3769.21\tvalidation_1-rmse:4689.3\n",
      "[210]\tvalidation_0-rmse:3764.92\tvalidation_1-rmse:4689.73\n",
      "[211]\tvalidation_0-rmse:3763.5\tvalidation_1-rmse:4689.53\n",
      "[212]\tvalidation_0-rmse:3759.46\tvalidation_1-rmse:4690.63\n",
      "[213]\tvalidation_0-rmse:3758.01\tvalidation_1-rmse:4690.78\n",
      "[214]\tvalidation_0-rmse:3756.43\tvalidation_1-rmse:4690.1\n",
      "[215]\tvalidation_0-rmse:3755.09\tvalidation_1-rmse:4689.14\n",
      "[216]\tvalidation_0-rmse:3753.6\tvalidation_1-rmse:4689.66\n",
      "[217]\tvalidation_0-rmse:3752.32\tvalidation_1-rmse:4689.54\n",
      "[218]\tvalidation_0-rmse:3748.41\tvalidation_1-rmse:4690.27\n",
      "[219]\tvalidation_0-rmse:3746.29\tvalidation_1-rmse:4689.71\n",
      "[220]\tvalidation_0-rmse:3744.65\tvalidation_1-rmse:4689.79\n",
      "[221]\tvalidation_0-rmse:3743.42\tvalidation_1-rmse:4688.94\n",
      "[222]\tvalidation_0-rmse:3742.03\tvalidation_1-rmse:4688.31\n",
      "[223]\tvalidation_0-rmse:3738.15\tvalidation_1-rmse:4688.68\n",
      "[224]\tvalidation_0-rmse:3736.98\tvalidation_1-rmse:4688.63\n",
      "[225]\tvalidation_0-rmse:3735.4\tvalidation_1-rmse:4688.72\n",
      "[226]\tvalidation_0-rmse:3731.71\tvalidation_1-rmse:4689.76\n",
      "[227]\tvalidation_0-rmse:3730.39\tvalidation_1-rmse:4690.21\n",
      "[228]\tvalidation_0-rmse:3728.42\tvalidation_1-rmse:4689.73\n",
      "[229]\tvalidation_0-rmse:3726.88\tvalidation_1-rmse:4690.41\n",
      "[230]\tvalidation_0-rmse:3723.77\tvalidation_1-rmse:4690.13\n",
      "[231]\tvalidation_0-rmse:3722.5\tvalidation_1-rmse:4689.56\n",
      "[232]\tvalidation_0-rmse:3718.77\tvalidation_1-rmse:4688.71\n",
      "Stopping. Best iteration:\n",
      "[222]\tvalidation_0-rmse:3742.03\tvalidation_1-rmse:4688.31\n",
      "\n",
      "with params:\n",
      "learning_rate             - 0.03\n",
      "n_estimators              - 1000\n",
      "objective                 - reg:squarederror\n",
      "xgboost train set r2-score 0.9015252521345606\n",
      "xgboost val set r2-score 0.8651115991027499\n",
      "xgboost test set r2-score 0.8308462290062331\n",
      "xgboost train set rmse 3742.0302766236127\n",
      "xgboost val set rmse 4688.308194298624\n",
      "xgboost test set rmse 4988.7588812515405\n"
     ]
    }
   ],
   "source": [
    "xgboost_helper = XGBoostHelper(xgboost_params,\n",
    "                               datasets=((X_train, y_train), (X_val, y_val), (X_test, y_test)),\n",
    "                               early_stopping_rounds=10)\n",
    "xgboost_helper.train()"
   ]
  },
  {
   "cell_type": "code",
   "execution_count": 55,
   "metadata": {},
   "outputs": [
    {
     "data": {
      "image/png": "[encoded data removed]",
      "text/plain": [
       "<Figure size 432x288 with 1 Axes>"
      ]
     },
     "metadata": {
      "needs_background": "light"
     },
     "output_type": "display_data"
    }
   ],
   "source": [
    "results = xgboost_helper.results_\n",
    "fig, ax = plt.subplots()\n",
    "ax.plot(results['validation_0']['rmse'], label='train')\n",
    "ax.plot(results['validation_1']['rmse'], label='test')\n",
    "ax.legend()\n",
    "plt.ylabel('rmse')\n",
    "plt.title('XGBoost rmse')\n",
    "plt.show()"
   ]
  },
  {
   "cell_type": "markdown",
   "metadata": {},
   "source": [
    "Now our model is overfitting. So we need to generalize model.\n",
    "\n",
    "We can \n",
    " - decrease \n",
    "     * learning_rate\n",
    "     * max_depth\n",
    " - increase \n",
    "     * reg_alpha\n",
    "     * reg_lambda"
   ]
  },
  {
   "cell_type": "code",
   "execution_count": 56,
   "metadata": {
    "scrolled": true
   },
   "outputs": [
    {
     "name": "stdout",
     "output_type": "stream",
     "text": [
      "[0]\tvalidation_0-rmse:16115.8\tvalidation_1-rmse:16972.3\n",
      "Multiple eval metrics have been passed: 'validation_1-rmse' will be used for early stopping.\n",
      "\n",
      "Will train until validation_1-rmse hasn't improved in 10 rounds.\n",
      "[1]\tvalidation_0-rmse:14653.9\tvalidation_1-rmse:15460.5\n",
      "[2]\tvalidation_0-rmse:13363.6\tvalidation_1-rmse:14124.4\n",
      "[3]\tvalidation_0-rmse:12208.2\tvalidation_1-rmse:12931.3\n",
      "[4]\tvalidation_0-rmse:11177\tvalidation_1-rmse:11870.9\n",
      "[5]\tvalidation_0-rmse:10253\tvalidation_1-rmse:10925.6\n",
      "[6]\tvalidation_0-rmse:9443.65\tvalidation_1-rmse:10083.4\n",
      "[7]\tvalidation_0-rmse:8723.69\tvalidation_1-rmse:9342.66\n",
      "[8]\tvalidation_0-rmse:8084.97\tvalidation_1-rmse:8675.36\n",
      "[9]\tvalidation_0-rmse:7524.22\tvalidation_1-rmse:8110.67\n",
      "[10]\tvalidation_0-rmse:7033.71\tvalidation_1-rmse:7610.97\n",
      "[11]\tvalidation_0-rmse:6606.34\tvalidation_1-rmse:7177\n",
      "[12]\tvalidation_0-rmse:6235.22\tvalidation_1-rmse:6800.56\n",
      "[13]\tvalidation_0-rmse:5911.66\tvalidation_1-rmse:6495.51\n",
      "[14]\tvalidation_0-rmse:5632.93\tvalidation_1-rmse:6212.94\n",
      "[15]\tvalidation_0-rmse:5394.08\tvalidation_1-rmse:5977.44\n",
      "[16]\tvalidation_0-rmse:5193.63\tvalidation_1-rmse:5769.41\n",
      "[17]\tvalidation_0-rmse:5019.79\tvalidation_1-rmse:5606.58\n",
      "[18]\tvalidation_0-rmse:4865.53\tvalidation_1-rmse:5456.62\n",
      "[19]\tvalidation_0-rmse:4736.46\tvalidation_1-rmse:5333.14\n",
      "[20]\tvalidation_0-rmse:4627.82\tvalidation_1-rmse:5233.47\n",
      "[21]\tvalidation_0-rmse:4537.42\tvalidation_1-rmse:5143.31\n",
      "[22]\tvalidation_0-rmse:4457.61\tvalidation_1-rmse:5071.53\n",
      "[23]\tvalidation_0-rmse:4391.75\tvalidation_1-rmse:5003.26\n",
      "[24]\tvalidation_0-rmse:4336.5\tvalidation_1-rmse:4949.93\n",
      "[25]\tvalidation_0-rmse:4286.22\tvalidation_1-rmse:4903.84\n",
      "[26]\tvalidation_0-rmse:4245.98\tvalidation_1-rmse:4867.66\n",
      "[27]\tvalidation_0-rmse:4208.7\tvalidation_1-rmse:4836.76\n",
      "[28]\tvalidation_0-rmse:4177.43\tvalidation_1-rmse:4807.89\n",
      "[29]\tvalidation_0-rmse:4152.59\tvalidation_1-rmse:4783.46\n",
      "[30]\tvalidation_0-rmse:4128.55\tvalidation_1-rmse:4763.21\n",
      "[31]\tvalidation_0-rmse:4104.45\tvalidation_1-rmse:4753.11\n",
      "[32]\tvalidation_0-rmse:4085.08\tvalidation_1-rmse:4739.74\n",
      "[33]\tvalidation_0-rmse:4069.85\tvalidation_1-rmse:4731.45\n",
      "[34]\tvalidation_0-rmse:4056.01\tvalidation_1-rmse:4728.73\n",
      "[35]\tvalidation_0-rmse:4033.18\tvalidation_1-rmse:4718.65\n",
      "[36]\tvalidation_0-rmse:4021.24\tvalidation_1-rmse:4708.7\n",
      "[37]\tvalidation_0-rmse:4009.05\tvalidation_1-rmse:4705.23\n",
      "[38]\tvalidation_0-rmse:3987.79\tvalidation_1-rmse:4701.86\n",
      "[39]\tvalidation_0-rmse:3978.47\tvalidation_1-rmse:4701.31\n",
      "[40]\tvalidation_0-rmse:3961.58\tvalidation_1-rmse:4695.27\n",
      "[41]\tvalidation_0-rmse:3946\tvalidation_1-rmse:4694.5\n",
      "[42]\tvalidation_0-rmse:3924.37\tvalidation_1-rmse:4691.54\n",
      "[43]\tvalidation_0-rmse:3917.64\tvalidation_1-rmse:4688.46\n",
      "[44]\tvalidation_0-rmse:3904.98\tvalidation_1-rmse:4689.25\n",
      "[45]\tvalidation_0-rmse:3884.29\tvalidation_1-rmse:4691.41\n",
      "[46]\tvalidation_0-rmse:3857.45\tvalidation_1-rmse:4698.9\n",
      "[47]\tvalidation_0-rmse:3852.8\tvalidation_1-rmse:4706.85\n",
      "[48]\tvalidation_0-rmse:3848.24\tvalidation_1-rmse:4703.82\n",
      "[49]\tvalidation_0-rmse:3843.29\tvalidation_1-rmse:4703.35\n",
      "[50]\tvalidation_0-rmse:3833.64\tvalidation_1-rmse:4704.02\n",
      "[51]\tvalidation_0-rmse:3821.28\tvalidation_1-rmse:4699.09\n",
      "[52]\tvalidation_0-rmse:3809.43\tvalidation_1-rmse:4694.29\n",
      "[53]\tvalidation_0-rmse:3804.83\tvalidation_1-rmse:4695.97\n",
      "Stopping. Best iteration:\n",
      "[43]\tvalidation_0-rmse:3917.64\tvalidation_1-rmse:4688.46\n",
      "\n",
      "with params:\n",
      "learning_rate             - 0.1\n",
      "max_depth                 - 3\n",
      "min_child_weight          - 2\n",
      "n_estimators              - 1000\n",
      "subsample                 - 0.9\n",
      "subsample_bycol           - 0.9\n",
      "objective                 - reg:squarederror\n",
      "xgboost train set r2-score 0.8920658625788099\n",
      "xgboost val set r2-score 0.8651027564657701\n",
      "xgboost test set r2-score 0.8354664917856226\n",
      "xgboost train set rmse 3917.637704775682\n",
      "xgboost val set rmse 4688.4618632862\n",
      "xgboost test set rmse 4920.155750753081\n"
     ]
    }
   ],
   "source": [
    "xgboost_params = {\n",
    "                #'gamma':0,                 \n",
    "                'learning_rate':0.1,\n",
    "                'max_depth':3,\n",
    "                'min_child_weight':2,\n",
    "                'n_estimators':1000,                                                                    \n",
    "                #'reg_alpha':5,\n",
    "                #'reg_lambda':10,\n",
    "                'subsample':0.9,\n",
    "                'subsample_bycol':0.9,\n",
    "                'objective':'reg:squarederror'\n",
    "                }\n",
    "xgboost_helper = XGBoostHelper(xgboost_params,\n",
    "                               datasets=((X_train, y_train), (X_val, y_val), (X_test, y_test)),\n",
    "                               early_stopping_rounds=10)\n",
    "xgboost_helper.train()"
   ]
  },
  {
   "cell_type": "code",
   "execution_count": 57,
   "metadata": {},
   "outputs": [
    {
     "data": {
      "image/png": "[encoded data removed]",
      "text/plain": [
       "<Figure size 432x288 with 1 Axes>"
      ]
     },
     "metadata": {
      "needs_background": "light"
     },
     "output_type": "display_data"
    }
   ],
   "source": [
    "results = xgboost_helper.results_\n",
    "len(results)\n",
    "fig, ax = plt.subplots()\n",
    "ax.plot(results['validation_0']['rmse'], label='train')\n",
    "ax.plot(results['validation_1']['rmse'], label='test')\n",
    "ax.legend()\n",
    "plt.ylabel('rmse')\n",
    "plt.title('XGBoost rmse')\n",
    "plt.show()"
   ]
  },
  {
   "cell_type": "markdown",
   "metadata": {},
   "source": [
    "Instead of trying to choose right hyperparams on train/val split manually we can automate this process using grid search with CV on 5 folds. this is very robust approach"
   ]
  },
  {
   "cell_type": "code",
   "execution_count": 60,
   "metadata": {},
   "outputs": [],
   "source": [
    "xgboost_params = {\n",
    "                'gamma': [0, 0.1, 1],\n",
    "                'lambda': [1., 2.],\n",
    "                'alpha': [0, 1.],\n",
    "                'learning_rate': [0.1, 0.3],\n",
    "                'max_depth': [3, 4, 5],\n",
    "                'min_child_weight':[1, 2, 3],\n",
    "                'n_estimators':[30, 45, 60, 75],                                                                    \n",
    "                'silent': [1],\n",
    "                'subsample': [0.8, 0.9, 1.0],\n",
    "                'subsample_bycol': [0.8, 0.9, 1.0],\n",
    "                'objective':['reg:squarederror'],\n",
    "                 }"
   ]
  },
  {
   "cell_type": "code",
   "execution_count": 61,
   "metadata": {
    "scrolled": true
   },
   "outputs": [
    {
     "name": "stdout",
     "output_type": "stream",
     "text": [
      "Fitting 3 folds for each of 7776 candidates, totalling 23328 fits\n"
     ]
    },
    {
     "name": "stderr",
     "output_type": "stream",
     "text": [
      "[Parallel(n_jobs=-1)]: Using backend LokyBackend with 4 concurrent workers.\n",
      "[Parallel(n_jobs=-1)]: Done  52 tasks      | elapsed:    2.7s\n",
      "[Parallel(n_jobs=-1)]: Done 352 tasks      | elapsed:    9.9s\n",
      "[Parallel(n_jobs=-1)]: Done 852 tasks      | elapsed:   20.8s\n",
      "[Parallel(n_jobs=-1)]: Done 1984 tasks      | elapsed:   43.4s\n",
      "[Parallel(n_jobs=-1)]: Done 3784 tasks      | elapsed:  1.3min\n",
      "[Parallel(n_jobs=-1)]: Done 5984 tasks      | elapsed:  2.2min\n",
      "[Parallel(n_jobs=-1)]: Done 8584 tasks      | elapsed:  3.3min\n",
      "[Parallel(n_jobs=-1)]: Done 11584 tasks      | elapsed:  4.6min\n",
      "[Parallel(n_jobs=-1)]: Done 14984 tasks      | elapsed:  6.3min\n",
      "[Parallel(n_jobs=-1)]: Done 18784 tasks      | elapsed:  8.2min\n",
      "[Parallel(n_jobs=-1)]: Done 22984 tasks      | elapsed: 10.1min\n",
      "[Parallel(n_jobs=-1)]: Done 23328 out of 23328 | elapsed: 10.3min finished\n"
     ]
    },
    {
     "name": "stdout",
     "output_type": "stream",
     "text": [
      "best_params: {'alpha': 0, 'gamma': 0, 'lambda': 1.0, 'learning_rate': 0.1, 'max_depth': 3, 'min_child_weight': 3, 'n_estimators': 60, 'objective': 'reg:squarederror', 'silent': 1, 'subsample': 0.8, 'subsample_bycol': 0.8}\n",
      "best_score: -20032609.018613853\n"
     ]
    }
   ],
   "source": [
    "# grid search with CV from sklearn makes usage of early_stopping on folds quite hard. So instead of it we carefully\n",
    "# hardcoded different n_estimators\n",
    "# grid search also take argmax by score, but we need minimum, so we should take negative mse\n",
    "xgb_grid = GridSearchCV(xgboost.XGBRegressor(), \n",
    "                    param_grid=xgboost_params, \n",
    "                    scoring=neg_mse, \n",
    "                    n_jobs=-1,\n",
    "                    cv=None,\n",
    "                    verbose=True)\n",
    "\n",
    "xgb_grid.fit(X_trainval, y_trainval)\n",
    "print(f\"best_params: {xgb_grid.best_params_}\\nbest_score: {xgb_grid.best_score_}\")\n",
    "\n",
    "pickle.dump(xgb_grid.best_estimator_, open(\"xgb_grid.pickle\", \"wb\"))"
   ]
  },
  {
   "cell_type": "code",
   "execution_count": 62,
   "metadata": {},
   "outputs": [
    {
     "name": "stdout",
     "output_type": "stream",
     "text": [
      "with params:\n",
      "alpha                     - 0\n",
      "gamma                     - 0\n",
      "lambda                    - 1.0\n",
      "learning_rate             - 0.1\n",
      "max_depth                 - 3\n",
      "min_child_weight          - 3\n",
      "n_estimators              - 60\n",
      "objective                 - reg:squarederror\n",
      "silent                    - 1\n",
      "subsample                 - 0.8\n",
      "subsample_bycol           - 0.8\n",
      "xgboost train set r2-score 0.8955649503872906\n",
      "xgboost test set r2-score 0.8406620461898394\n",
      "xgboost train set rmse 3909.9462320683674\n",
      "xgboost test set rmse 4841.8495412706925\n"
     ]
    }
   ],
   "source": [
    "xgboost_helper = XGBoostHelper(xgb_grid.best_params_,\n",
    "                               datasets=((X_trainval, y_trainval), (X_test, y_test)),\n",
    "                               model=xgb_grid.best_estimator_)\n",
    "xgboost_helper.evals()"
   ]
  },
  {
   "cell_type": "markdown",
   "metadata": {},
   "source": [
    "As we can see with grid search we evaluate our model on 0.005, but it takes some time. \n",
    "\n",
    "This approach is time consuming but we can get better results."
   ]
  },
  {
   "cell_type": "markdown",
   "metadata": {},
   "source": [
    "To compare we will try linear regrassion, ridge and lasso models."
   ]
  },
  {
   "cell_type": "code",
   "execution_count": 65,
   "metadata": {},
   "outputs": [],
   "source": [
    "lr = linear_model.LinearRegression().fit(X_trainval_scaled, y_trainval)"
   ]
  },
  {
   "cell_type": "code",
   "execution_count": 66,
   "metadata": {},
   "outputs": [],
   "source": [
    "lr_test_score = lr.score(X_test_scaled, y_test)"
   ]
  },
  {
   "cell_type": "code",
   "execution_count": 67,
   "metadata": {},
   "outputs": [
    {
     "name": "stdout",
     "output_type": "stream",
     "text": [
      "lr train R2 is 0.7504940296509266\n",
      "RMSE is 6043.4943106125465\n",
      "lr test set score 0.7595504507785396\n",
      "RMSE is 5947.899962333636\n"
     ]
    }
   ],
   "source": [
    "print(f\"lr train R2 is {lr.score(X_trainval_scaled, y_trainval)}\\nRMSE is {np.sqrt(mean_squared_error(y_trainval, lr.predict(X_trainval_scaled)))}\")\n",
    "print(f\"lr test set score {lr_test_score}\\nRMSE is {np.sqrt(mean_squared_error(y_test, lr.predict(X_test_scaled)))}\")"
   ]
  },
  {
   "cell_type": "code",
   "execution_count": 68,
   "metadata": {},
   "outputs": [
    {
     "name": "stdout",
     "output_type": "stream",
     "text": [
      "lr.coef_:[16696.94153222  -209.39520783  8658.11029201  -298.69541631\n",
      " 23536.59474439  -402.6555905   9268.97578648  4666.77757611\n",
      "  -802.33101917]\n",
      "lr.intercept_:-4606.292120373708\n"
     ]
    }
   ],
   "source": [
    "print(f\"lr.coef_:{lr.coef_}\")\n",
    "print(f\"lr.intercept_:{lr.intercept_}\")"
   ]
  },
  {
   "cell_type": "code",
   "execution_count": 69,
   "metadata": {
    "scrolled": true
   },
   "outputs": [
    {
     "name": "stdout",
     "output_type": "stream",
     "text": [
      "alpha=0.0001\n",
      "R^2 train is: 0.7504940296455364\n",
      "RMSE train is 6043.494310677826\n",
      "R^2 test is: 0.7595504895630801\n",
      "RMSE test is 5947.899482635135\n",
      "------------------------------\n",
      "alpha=0.0003\n",
      "R^2 train is: 0.7504940296024241\n",
      "RMSE train is 6043.4943111999555\n",
      "R^2 test is: 0.7595505670824008\n",
      "RMSE test is 5947.89852385347\n",
      "------------------------------\n",
      "alpha=0.001\n",
      "R^2 train is: 0.7504940291123591\n",
      "RMSE train is 6043.494317135095\n",
      "R^2 test is: 0.759550837877992\n",
      "RMSE test is 5947.895174573059\n",
      "------------------------------\n",
      "alpha=0.003\n",
      "R^2 train is: 0.7504940248127755\n",
      "RMSE train is 6043.494369207012\n",
      "R^2 test is: 0.7595516071162618\n",
      "RMSE test is 5947.885660395068\n",
      "------------------------------\n",
      "alpha=0.01\n",
      "R^2 train is: 0.7504939762395162\n",
      "RMSE train is 6043.494957473897\n",
      "R^2 test is: 0.7595542478082622\n",
      "RMSE test is 5947.852999379916\n",
      "------------------------------\n",
      "alpha=0.03\n",
      "R^2 train is: 0.750493557654953\n",
      "RMSE train is 6043.5000269159045\n",
      "R^2 test is: 0.7595613608046001\n",
      "RMSE test is 5947.765022426465\n",
      "------------------------------\n",
      "alpha=0.1\n",
      "R^2 train is: 0.750489101311604\n",
      "RMSE train is 6043.55399704718\n",
      "R^2 test is: 0.7595816101663513\n",
      "RMSE test is 5947.5145614734265\n",
      "------------------------------\n",
      "best_alpha is 0.1, best_test_score is 0.7595816101663513, RMSE best test is 5947.5145614734265\n"
     ]
    }
   ],
   "source": [
    "alphas = [0.0001, 0.0003, 0.001, 0.003, 0.01, 0.03, 0.1]\n",
    "best_ridge_model = None\n",
    "best_ridge_score = 0\n",
    "for alpha in alphas:\n",
    "    ridge = linear_model.Ridge(alpha=alpha).fit(X_trainval_scaled, y_trainval)\n",
    "    pred_ridge = ridge.predict(X_test_scaled)\n",
    "    \n",
    "    score = ridge.score(X_test_scaled, y_test)\n",
    "    if score > best_ridge_score:\n",
    "        best_ridge_score = score\n",
    "        best_ridge_model = ridge\n",
    "    print(f'alpha={alpha}\\nR^2 train is: {ridge.score(X_trainval_scaled, y_trainval)}\\nRMSE train is {np.sqrt(mean_squared_error(y_trainval, ridge.predict(X_trainval_scaled)))}\\nR^2 test is: {score}\\nRMSE test is {np.sqrt(mean_squared_error(y_test, ridge.predict(X_test_scaled)))}')\n",
    "    print('-' * 30)\n",
    "print(f'best_alpha is {best_ridge_model.alpha}, best_test_score is {best_ridge_score}, RMSE best test is {np.sqrt(mean_squared_error(y_test, best_ridge_model.predict(X_test_scaled)))}')"
   ]
  },
  {
   "cell_type": "code",
   "execution_count": 71,
   "metadata": {
    "scrolled": true
   },
   "outputs": [
    {
     "name": "stdout",
     "output_type": "stream",
     "text": [
      "alpha=0.0001\n",
      "R^2 train is: 0.7504940296508179\n",
      "RMSE train is 6043.494310613863\n",
      "R^2 test is: 0.7595504556696585\n",
      "RMSE test is 5947.899901838854\n",
      "------------------------------\n",
      "alpha=0.0003\n",
      "R^2 train is: 0.7504940296499483\n",
      "RMSE train is 6043.494310624394\n",
      "R^2 test is: 0.7595504654686156\n",
      "RMSE test is 5947.899780642499\n",
      "------------------------------\n",
      "alpha=0.001\n",
      "R^2 train is: 0.7504940296400633\n",
      "RMSE train is 6043.494310744111\n",
      "R^2 test is: 0.7595504997001843\n",
      "RMSE test is 5947.8993572564705\n",
      "------------------------------\n",
      "alpha=0.003\n",
      "R^2 train is: 0.7504940295532073\n",
      "RMSE train is 6043.4943117960165\n",
      "R^2 test is: 0.7595505973622467\n",
      "RMSE test is 5947.898149343422\n",
      "------------------------------\n",
      "alpha=0.01\n",
      "R^2 train is: 0.7504940285641846\n",
      "RMSE train is 6043.494323773992\n",
      "R^2 test is: 0.7595509390912927\n",
      "RMSE test is 5947.893922736369\n",
      "------------------------------\n",
      "alpha=0.03\n",
      "R^2 train is: 0.7504940198750766\n",
      "RMSE train is 6043.494429007094\n",
      "R^2 test is: 0.7595519070187249\n",
      "RMSE test is 5947.881951104076\n",
      "------------------------------\n",
      "alpha=0.1\n",
      "R^2 train is: 0.750493921079462\n",
      "RMSE train is 6043.495625512859\n",
      "R^2 test is: 0.7595552122143508\n",
      "RMSE test is 5947.841071218685\n",
      "------------------------------\n",
      "best_alpha is 0.1, best_test_score is 0.7595552122143508, RMSE best test is 5947.841071218685\n"
     ]
    }
   ],
   "source": [
    "best_lasso_model = None\n",
    "best_lasso_score = 0\n",
    "for alpha in alphas:\n",
    "    lasso = linear_model.Lasso(alpha=alpha)\n",
    "    lasso.fit(X_trainval_scaled, y_trainval)\n",
    "    pred_lasso = lasso.predict(X_test_scaled)\n",
    "    tmp_mean = mean_squared_error(y_test, pred_ridge)\n",
    "    score = lasso.score(X_test_scaled, y_test)\n",
    "    if score > best_lasso_score:\n",
    "        best_lasso_score = score\n",
    "        best_lasso_model = lasso\n",
    "    print(f'alpha={alpha}\\nR^2 train is: {lasso.score(X_trainval_scaled, y_trainval)}\\nRMSE train is {np.sqrt(mean_squared_error(y_trainval, lasso.predict(X_trainval_scaled)))}\\nR^2 test is: {score}\\nRMSE test is {np.sqrt(mean_squared_error(y_test, lasso.predict(X_test_scaled)))}')\n",
    "    print('-' * 30)\n",
    "print(f'best_alpha is {best_lasso_model.alpha}, best_test_score is {best_lasso_score}, RMSE best test is {np.sqrt(mean_squared_error(y_test, best_lasso_model.predict(X_test_scaled)))}')"
   ]
  },
  {
   "cell_type": "markdown",
   "metadata": {},
   "source": [
    "both regularization models show the best performance with low alpha \n",
    "\n",
    "as you might expect linear models performed worse than xgboost"
   ]
  },
  {
   "cell_type": "code",
   "execution_count": 72,
   "metadata": {},
   "outputs": [],
   "source": [
    "best_scores = {\"no_reg\": lr_test_score, \"ridge\": best_ridge_score, \"lasso\": best_lasso_score,}"
   ]
  },
  {
   "cell_type": "code",
   "execution_count": 73,
   "metadata": {},
   "outputs": [
    {
     "data": {
      "text/plain": [
       "'ridge'"
      ]
     },
     "execution_count": 73,
     "metadata": {},
     "output_type": "execute_result"
    }
   ],
   "source": [
    "max(best_scores)"
   ]
  },
  {
   "cell_type": "code",
   "execution_count": 74,
   "metadata": {},
   "outputs": [
    {
     "name": "stdout",
     "output_type": "stream",
     "text": [
      "0.7595504507785396\n",
      "0.7595816101663513\n",
      "0.7595552122143508\n"
     ]
    }
   ],
   "source": [
    "for x in best_scores:\n",
    "    print(best_scores[x])"
   ]
  },
  {
   "cell_type": "code",
   "execution_count": 75,
   "metadata": {},
   "outputs": [
    {
     "data": {
      "text/plain": [
       "23536.594744391252"
      ]
     },
     "execution_count": 75,
     "metadata": {},
     "output_type": "execute_result"
    }
   ],
   "source": [
    "max(*best_lasso_model.coef_, *best_ridge_model.coef_, *lr.coef_)"
   ]
  },
  {
   "cell_type": "code",
   "execution_count": 76,
   "metadata": {},
   "outputs": [
    {
     "data": {
      "text/plain": [
       "-802.3310191702506"
      ]
     },
     "execution_count": 76,
     "metadata": {},
     "output_type": "execute_result"
    }
   ],
   "source": [
    "min(*best_lasso_model.coef_, *best_ridge_model.coef_, *lr.coef_)"
   ]
  },
  {
   "cell_type": "code",
   "execution_count": 77,
   "metadata": {},
   "outputs": [
    {
     "data": {
      "image/png": "[encoded data removed]",
      "text/plain": [
       "<Figure size 432x288 with 1 Axes>"
      ]
     },
     "metadata": {
      "needs_background": "light"
     },
     "output_type": "display_data"
    }
   ],
   "source": [
    "plt.plot(best_ridge_model.coef_, 'v', label=\"Ridge\")\n",
    "plt.plot(best_lasso_model.coef_, '<', label=\"Lasso\")\n",
    "plt.plot(lr.coef_, 'o', label=\"LinearRegression\")\n",
    "\n",
    "plt.xlabel(\"Coefficient index\")\n",
    "plt.ylabel(\"Coefficient magnitude\")\n",
    "plt.hlines(0, 0, len(best_ridge_model.coef_))\n",
    "plt.ylim(-1000, 24000)\n",
    "plt.legend()\n",
    "plt.show()"
   ]
  },
  {
   "cell_type": "markdown",
   "metadata": {},
   "source": [
    "Here all parameters are the same because of low regularization parameter on lasso and ridge."
   ]
  },
  {
   "cell_type": "markdown",
   "metadata": {},
   "source": [
    "# 2 pipeline, with log transformation"
   ]
  },
  {
   "cell_type": "code",
   "execution_count": 78,
   "metadata": {},
   "outputs": [],
   "source": [
    "y_trainval = np.log(y_trainval)\n",
    "y_train = np.log(y_train)\n",
    "y_val = np.log(y_val)\n",
    "y_test = np.log(y_test)"
   ]
  },
  {
   "cell_type": "code",
   "execution_count": 79,
   "metadata": {},
   "outputs": [],
   "source": [
    "xgboost_params = {\n",
    "                #'gamma':0,                 \n",
    "                'learning_rate':0.03,\n",
    "                #'max_depth':10,\n",
    "                #'min_child_weight':1,\n",
    "                'n_estimators':1000,                                                                    \n",
    "                #'reg_alpha':2,\n",
    "                #'reg_lambda':1,\n",
    "                #'subsample':0.7,\n",
    "                'objective':'reg:squarederror'\n",
    "                }"
   ]
  },
  {
   "cell_type": "markdown",
   "metadata": {},
   "source": [
    "In xgboost we shouldn't use scaled data."
   ]
  },
  {
   "cell_type": "code",
   "execution_count": 80,
   "metadata": {
    "scrolled": true
   },
   "outputs": [
    {
     "name": "stdout",
     "output_type": "stream",
     "text": [
      "[0]\tvalidation_0-rmse:8.38428\tvalidation_1-rmse:8.39878\n",
      "Multiple eval metrics have been passed: 'validation_1-rmse' will be used for early stopping.\n",
      "\n",
      "Will train until validation_1-rmse hasn't improved in 10 rounds.\n",
      "[1]\tvalidation_0-rmse:8.13456\tvalidation_1-rmse:8.14952\n",
      "[2]\tvalidation_0-rmse:7.89235\tvalidation_1-rmse:7.90775\n",
      "[3]\tvalidation_0-rmse:7.65739\tvalidation_1-rmse:7.67311\n",
      "[4]\tvalidation_0-rmse:7.42948\tvalidation_1-rmse:7.44563\n",
      "[5]\tvalidation_0-rmse:7.20841\tvalidation_1-rmse:7.22487\n",
      "[6]\tvalidation_0-rmse:6.99397\tvalidation_1-rmse:7.01066\n",
      "[7]\tvalidation_0-rmse:6.78596\tvalidation_1-rmse:6.80296\n",
      "[8]\tvalidation_0-rmse:6.5842\tvalidation_1-rmse:6.60141\n",
      "[9]\tvalidation_0-rmse:6.38848\tvalidation_1-rmse:6.40574\n",
      "[10]\tvalidation_0-rmse:6.1986\tvalidation_1-rmse:6.21591\n",
      "[11]\tvalidation_0-rmse:6.01444\tvalidation_1-rmse:6.03215\n",
      "[12]\tvalidation_0-rmse:5.83582\tvalidation_1-rmse:5.85388\n",
      "[13]\tvalidation_0-rmse:5.66252\tvalidation_1-rmse:5.68063\n",
      "[14]\tvalidation_0-rmse:5.49443\tvalidation_1-rmse:5.51259\n",
      "[15]\tvalidation_0-rmse:5.33139\tvalidation_1-rmse:5.34961\n",
      "[16]\tvalidation_0-rmse:5.17327\tvalidation_1-rmse:5.19215\n",
      "[17]\tvalidation_0-rmse:5.01988\tvalidation_1-rmse:5.03913\n",
      "[18]\tvalidation_0-rmse:4.87108\tvalidation_1-rmse:4.89062\n",
      "[19]\tvalidation_0-rmse:4.72678\tvalidation_1-rmse:4.74667\n",
      "[20]\tvalidation_0-rmse:4.5868\tvalidation_1-rmse:4.60736\n",
      "[21]\tvalidation_0-rmse:4.45105\tvalidation_1-rmse:4.47196\n",
      "[22]\tvalidation_0-rmse:4.3194\tvalidation_1-rmse:4.34069\n",
      "[23]\tvalidation_0-rmse:4.19168\tvalidation_1-rmse:4.21401\n",
      "[24]\tvalidation_0-rmse:4.0678\tvalidation_1-rmse:4.09073\n",
      "[25]\tvalidation_0-rmse:3.94765\tvalidation_1-rmse:3.97049\n",
      "[26]\tvalidation_0-rmse:3.83113\tvalidation_1-rmse:3.85411\n",
      "[27]\tvalidation_0-rmse:3.71809\tvalidation_1-rmse:3.74049\n",
      "[28]\tvalidation_0-rmse:3.60845\tvalidation_1-rmse:3.6312\n",
      "[29]\tvalidation_0-rmse:3.50211\tvalidation_1-rmse:3.52435\n",
      "[30]\tvalidation_0-rmse:3.399\tvalidation_1-rmse:3.42116\n",
      "[31]\tvalidation_0-rmse:3.29897\tvalidation_1-rmse:3.32066\n",
      "[32]\tvalidation_0-rmse:3.20197\tvalidation_1-rmse:3.22397\n",
      "[33]\tvalidation_0-rmse:3.10789\tvalidation_1-rmse:3.12945\n",
      "[34]\tvalidation_0-rmse:3.01668\tvalidation_1-rmse:3.03803\n",
      "[35]\tvalidation_0-rmse:2.92821\tvalidation_1-rmse:2.94913\n",
      "[36]\tvalidation_0-rmse:2.84243\tvalidation_1-rmse:2.86316\n",
      "[37]\tvalidation_0-rmse:2.75922\tvalidation_1-rmse:2.78027\n",
      "[38]\tvalidation_0-rmse:2.67854\tvalidation_1-rmse:2.69911\n",
      "[39]\tvalidation_0-rmse:2.60032\tvalidation_1-rmse:2.62094\n",
      "[40]\tvalidation_0-rmse:2.52447\tvalidation_1-rmse:2.54472\n",
      "[41]\tvalidation_0-rmse:2.45092\tvalidation_1-rmse:2.47147\n",
      "[42]\tvalidation_0-rmse:2.37961\tvalidation_1-rmse:2.39983\n",
      "[43]\tvalidation_0-rmse:2.31049\tvalidation_1-rmse:2.33079\n",
      "[44]\tvalidation_0-rmse:2.24348\tvalidation_1-rmse:2.26395\n",
      "[45]\tvalidation_0-rmse:2.1785\tvalidation_1-rmse:2.19922\n",
      "[46]\tvalidation_0-rmse:2.11551\tvalidation_1-rmse:2.13599\n",
      "[47]\tvalidation_0-rmse:2.05446\tvalidation_1-rmse:2.07468\n",
      "[48]\tvalidation_0-rmse:1.99533\tvalidation_1-rmse:2.01601\n",
      "[49]\tvalidation_0-rmse:1.93802\tvalidation_1-rmse:1.95916\n",
      "[50]\tvalidation_0-rmse:1.88249\tvalidation_1-rmse:1.90366\n",
      "[51]\tvalidation_0-rmse:1.82867\tvalidation_1-rmse:1.85028\n",
      "[52]\tvalidation_0-rmse:1.77644\tvalidation_1-rmse:1.79789\n",
      "[53]\tvalidation_0-rmse:1.7259\tvalidation_1-rmse:1.74738\n",
      "[54]\tvalidation_0-rmse:1.67693\tvalidation_1-rmse:1.69836\n",
      "[55]\tvalidation_0-rmse:1.62946\tvalidation_1-rmse:1.65131\n",
      "[56]\tvalidation_0-rmse:1.58349\tvalidation_1-rmse:1.60555\n",
      "[57]\tvalidation_0-rmse:1.53894\tvalidation_1-rmse:1.56141\n",
      "[58]\tvalidation_0-rmse:1.49579\tvalidation_1-rmse:1.51873\n",
      "[59]\tvalidation_0-rmse:1.45399\tvalidation_1-rmse:1.47737\n",
      "[60]\tvalidation_0-rmse:1.41352\tvalidation_1-rmse:1.43708\n",
      "[61]\tvalidation_0-rmse:1.37432\tvalidation_1-rmse:1.39814\n",
      "[62]\tvalidation_0-rmse:1.33637\tvalidation_1-rmse:1.36029\n",
      "[63]\tvalidation_0-rmse:1.29962\tvalidation_1-rmse:1.3238\n",
      "[64]\tvalidation_0-rmse:1.26403\tvalidation_1-rmse:1.28795\n",
      "[65]\tvalidation_0-rmse:1.22958\tvalidation_1-rmse:1.25385\n",
      "[66]\tvalidation_0-rmse:1.19623\tvalidation_1-rmse:1.22028\n",
      "[67]\tvalidation_0-rmse:1.16397\tvalidation_1-rmse:1.18836\n",
      "[68]\tvalidation_0-rmse:1.13274\tvalidation_1-rmse:1.1568\n",
      "[69]\tvalidation_0-rmse:1.10253\tvalidation_1-rmse:1.12684\n",
      "[70]\tvalidation_0-rmse:1.0733\tvalidation_1-rmse:1.09731\n",
      "[71]\tvalidation_0-rmse:1.04502\tvalidation_1-rmse:1.06929\n",
      "[72]\tvalidation_0-rmse:1.01771\tvalidation_1-rmse:1.04226\n",
      "[73]\tvalidation_0-rmse:0.991268\tvalidation_1-rmse:1.01571\n",
      "[74]\tvalidation_0-rmse:0.965712\tvalidation_1-rmse:0.990411\n",
      "[75]\tvalidation_0-rmse:0.941013\tvalidation_1-rmse:0.965857\n",
      "[76]\tvalidation_0-rmse:0.917134\tvalidation_1-rmse:0.941956\n",
      "[77]\tvalidation_0-rmse:0.894071\tvalidation_1-rmse:0.918958\n",
      "[78]\tvalidation_0-rmse:0.871778\tvalidation_1-rmse:0.896768\n",
      "[79]\tvalidation_0-rmse:0.850307\tvalidation_1-rmse:0.875485\n",
      "[80]\tvalidation_0-rmse:0.829533\tvalidation_1-rmse:0.854922\n",
      "[81]\tvalidation_0-rmse:0.809477\tvalidation_1-rmse:0.834946\n",
      "[82]\tvalidation_0-rmse:0.790129\tvalidation_1-rmse:0.815795\n",
      "[83]\tvalidation_0-rmse:0.771493\tvalidation_1-rmse:0.797365\n",
      "[84]\tvalidation_0-rmse:0.753454\tvalidation_1-rmse:0.779404\n",
      "[85]\tvalidation_0-rmse:0.736101\tvalidation_1-rmse:0.762416\n",
      "[86]\tvalidation_0-rmse:0.719398\tvalidation_1-rmse:0.745894\n",
      "[87]\tvalidation_0-rmse:0.703161\tvalidation_1-rmse:0.730177\n",
      "[88]\tvalidation_0-rmse:0.68764\tvalidation_1-rmse:0.714651\n",
      "[89]\tvalidation_0-rmse:0.67271\tvalidation_1-rmse:0.699861\n",
      "[90]\tvalidation_0-rmse:0.658187\tvalidation_1-rmse:0.685847\n",
      "[91]\tvalidation_0-rmse:0.644349\tvalidation_1-rmse:0.672223\n",
      "[92]\tvalidation_0-rmse:0.630942\tvalidation_1-rmse:0.659008\n",
      "[93]\tvalidation_0-rmse:0.618107\tvalidation_1-rmse:0.646278\n",
      "[94]\tvalidation_0-rmse:0.605762\tvalidation_1-rmse:0.634251\n",
      "[95]\tvalidation_0-rmse:0.593784\tvalidation_1-rmse:0.622755\n",
      "[96]\tvalidation_0-rmse:0.582344\tvalidation_1-rmse:0.611812\n",
      "[97]\tvalidation_0-rmse:0.571409\tvalidation_1-rmse:0.601063\n",
      "[98]\tvalidation_0-rmse:0.56086\tvalidation_1-rmse:0.591\n",
      "[99]\tvalidation_0-rmse:0.550753\tvalidation_1-rmse:0.581043\n",
      "[100]\tvalidation_0-rmse:0.541039\tvalidation_1-rmse:0.571798\n",
      "[101]\tvalidation_0-rmse:0.531631\tvalidation_1-rmse:0.562819\n",
      "[102]\tvalidation_0-rmse:0.522702\tvalidation_1-rmse:0.55434\n",
      "[103]\tvalidation_0-rmse:0.514159\tvalidation_1-rmse:0.545949\n",
      "[104]\tvalidation_0-rmse:0.505963\tvalidation_1-rmse:0.538124\n",
      "[105]\tvalidation_0-rmse:0.498102\tvalidation_1-rmse:0.530533\n",
      "[106]\tvalidation_0-rmse:0.490589\tvalidation_1-rmse:0.52344\n",
      "[107]\tvalidation_0-rmse:0.483404\tvalidation_1-rmse:0.516345\n",
      "[108]\tvalidation_0-rmse:0.47635\tvalidation_1-rmse:0.509718\n",
      "[109]\tvalidation_0-rmse:0.469722\tvalidation_1-rmse:0.503276\n",
      "[110]\tvalidation_0-rmse:0.46342\tvalidation_1-rmse:0.497207\n",
      "[111]\tvalidation_0-rmse:0.457225\tvalidation_1-rmse:0.491486\n",
      "[112]\tvalidation_0-rmse:0.451265\tvalidation_1-rmse:0.486023\n",
      "[113]\tvalidation_0-rmse:0.445731\tvalidation_1-rmse:0.480662\n",
      "[114]\tvalidation_0-rmse:0.440483\tvalidation_1-rmse:0.475648\n",
      "[115]\tvalidation_0-rmse:0.435473\tvalidation_1-rmse:0.471046\n",
      "[116]\tvalidation_0-rmse:0.430412\tvalidation_1-rmse:0.466338\n",
      "[117]\tvalidation_0-rmse:0.425826\tvalidation_1-rmse:0.461942\n",
      "[118]\tvalidation_0-rmse:0.421275\tvalidation_1-rmse:0.457894\n",
      "[119]\tvalidation_0-rmse:0.417013\tvalidation_1-rmse:0.453731\n",
      "[120]\tvalidation_0-rmse:0.412976\tvalidation_1-rmse:0.450029\n",
      "[121]\tvalidation_0-rmse:0.409186\tvalidation_1-rmse:0.446452\n",
      "[122]\tvalidation_0-rmse:0.405478\tvalidation_1-rmse:0.443092\n",
      "[123]\tvalidation_0-rmse:0.402039\tvalidation_1-rmse:0.440009\n",
      "[124]\tvalidation_0-rmse:0.398627\tvalidation_1-rmse:0.437026\n",
      "[125]\tvalidation_0-rmse:0.3955\tvalidation_1-rmse:0.434232\n",
      "[126]\tvalidation_0-rmse:0.392498\tvalidation_1-rmse:0.431293\n",
      "[127]\tvalidation_0-rmse:0.38951\tvalidation_1-rmse:0.428737\n",
      "[128]\tvalidation_0-rmse:0.386815\tvalidation_1-rmse:0.42639\n",
      "[129]\tvalidation_0-rmse:0.384219\tvalidation_1-rmse:0.423822\n",
      "[130]\tvalidation_0-rmse:0.381628\tvalidation_1-rmse:0.421642\n",
      "[131]\tvalidation_0-rmse:0.379305\tvalidation_1-rmse:0.419659\n",
      "[132]\tvalidation_0-rmse:0.376927\tvalidation_1-rmse:0.417676\n",
      "[133]\tvalidation_0-rmse:0.374788\tvalidation_1-rmse:0.415527\n",
      "[134]\tvalidation_0-rmse:0.372644\tvalidation_1-rmse:0.413772\n",
      "[135]\tvalidation_0-rmse:0.370495\tvalidation_1-rmse:0.411761\n",
      "[136]\tvalidation_0-rmse:0.368674\tvalidation_1-rmse:0.410215\n",
      "[137]\tvalidation_0-rmse:0.366913\tvalidation_1-rmse:0.408459\n",
      "[138]\tvalidation_0-rmse:0.365101\tvalidation_1-rmse:0.407043\n"
     ]
    },
    {
     "name": "stdout",
     "output_type": "stream",
     "text": [
      "[139]\tvalidation_0-rmse:0.363304\tvalidation_1-rmse:0.405434\n",
      "[140]\tvalidation_0-rmse:0.361735\tvalidation_1-rmse:0.404139\n",
      "[141]\tvalidation_0-rmse:0.360309\tvalidation_1-rmse:0.40298\n",
      "[142]\tvalidation_0-rmse:0.358805\tvalidation_1-rmse:0.401684\n",
      "[143]\tvalidation_0-rmse:0.357418\tvalidation_1-rmse:0.400551\n",
      "[144]\tvalidation_0-rmse:0.356128\tvalidation_1-rmse:0.399418\n",
      "[145]\tvalidation_0-rmse:0.354956\tvalidation_1-rmse:0.3985\n",
      "[146]\tvalidation_0-rmse:0.353637\tvalidation_1-rmse:0.397517\n",
      "[147]\tvalidation_0-rmse:0.352537\tvalidation_1-rmse:0.396477\n",
      "[148]\tvalidation_0-rmse:0.351367\tvalidation_1-rmse:0.395656\n",
      "[149]\tvalidation_0-rmse:0.350286\tvalidation_1-rmse:0.394787\n",
      "[150]\tvalidation_0-rmse:0.349366\tvalidation_1-rmse:0.394127\n",
      "[151]\tvalidation_0-rmse:0.348346\tvalidation_1-rmse:0.393274\n",
      "[152]\tvalidation_0-rmse:0.34736\tvalidation_1-rmse:0.392618\n",
      "[153]\tvalidation_0-rmse:0.346372\tvalidation_1-rmse:0.391936\n",
      "[154]\tvalidation_0-rmse:0.345457\tvalidation_1-rmse:0.391056\n",
      "[155]\tvalidation_0-rmse:0.344556\tvalidation_1-rmse:0.390433\n",
      "[156]\tvalidation_0-rmse:0.343578\tvalidation_1-rmse:0.389763\n",
      "[157]\tvalidation_0-rmse:0.342797\tvalidation_1-rmse:0.389206\n",
      "[158]\tvalidation_0-rmse:0.34216\tvalidation_1-rmse:0.38879\n",
      "[159]\tvalidation_0-rmse:0.341387\tvalidation_1-rmse:0.388283\n",
      "[160]\tvalidation_0-rmse:0.340739\tvalidation_1-rmse:0.387731\n",
      "[161]\tvalidation_0-rmse:0.340046\tvalidation_1-rmse:0.387342\n",
      "[162]\tvalidation_0-rmse:0.339403\tvalidation_1-rmse:0.386921\n",
      "[163]\tvalidation_0-rmse:0.338737\tvalidation_1-rmse:0.386519\n",
      "[164]\tvalidation_0-rmse:0.338249\tvalidation_1-rmse:0.38624\n",
      "[165]\tvalidation_0-rmse:0.337653\tvalidation_1-rmse:0.385931\n",
      "[166]\tvalidation_0-rmse:0.337023\tvalidation_1-rmse:0.385417\n",
      "[167]\tvalidation_0-rmse:0.336542\tvalidation_1-rmse:0.384983\n",
      "[168]\tvalidation_0-rmse:0.336152\tvalidation_1-rmse:0.384645\n",
      "[169]\tvalidation_0-rmse:0.335638\tvalidation_1-rmse:0.384404\n",
      "[170]\tvalidation_0-rmse:0.335083\tvalidation_1-rmse:0.384127\n",
      "[171]\tvalidation_0-rmse:0.334427\tvalidation_1-rmse:0.383856\n",
      "[172]\tvalidation_0-rmse:0.333912\tvalidation_1-rmse:0.383464\n",
      "[173]\tvalidation_0-rmse:0.333597\tvalidation_1-rmse:0.383197\n",
      "[174]\tvalidation_0-rmse:0.333161\tvalidation_1-rmse:0.383021\n",
      "[175]\tvalidation_0-rmse:0.332744\tvalidation_1-rmse:0.382845\n",
      "[176]\tvalidation_0-rmse:0.332277\tvalidation_1-rmse:0.382663\n",
      "[177]\tvalidation_0-rmse:0.332009\tvalidation_1-rmse:0.382456\n",
      "[178]\tvalidation_0-rmse:0.331625\tvalidation_1-rmse:0.382146\n",
      "[179]\tvalidation_0-rmse:0.331117\tvalidation_1-rmse:0.381913\n",
      "[180]\tvalidation_0-rmse:0.330756\tvalidation_1-rmse:0.38179\n",
      "[181]\tvalidation_0-rmse:0.33041\tvalidation_1-rmse:0.381679\n",
      "[182]\tvalidation_0-rmse:0.32994\tvalidation_1-rmse:0.381525\n",
      "[183]\tvalidation_0-rmse:0.32962\tvalidation_1-rmse:0.381266\n",
      "[184]\tvalidation_0-rmse:0.329298\tvalidation_1-rmse:0.381177\n",
      "[185]\tvalidation_0-rmse:0.32886\tvalidation_1-rmse:0.380995\n",
      "[186]\tvalidation_0-rmse:0.328654\tvalidation_1-rmse:0.380944\n",
      "[187]\tvalidation_0-rmse:0.32837\tvalidation_1-rmse:0.380875\n",
      "[188]\tvalidation_0-rmse:0.32808\tvalidation_1-rmse:0.380814\n",
      "[189]\tvalidation_0-rmse:0.327675\tvalidation_1-rmse:0.380703\n",
      "[190]\tvalidation_0-rmse:0.327418\tvalidation_1-rmse:0.380491\n",
      "[191]\tvalidation_0-rmse:0.327169\tvalidation_1-rmse:0.38042\n",
      "[192]\tvalidation_0-rmse:0.326996\tvalidation_1-rmse:0.380412\n",
      "[193]\tvalidation_0-rmse:0.32662\tvalidation_1-rmse:0.380319\n",
      "[194]\tvalidation_0-rmse:0.326397\tvalidation_1-rmse:0.380241\n",
      "[195]\tvalidation_0-rmse:0.326248\tvalidation_1-rmse:0.380153\n",
      "[196]\tvalidation_0-rmse:0.326025\tvalidation_1-rmse:0.380109\n",
      "[197]\tvalidation_0-rmse:0.325674\tvalidation_1-rmse:0.380038\n",
      "[198]\tvalidation_0-rmse:0.325458\tvalidation_1-rmse:0.380012\n",
      "[199]\tvalidation_0-rmse:0.32525\tvalidation_1-rmse:0.380028\n",
      "[200]\tvalidation_0-rmse:0.324918\tvalidation_1-rmse:0.379918\n",
      "[201]\tvalidation_0-rmse:0.324724\tvalidation_1-rmse:0.379866\n",
      "[202]\tvalidation_0-rmse:0.324587\tvalidation_1-rmse:0.379893\n",
      "[203]\tvalidation_0-rmse:0.324326\tvalidation_1-rmse:0.379841\n",
      "[204]\tvalidation_0-rmse:0.323546\tvalidation_1-rmse:0.379767\n",
      "[205]\tvalidation_0-rmse:0.323235\tvalidation_1-rmse:0.37971\n",
      "[206]\tvalidation_0-rmse:0.322513\tvalidation_1-rmse:0.379626\n",
      "[207]\tvalidation_0-rmse:0.322356\tvalidation_1-rmse:0.379611\n",
      "[208]\tvalidation_0-rmse:0.321638\tvalidation_1-rmse:0.379453\n",
      "[209]\tvalidation_0-rmse:0.321342\tvalidation_1-rmse:0.379356\n",
      "[210]\tvalidation_0-rmse:0.32068\tvalidation_1-rmse:0.379282\n",
      "[211]\tvalidation_0-rmse:0.32046\tvalidation_1-rmse:0.379246\n",
      "[212]\tvalidation_0-rmse:0.319799\tvalidation_1-rmse:0.379099\n",
      "[213]\tvalidation_0-rmse:0.319653\tvalidation_1-rmse:0.379068\n",
      "[214]\tvalidation_0-rmse:0.319372\tvalidation_1-rmse:0.378977\n",
      "[215]\tvalidation_0-rmse:0.318764\tvalidation_1-rmse:0.378914\n",
      "[216]\tvalidation_0-rmse:0.318554\tvalidation_1-rmse:0.378869\n",
      "[217]\tvalidation_0-rmse:0.318284\tvalidation_1-rmse:0.378763\n",
      "[218]\tvalidation_0-rmse:0.317704\tvalidation_1-rmse:0.378617\n",
      "[219]\tvalidation_0-rmse:0.317568\tvalidation_1-rmse:0.378618\n",
      "[220]\tvalidation_0-rmse:0.316981\tvalidation_1-rmse:0.378573\n",
      "[221]\tvalidation_0-rmse:0.316673\tvalidation_1-rmse:0.378367\n",
      "[222]\tvalidation_0-rmse:0.316256\tvalidation_1-rmse:0.378284\n",
      "[223]\tvalidation_0-rmse:0.316063\tvalidation_1-rmse:0.378266\n",
      "[224]\tvalidation_0-rmse:0.315934\tvalidation_1-rmse:0.378234\n",
      "[225]\tvalidation_0-rmse:0.315538\tvalidation_1-rmse:0.378172\n",
      "[226]\tvalidation_0-rmse:0.315355\tvalidation_1-rmse:0.37816\n",
      "[227]\tvalidation_0-rmse:0.315229\tvalidation_1-rmse:0.378167\n",
      "[228]\tvalidation_0-rmse:0.315144\tvalidation_1-rmse:0.378128\n",
      "[229]\tvalidation_0-rmse:0.314894\tvalidation_1-rmse:0.378042\n",
      "[230]\tvalidation_0-rmse:0.31434\tvalidation_1-rmse:0.377914\n",
      "[231]\tvalidation_0-rmse:0.314221\tvalidation_1-rmse:0.377901\n",
      "[232]\tvalidation_0-rmse:0.313754\tvalidation_1-rmse:0.377825\n",
      "[233]\tvalidation_0-rmse:0.313516\tvalidation_1-rmse:0.377762\n",
      "[234]\tvalidation_0-rmse:0.313009\tvalidation_1-rmse:0.377607\n",
      "[235]\tvalidation_0-rmse:0.312831\tvalidation_1-rmse:0.377585\n",
      "[236]\tvalidation_0-rmse:0.312715\tvalidation_1-rmse:0.377564\n",
      "[237]\tvalidation_0-rmse:0.312626\tvalidation_1-rmse:0.377612\n",
      "[238]\tvalidation_0-rmse:0.312397\tvalidation_1-rmse:0.377576\n",
      "[239]\tvalidation_0-rmse:0.311907\tvalidation_1-rmse:0.377512\n",
      "[240]\tvalidation_0-rmse:0.311796\tvalidation_1-rmse:0.37753\n",
      "[241]\tvalidation_0-rmse:0.311298\tvalidation_1-rmse:0.377413\n",
      "[242]\tvalidation_0-rmse:0.311214\tvalidation_1-rmse:0.377457\n",
      "[243]\tvalidation_0-rmse:0.310952\tvalidation_1-rmse:0.377341\n",
      "[244]\tvalidation_0-rmse:0.310494\tvalidation_1-rmse:0.377281\n",
      "[245]\tvalidation_0-rmse:0.310332\tvalidation_1-rmse:0.377279\n",
      "[246]\tvalidation_0-rmse:0.310226\tvalidation_1-rmse:0.37724\n",
      "[247]\tvalidation_0-rmse:0.310155\tvalidation_1-rmse:0.377212\n",
      "[248]\tvalidation_0-rmse:0.310022\tvalidation_1-rmse:0.377234\n",
      "[249]\tvalidation_0-rmse:0.309862\tvalidation_1-rmse:0.377222\n",
      "[250]\tvalidation_0-rmse:0.30976\tvalidation_1-rmse:0.377207\n",
      "[251]\tvalidation_0-rmse:0.30968\tvalidation_1-rmse:0.377232\n",
      "[252]\tvalidation_0-rmse:0.309214\tvalidation_1-rmse:0.377121\n",
      "[253]\tvalidation_0-rmse:0.308934\tvalidation_1-rmse:0.377079\n",
      "[254]\tvalidation_0-rmse:0.308504\tvalidation_1-rmse:0.377019\n",
      "[255]\tvalidation_0-rmse:0.308169\tvalidation_1-rmse:0.376995\n",
      "[256]\tvalidation_0-rmse:0.308071\tvalidation_1-rmse:0.377017\n",
      "[257]\tvalidation_0-rmse:0.308005\tvalidation_1-rmse:0.377029\n",
      "[258]\tvalidation_0-rmse:0.307642\tvalidation_1-rmse:0.377082\n",
      "[259]\tvalidation_0-rmse:0.307311\tvalidation_1-rmse:0.377109\n",
      "[260]\tvalidation_0-rmse:0.307042\tvalidation_1-rmse:0.377072\n",
      "[261]\tvalidation_0-rmse:0.306722\tvalidation_1-rmse:0.377099\n",
      "[262]\tvalidation_0-rmse:0.306337\tvalidation_1-rmse:0.37698\n",
      "[263]\tvalidation_0-rmse:0.306242\tvalidation_1-rmse:0.376972\n",
      "[264]\tvalidation_0-rmse:0.30598\tvalidation_1-rmse:0.376941\n",
      "[265]\tvalidation_0-rmse:0.305653\tvalidation_1-rmse:0.376995\n",
      "[266]\tvalidation_0-rmse:0.30536\tvalidation_1-rmse:0.377019\n",
      "[267]\tvalidation_0-rmse:0.305298\tvalidation_1-rmse:0.377024\n",
      "[268]\tvalidation_0-rmse:0.305046\tvalidation_1-rmse:0.376969\n",
      "[269]\tvalidation_0-rmse:0.304954\tvalidation_1-rmse:0.37697\n",
      "[270]\tvalidation_0-rmse:0.304646\tvalidation_1-rmse:0.377028\n",
      "[271]\tvalidation_0-rmse:0.304574\tvalidation_1-rmse:0.377085\n",
      "[272]\tvalidation_0-rmse:0.304422\tvalidation_1-rmse:0.377081\n",
      "[273]\tvalidation_0-rmse:0.303991\tvalidation_1-rmse:0.377133\n",
      "[274]\tvalidation_0-rmse:0.303749\tvalidation_1-rmse:0.377106\n",
      "Stopping. Best iteration:\n",
      "[264]\tvalidation_0-rmse:0.30598\tvalidation_1-rmse:0.376941\n",
      "\n"
     ]
    },
    {
     "name": "stdout",
     "output_type": "stream",
     "text": [
      "with params:\n",
      "learning_rate             - 0.03\n",
      "n_estimators              - 1000\n",
      "objective                 - reg:squarederror\n",
      "xgboost train set r2-score 0.8876633214586827\n",
      "xgboost val set r2-score 0.8364691738574381\n",
      "xgboost test set r2-score 0.8008679322814961\n",
      "xgboost train set rmse 0.3059803853738259\n",
      "xgboost val set rmse 0.37694091076527664\n",
      "xgboost test set rmse 0.4143474095677172\n"
     ]
    }
   ],
   "source": [
    "xgboost_helper = XGBoostHelper(xgboost_params,\n",
    "                               datasets=((X_train, y_train), (X_val, y_val), (X_test, y_test)),\n",
    "                               early_stopping_rounds=10)\n",
    "xgboost_helper.train()"
   ]
  },
  {
   "cell_type": "code",
   "execution_count": 81,
   "metadata": {},
   "outputs": [
    {
     "data": {
      "image/png": "[encoded data removed]",
      "text/plain": [
       "<Figure size 432x288 with 1 Axes>"
      ]
     },
     "metadata": {
      "needs_background": "light"
     },
     "output_type": "display_data"
    }
   ],
   "source": [
    "results = xgboost_helper.results_\n",
    "fig, ax = plt.subplots()\n",
    "ax.plot(results['validation_0']['rmse'], label='train')\n",
    "ax.plot(results['validation_1']['rmse'], label='test')\n",
    "ax.legend()\n",
    "plt.ylabel('rmse')\n",
    "plt.title('XGBoost rmse')\n",
    "plt.show()"
   ]
  },
  {
   "cell_type": "code",
   "execution_count": 82,
   "metadata": {
    "scrolled": true
   },
   "outputs": [
    {
     "name": "stdout",
     "output_type": "stream",
     "text": [
      "[0]\tvalidation_0-rmse:7.78496\tvalidation_1-rmse:7.80028\n",
      "Multiple eval metrics have been passed: 'validation_1-rmse' will be used for early stopping.\n",
      "\n",
      "Will train until validation_1-rmse hasn't improved in 10 rounds.\n",
      "[1]\tvalidation_0-rmse:7.01286\tvalidation_1-rmse:7.02964\n",
      "[2]\tvalidation_0-rmse:6.3176\tvalidation_1-rmse:6.33513\n",
      "[3]\tvalidation_0-rmse:5.69246\tvalidation_1-rmse:5.711\n",
      "[4]\tvalidation_0-rmse:5.12981\tvalidation_1-rmse:5.14853\n",
      "[5]\tvalidation_0-rmse:4.62355\tvalidation_1-rmse:4.64297\n",
      "[6]\tvalidation_0-rmse:4.16791\tvalidation_1-rmse:4.18952\n",
      "[7]\tvalidation_0-rmse:3.75805\tvalidation_1-rmse:3.78056\n",
      "[8]\tvalidation_0-rmse:3.38946\tvalidation_1-rmse:3.4129\n",
      "[9]\tvalidation_0-rmse:3.05669\tvalidation_1-rmse:3.07839\n",
      "[10]\tvalidation_0-rmse:2.75788\tvalidation_1-rmse:2.78016\n",
      "[11]\tvalidation_0-rmse:2.4891\tvalidation_1-rmse:2.5099\n",
      "[12]\tvalidation_0-rmse:2.24836\tvalidation_1-rmse:2.26926\n",
      "[13]\tvalidation_0-rmse:2.03209\tvalidation_1-rmse:2.05468\n",
      "[14]\tvalidation_0-rmse:1.83798\tvalidation_1-rmse:1.86213\n",
      "[15]\tvalidation_0-rmse:1.6634\tvalidation_1-rmse:1.68753\n",
      "[16]\tvalidation_0-rmse:1.50714\tvalidation_1-rmse:1.5306\n",
      "[17]\tvalidation_0-rmse:1.36703\tvalidation_1-rmse:1.39188\n",
      "[18]\tvalidation_0-rmse:1.24191\tvalidation_1-rmse:1.26765\n",
      "[19]\tvalidation_0-rmse:1.12965\tvalidation_1-rmse:1.15445\n",
      "[20]\tvalidation_0-rmse:1.03008\tvalidation_1-rmse:1.05503\n",
      "[21]\tvalidation_0-rmse:0.941525\tvalidation_1-rmse:0.967394\n",
      "[22]\tvalidation_0-rmse:0.86227\tvalidation_1-rmse:0.888641\n",
      "[23]\tvalidation_0-rmse:0.79204\tvalidation_1-rmse:0.81846\n",
      "[24]\tvalidation_0-rmse:0.730914\tvalidation_1-rmse:0.756589\n",
      "[25]\tvalidation_0-rmse:0.675932\tvalidation_1-rmse:0.702357\n",
      "[26]\tvalidation_0-rmse:0.628424\tvalidation_1-rmse:0.655611\n",
      "[27]\tvalidation_0-rmse:0.586449\tvalidation_1-rmse:0.614106\n",
      "[28]\tvalidation_0-rmse:0.54985\tvalidation_1-rmse:0.579001\n",
      "[29]\tvalidation_0-rmse:0.518629\tvalidation_1-rmse:0.548765\n",
      "[30]\tvalidation_0-rmse:0.490957\tvalidation_1-rmse:0.522666\n",
      "[31]\tvalidation_0-rmse:0.466955\tvalidation_1-rmse:0.49946\n",
      "[32]\tvalidation_0-rmse:0.446052\tvalidation_1-rmse:0.48015\n",
      "[33]\tvalidation_0-rmse:0.428876\tvalidation_1-rmse:0.464745\n",
      "[34]\tvalidation_0-rmse:0.413523\tvalidation_1-rmse:0.450738\n",
      "[35]\tvalidation_0-rmse:0.401168\tvalidation_1-rmse:0.439008\n",
      "[36]\tvalidation_0-rmse:0.390737\tvalidation_1-rmse:0.429125\n",
      "[37]\tvalidation_0-rmse:0.381625\tvalidation_1-rmse:0.420001\n",
      "[38]\tvalidation_0-rmse:0.374323\tvalidation_1-rmse:0.413474\n",
      "[39]\tvalidation_0-rmse:0.367595\tvalidation_1-rmse:0.408027\n",
      "[40]\tvalidation_0-rmse:0.361836\tvalidation_1-rmse:0.402391\n",
      "[41]\tvalidation_0-rmse:0.357063\tvalidation_1-rmse:0.397749\n",
      "[42]\tvalidation_0-rmse:0.352973\tvalidation_1-rmse:0.394396\n",
      "[43]\tvalidation_0-rmse:0.348959\tvalidation_1-rmse:0.391783\n",
      "[44]\tvalidation_0-rmse:0.345434\tvalidation_1-rmse:0.390121\n",
      "[45]\tvalidation_0-rmse:0.342971\tvalidation_1-rmse:0.387554\n",
      "[46]\tvalidation_0-rmse:0.339374\tvalidation_1-rmse:0.386352\n",
      "[47]\tvalidation_0-rmse:0.337752\tvalidation_1-rmse:0.385312\n",
      "[48]\tvalidation_0-rmse:0.335935\tvalidation_1-rmse:0.384294\n",
      "[49]\tvalidation_0-rmse:0.333761\tvalidation_1-rmse:0.383708\n",
      "[50]\tvalidation_0-rmse:0.33199\tvalidation_1-rmse:0.382435\n",
      "[51]\tvalidation_0-rmse:0.329853\tvalidation_1-rmse:0.38233\n",
      "[52]\tvalidation_0-rmse:0.328626\tvalidation_1-rmse:0.381476\n",
      "[53]\tvalidation_0-rmse:0.327213\tvalidation_1-rmse:0.380389\n",
      "[54]\tvalidation_0-rmse:0.325831\tvalidation_1-rmse:0.379379\n",
      "[55]\tvalidation_0-rmse:0.324095\tvalidation_1-rmse:0.378737\n",
      "[56]\tvalidation_0-rmse:0.322983\tvalidation_1-rmse:0.378107\n",
      "[57]\tvalidation_0-rmse:0.322289\tvalidation_1-rmse:0.377767\n",
      "[58]\tvalidation_0-rmse:0.321032\tvalidation_1-rmse:0.376179\n",
      "[59]\tvalidation_0-rmse:0.319972\tvalidation_1-rmse:0.37554\n",
      "[60]\tvalidation_0-rmse:0.319286\tvalidation_1-rmse:0.375457\n",
      "[61]\tvalidation_0-rmse:0.317683\tvalidation_1-rmse:0.374743\n",
      "[62]\tvalidation_0-rmse:0.31627\tvalidation_1-rmse:0.374892\n",
      "[63]\tvalidation_0-rmse:0.315517\tvalidation_1-rmse:0.37467\n",
      "[64]\tvalidation_0-rmse:0.314624\tvalidation_1-rmse:0.374369\n",
      "[65]\tvalidation_0-rmse:0.314158\tvalidation_1-rmse:0.374433\n",
      "[66]\tvalidation_0-rmse:0.31334\tvalidation_1-rmse:0.373993\n",
      "[67]\tvalidation_0-rmse:0.31272\tvalidation_1-rmse:0.373974\n",
      "[68]\tvalidation_0-rmse:0.31232\tvalidation_1-rmse:0.374313\n",
      "[69]\tvalidation_0-rmse:0.311796\tvalidation_1-rmse:0.374121\n",
      "[70]\tvalidation_0-rmse:0.310808\tvalidation_1-rmse:0.373524\n",
      "[71]\tvalidation_0-rmse:0.310271\tvalidation_1-rmse:0.373891\n",
      "[72]\tvalidation_0-rmse:0.309875\tvalidation_1-rmse:0.373926\n",
      "[73]\tvalidation_0-rmse:0.308831\tvalidation_1-rmse:0.374287\n",
      "[74]\tvalidation_0-rmse:0.307675\tvalidation_1-rmse:0.374404\n",
      "[75]\tvalidation_0-rmse:0.307319\tvalidation_1-rmse:0.372996\n",
      "[76]\tvalidation_0-rmse:0.306052\tvalidation_1-rmse:0.372981\n",
      "[77]\tvalidation_0-rmse:0.305296\tvalidation_1-rmse:0.373486\n",
      "[78]\tvalidation_0-rmse:0.304364\tvalidation_1-rmse:0.373816\n",
      "[79]\tvalidation_0-rmse:0.303001\tvalidation_1-rmse:0.373806\n",
      "[80]\tvalidation_0-rmse:0.302344\tvalidation_1-rmse:0.373856\n",
      "[81]\tvalidation_0-rmse:0.302004\tvalidation_1-rmse:0.373785\n",
      "[82]\tvalidation_0-rmse:0.301753\tvalidation_1-rmse:0.372979\n",
      "[83]\tvalidation_0-rmse:0.300207\tvalidation_1-rmse:0.373724\n",
      "[84]\tvalidation_0-rmse:0.299187\tvalidation_1-rmse:0.373172\n",
      "[85]\tvalidation_0-rmse:0.29853\tvalidation_1-rmse:0.373236\n",
      "[86]\tvalidation_0-rmse:0.297977\tvalidation_1-rmse:0.37228\n",
      "[87]\tvalidation_0-rmse:0.297713\tvalidation_1-rmse:0.372391\n",
      "[88]\tvalidation_0-rmse:0.296427\tvalidation_1-rmse:0.372705\n",
      "[89]\tvalidation_0-rmse:0.295669\tvalidation_1-rmse:0.372516\n",
      "[90]\tvalidation_0-rmse:0.294888\tvalidation_1-rmse:0.372097\n",
      "[91]\tvalidation_0-rmse:0.294566\tvalidation_1-rmse:0.372115\n",
      "[92]\tvalidation_0-rmse:0.294198\tvalidation_1-rmse:0.372102\n",
      "[93]\tvalidation_0-rmse:0.293528\tvalidation_1-rmse:0.371866\n",
      "[94]\tvalidation_0-rmse:0.292911\tvalidation_1-rmse:0.371751\n",
      "[95]\tvalidation_0-rmse:0.292632\tvalidation_1-rmse:0.37233\n",
      "[96]\tvalidation_0-rmse:0.292431\tvalidation_1-rmse:0.371561\n",
      "[97]\tvalidation_0-rmse:0.291567\tvalidation_1-rmse:0.371968\n",
      "[98]\tvalidation_0-rmse:0.291397\tvalidation_1-rmse:0.371379\n",
      "[99]\tvalidation_0-rmse:0.290383\tvalidation_1-rmse:0.371212\n",
      "[100]\tvalidation_0-rmse:0.289532\tvalidation_1-rmse:0.371661\n",
      "[101]\tvalidation_0-rmse:0.288909\tvalidation_1-rmse:0.371122\n",
      "[102]\tvalidation_0-rmse:0.288185\tvalidation_1-rmse:0.371066\n",
      "[103]\tvalidation_0-rmse:0.287925\tvalidation_1-rmse:0.371086\n",
      "[104]\tvalidation_0-rmse:0.287693\tvalidation_1-rmse:0.371215\n",
      "[105]\tvalidation_0-rmse:0.287251\tvalidation_1-rmse:0.371498\n",
      "[106]\tvalidation_0-rmse:0.286483\tvalidation_1-rmse:0.371581\n",
      "[107]\tvalidation_0-rmse:0.285907\tvalidation_1-rmse:0.37147\n",
      "[108]\tvalidation_0-rmse:0.285381\tvalidation_1-rmse:0.370781\n",
      "[109]\tvalidation_0-rmse:0.284792\tvalidation_1-rmse:0.37105\n",
      "[110]\tvalidation_0-rmse:0.284393\tvalidation_1-rmse:0.371441\n",
      "[111]\tvalidation_0-rmse:0.283567\tvalidation_1-rmse:0.371173\n",
      "[112]\tvalidation_0-rmse:0.283303\tvalidation_1-rmse:0.370996\n",
      "[113]\tvalidation_0-rmse:0.282384\tvalidation_1-rmse:0.371174\n",
      "[114]\tvalidation_0-rmse:0.282011\tvalidation_1-rmse:0.371268\n",
      "[115]\tvalidation_0-rmse:0.281483\tvalidation_1-rmse:0.371581\n",
      "[116]\tvalidation_0-rmse:0.280391\tvalidation_1-rmse:0.371395\n",
      "[117]\tvalidation_0-rmse:0.279788\tvalidation_1-rmse:0.371289\n",
      "[118]\tvalidation_0-rmse:0.279515\tvalidation_1-rmse:0.371339\n",
      "Stopping. Best iteration:\n",
      "[108]\tvalidation_0-rmse:0.285381\tvalidation_1-rmse:0.370781\n",
      "\n",
      "with params:\n",
      "learning_rate             - 0.1\n",
      "max_depth                 - 3\n",
      "min_child_weight          - 2\n",
      "n_estimators              - 1000\n",
      "subsample                 - 0.9\n",
      "subsample_bycol           - 0.9\n",
      "objective                 - reg:squarederror\n",
      "xgboost train set r2-score 0.902279825220071\n",
      "xgboost val set r2-score 0.8417700237968646\n",
      "xgboost test set r2-score 0.7984027410452936\n",
      "xgboost train set rmse 0.28538090794451304\n",
      "xgboost val set rmse 0.3707813160210229\n",
      "xgboost test set rmse 0.41690426477414766\n"
     ]
    }
   ],
   "source": [
    "xgboost_params = {\n",
    "                #'gamma':0,                 \n",
    "                'learning_rate':0.1,\n",
    "                'max_depth':3,\n",
    "                'min_child_weight':2,\n",
    "                'n_estimators':1000,                                                                    \n",
    "                #'reg_alpha':5,\n",
    "                #'reg_lambda':10,\n",
    "                'subsample':0.9,\n",
    "                'subsample_bycol':0.9,\n",
    "                'objective':'reg:squarederror'\n",
    "                }\n",
    "xgboost_helper = XGBoostHelper(xgboost_params,\n",
    "                               datasets=((X_train, y_train), (X_val, y_val), (X_test, y_test)),\n",
    "                               early_stopping_rounds=10)\n",
    "xgboost_helper.train()"
   ]
  },
  {
   "cell_type": "code",
   "execution_count": 83,
   "metadata": {},
   "outputs": [
    {
     "data": {
      "image/png": "[encoded data removed]",
      "text/plain": [
       "<Figure size 432x288 with 1 Axes>"
      ]
     },
     "metadata": {
      "needs_background": "light"
     },
     "output_type": "display_data"
    }
   ],
   "source": [
    "results = xgboost_helper.results_\n",
    "len(results)\n",
    "fig, ax = plt.subplots()\n",
    "ax.plot(results['validation_0']['rmse'], label='train')\n",
    "ax.plot(results['validation_1']['rmse'], label='test')\n",
    "ax.legend()\n",
    "plt.ylabel('rmse')\n",
    "plt.title('XGBoost rmse')\n",
    "plt.show()"
   ]
  },
  {
   "cell_type": "code",
   "execution_count": 84,
   "metadata": {},
   "outputs": [],
   "source": [
    "xgboost_params = {\n",
    "                'gamma': [0, 0.1, 1],\n",
    "                'lambda': [1., 2.],\n",
    "                'alpha': [0, 1.],\n",
    "                'learning_rate': [0.1, 0.3],\n",
    "                'max_depth': [3, 4, 5],\n",
    "                'min_child_weight':[1, 2, 3],\n",
    "                'n_estimators':[30, 45, 60, 75],                                                                    \n",
    "                'silent': [1],\n",
    "                'subsample': [0.8, 0.9, 1.0],\n",
    "                'subsample_bycol': [0.8, 0.9, 1.0],\n",
    "                'objective':['reg:squarederror'],\n",
    "                 }"
   ]
  },
  {
   "cell_type": "code",
   "execution_count": 85,
   "metadata": {
    "scrolled": true
   },
   "outputs": [
    {
     "name": "stdout",
     "output_type": "stream",
     "text": [
      "Fitting 3 folds for each of 7776 candidates, totalling 23328 fits\n"
     ]
    },
    {
     "name": "stderr",
     "output_type": "stream",
     "text": [
      "[Parallel(n_jobs=-1)]: Using backend LokyBackend with 4 concurrent workers.\n",
      "[Parallel(n_jobs=-1)]: Done  52 tasks      | elapsed:    3.1s\n",
      "[Parallel(n_jobs=-1)]: Done 560 tasks      | elapsed:   12.6s\n",
      "[Parallel(n_jobs=-1)]: Done 1560 tasks      | elapsed:   32.4s\n",
      "[Parallel(n_jobs=-1)]: Done 2960 tasks      | elapsed:   59.6s\n",
      "[Parallel(n_jobs=-1)]: Done 4760 tasks      | elapsed:  1.5min\n",
      "[Parallel(n_jobs=-1)]: Done 6960 tasks      | elapsed:  2.0min\n",
      "[Parallel(n_jobs=-1)]: Done 9560 tasks      | elapsed:  2.7min\n",
      "[Parallel(n_jobs=-1)]: Done 12560 tasks      | elapsed:  3.4min\n",
      "[Parallel(n_jobs=-1)]: Done 15960 tasks      | elapsed:  4.3min\n",
      "[Parallel(n_jobs=-1)]: Done 19760 tasks      | elapsed:  5.4min\n",
      "[Parallel(n_jobs=-1)]: Done 23328 out of 23328 | elapsed:  6.3min finished\n"
     ]
    },
    {
     "name": "stdout",
     "output_type": "stream",
     "text": [
      "best_params: {'alpha': 0, 'gamma': 0.1, 'lambda': 1.0, 'learning_rate': 0.1, 'max_depth': 3, 'min_child_weight': 3, 'n_estimators': 60, 'objective': 'reg:squarederror', 'silent': 1, 'subsample': 0.8, 'subsample_bycol': 0.8}\n",
      "best_score: -0.14006218143532886\n"
     ]
    }
   ],
   "source": [
    "# grid search with CV from sklearn makes usage of early_stopping on folds quite hard. So instead of it we carefully\n",
    "# hardcoded different n_estimators\n",
    "# grid search also take argmax by score, but we need minimum, so we should take negative mse\n",
    "xgb_grid = GridSearchCV(xgboost.XGBRegressor(), \n",
    "                    param_grid=xgboost_params, \n",
    "                    scoring=neg_mse, \n",
    "                    n_jobs=-1,\n",
    "                    cv=None,\n",
    "                    verbose=True)\n",
    "\n",
    "xgb_grid.fit(X_trainval, y_trainval)\n",
    "print(f\"best_params: {xgb_grid.best_params_}\\nbest_score: {xgb_grid.best_score_}\")\n",
    "\n",
    "pickle.dump(xgb_grid.best_estimator_, open(\"xgb_grid.pickle\", \"wb\"))"
   ]
  },
  {
   "cell_type": "code",
   "execution_count": 86,
   "metadata": {},
   "outputs": [
    {
     "name": "stdout",
     "output_type": "stream",
     "text": [
      "with params:\n",
      "alpha                     - 0\n",
      "gamma                     - 0.1\n",
      "lambda                    - 1.0\n",
      "learning_rate             - 0.1\n",
      "max_depth                 - 3\n",
      "min_child_weight          - 3\n",
      "n_estimators              - 60\n",
      "objective                 - reg:squarederror\n",
      "silent                    - 1\n",
      "subsample                 - 0.8\n",
      "subsample_bycol           - 0.8\n",
      "xgboost train set r2-score 0.8725774782125449\n",
      "xgboost test set r2-score 0.8080297868008393\n",
      "xgboost train set rmse 0.3272657261013888\n",
      "xgboost test set rmse 0.4068281070948513\n"
     ]
    }
   ],
   "source": [
    "xgboost_helper = XGBoostHelper(xgb_grid.best_params_,\n",
    "                               datasets=((X_trainval, y_trainval), (X_test, y_test)),\n",
    "                               model=xgb_grid.best_estimator_)\n",
    "xgboost_helper.evals()"
   ]
  },
  {
   "cell_type": "markdown",
   "metadata": {},
   "source": [
    "As we can see with grid search we evaluate our model on 0.008, but it takes some time. \n",
    "\n",
    "This approach is time consuming but we can get better results."
   ]
  },
  {
   "cell_type": "markdown",
   "metadata": {},
   "source": [
    "To compare we will try linear regrassion, ridge and lasso models."
   ]
  },
  {
   "cell_type": "code",
   "execution_count": 87,
   "metadata": {},
   "outputs": [],
   "source": [
    "lr = linear_model.LinearRegression().fit(X_trainval_scaled, y_trainval)"
   ]
  },
  {
   "cell_type": "code",
   "execution_count": 88,
   "metadata": {},
   "outputs": [],
   "source": [
    "lr_test_score = lr.score(X_test_scaled, y_test)"
   ]
  },
  {
   "cell_type": "code",
   "execution_count": 89,
   "metadata": {},
   "outputs": [
    {
     "name": "stdout",
     "output_type": "stream",
     "text": [
      "lr train R2 is 0.7779148429918334\n",
      "RMSE is 0.4320531678313562\n",
      "lr test set score 0.7597976777335999\n",
      "RMSE is 0.4550746327696471\n"
     ]
    }
   ],
   "source": [
    "print(f\"lr train R2 is {lr.score(X_trainval_scaled, y_trainval)}\\nRMSE is {np.sqrt(mean_squared_error(y_trainval, lr.predict(X_trainval_scaled)))}\")\n",
    "print(f\"lr test set score {lr_test_score}\\nRMSE is {np.sqrt(mean_squared_error(y_test, lr.predict(X_test_scaled)))}\")"
   ]
  },
  {
   "cell_type": "code",
   "execution_count": 90,
   "metadata": {},
   "outputs": [
    {
     "name": "stdout",
     "output_type": "stream",
     "text": [
      "lr.coef_:[ 1.46072264 -0.0697564   0.77006578 -0.36571623  1.5449334  -0.06531283\n",
      " -0.64946731  1.3621052  -0.12645442]\n",
      "lr.intercept_:7.997428940185431\n"
     ]
    }
   ],
   "source": [
    "print(f\"lr.coef_:{lr.coef_}\")\n",
    "print(f\"lr.intercept_:{lr.intercept_}\")"
   ]
  },
  {
   "cell_type": "code",
   "execution_count": 91,
   "metadata": {
    "scrolled": true
   },
   "outputs": [
    {
     "name": "stdout",
     "output_type": "stream",
     "text": [
      "alpha=0.0001\n",
      "R^2 train is: 0.7779148429778988\n",
      "RMSE train is 0.4320531678449107\n",
      "R^2 test is: 0.7597976430193026\n",
      "RMSE test is 0.4550746656535829\n",
      "------------------------------\n",
      "alpha=0.0003\n",
      "R^2 train is: 0.7779148428664466\n",
      "RMSE train is 0.43205316795332244\n",
      "R^2 test is: 0.7597975735174576\n",
      "RMSE test is 0.45507473149083577\n",
      "------------------------------\n",
      "alpha=0.001\n",
      "R^2 train is: 0.7779148415996061\n",
      "RMSE train is 0.43205316918560305\n",
      "R^2 test is: 0.7597973294926915\n",
      "RMSE test is 0.45507496264894326\n",
      "------------------------------\n",
      "alpha=0.003\n",
      "R^2 train is: 0.7779148304864218\n",
      "RMSE train is 0.43205317999561493\n",
      "R^2 test is: 0.7597966257140163\n",
      "RMSE test is 0.45507562931892476\n",
      "------------------------------\n",
      "alpha=0.01\n",
      "R^2 train is: 0.7779147049941946\n",
      "RMSE train is 0.4320533020643428\n",
      "R^2 test is: 0.7597940866875444\n",
      "RMSE test is 0.4550780344600257\n",
      "------------------------------\n",
      "alpha=0.03\n",
      "R^2 train is: 0.7779136249750909\n",
      "RMSE train is 0.43205435261848396\n",
      "R^2 test is: 0.7597862024086006\n",
      "RMSE test is 0.45508550291214245\n",
      "------------------------------\n",
      "alpha=0.1\n",
      "R^2 train is: 0.777902180376992\n",
      "RMSE train is 0.4320654848293658\n",
      "R^2 test is: 0.7597519741851372\n",
      "RMSE test is 0.45511792447493027\n",
      "------------------------------\n",
      "best_alpha is 0.0001, best_test_score is 0.7597976430193026, RMSE best test is 0.4550746656535829\n"
     ]
    }
   ],
   "source": [
    "alphas = [0.0001, 0.0003, 0.001, 0.003, 0.01, 0.03, 0.1]\n",
    "best_ridge_model = None\n",
    "best_ridge_score = 0\n",
    "for alpha in alphas:\n",
    "    ridge = linear_model.Ridge(alpha=alpha).fit(X_trainval_scaled, y_trainval)\n",
    "    pred_ridge = ridge.predict(X_test_scaled)\n",
    "    \n",
    "    score = ridge.score(X_test_scaled, y_test)\n",
    "    if score > best_ridge_score:\n",
    "        best_ridge_score = score\n",
    "        best_ridge_model = ridge\n",
    "    print(f'alpha={alpha}\\nR^2 train is: {ridge.score(X_trainval_scaled, y_trainval)}\\nRMSE train is {np.sqrt(mean_squared_error(y_trainval, ridge.predict(X_trainval_scaled)))}\\nR^2 test is: {score}\\nRMSE test is {np.sqrt(mean_squared_error(y_test, ridge.predict(X_test_scaled)))}')\n",
    "    print('-' * 30)\n",
    "print(f'best_alpha is {best_ridge_model.alpha}, best_test_score is {best_ridge_score}, RMSE best test is {np.sqrt(mean_squared_error(y_test, best_ridge_model.predict(X_test_scaled)))}')"
   ]
  },
  {
   "cell_type": "code",
   "execution_count": 92,
   "metadata": {
    "scrolled": true
   },
   "outputs": [
    {
     "name": "stdout",
     "output_type": "stream",
     "text": [
      "alpha=0.0001\n",
      "R^2 train is: 0.7778932904402834\n",
      "RMSE train is 0.4320741319119554\n",
      "R^2 test is: 0.7597036359838307\n",
      "RMSE test is 0.4551637073181029\n",
      "------------------------------\n",
      "alpha=0.0003\n",
      "R^2 train is: 0.7777227278174397\n",
      "RMSE train is 0.4322400016294339\n",
      "R^2 test is: 0.7593870833052825\n",
      "RMSE test is 0.4554634119573683\n",
      "------------------------------\n",
      "alpha=0.001\n",
      "R^2 train is: 0.7762193858498883\n",
      "RMSE train is 0.433699236556961\n",
      "R^2 test is: 0.7573512564768201\n",
      "RMSE test is 0.4573861922156692\n",
      "------------------------------\n",
      "alpha=0.003\n",
      "R^2 train is: 0.7741513268268131\n",
      "RMSE train is 0.43569863436251166\n",
      "R^2 test is: 0.754515087182716\n",
      "RMSE test is 0.460051477095834\n",
      "------------------------------\n",
      "alpha=0.01\n",
      "R^2 train is: 0.7607372987595586\n",
      "RMSE train is 0.448450928694436\n",
      "R^2 test is: 0.7399548433644432\n",
      "RMSE test is 0.4734982858213068\n",
      "------------------------------\n",
      "alpha=0.03\n",
      "R^2 train is: 0.7365722132773428\n",
      "RMSE train is 0.4705526444728092\n",
      "R^2 test is: 0.7174369708306573\n",
      "RMSE test is 0.4935733419021052\n",
      "------------------------------\n",
      "alpha=0.1\n",
      "R^2 train is: 0.5368876671940309\n",
      "RMSE train is 0.6239080658747616\n",
      "R^2 test is: 0.5202089953718608\n",
      "RMSE test is 0.6431615557368329\n",
      "------------------------------\n",
      "best_alpha is 0.0001, best_test_score is 0.7597036359838307, RMSE best test is 0.4551637073181029\n"
     ]
    }
   ],
   "source": [
    "best_lasso_model = None\n",
    "best_lasso_score = 0\n",
    "for alpha in alphas:\n",
    "    lasso = linear_model.Lasso(alpha=alpha)\n",
    "    lasso.fit(X_trainval_scaled, y_trainval)\n",
    "    pred_lasso = lasso.predict(X_test_scaled)\n",
    "    tmp_mean = mean_squared_error(y_test, pred_ridge)\n",
    "    score = lasso.score(X_test_scaled, y_test)\n",
    "    if score > best_lasso_score:\n",
    "        best_lasso_score = score\n",
    "        best_lasso_model = lasso\n",
    "    print(f'alpha={alpha}\\nR^2 train is: {lasso.score(X_trainval_scaled, y_trainval)}\\nRMSE train is {np.sqrt(mean_squared_error(y_trainval, lasso.predict(X_trainval_scaled)))}\\nR^2 test is: {score}\\nRMSE test is {np.sqrt(mean_squared_error(y_test, lasso.predict(X_test_scaled)))}')\n",
    "    print('-' * 30)\n",
    "print(f'best_alpha is {best_lasso_model.alpha}, best_test_score is {best_lasso_score}, RMSE best test is {np.sqrt(mean_squared_error(y_test, best_lasso_model.predict(X_test_scaled)))}')"
   ]
  },
  {
   "cell_type": "code",
   "execution_count": 93,
   "metadata": {},
   "outputs": [],
   "source": [
    "best_scores = {\"no_reg\": lr_test_score, \"ridge\": best_ridge_score, \"lasso\": best_lasso_score,}"
   ]
  },
  {
   "cell_type": "code",
   "execution_count": 94,
   "metadata": {},
   "outputs": [
    {
     "data": {
      "text/plain": [
       "'ridge'"
      ]
     },
     "execution_count": 94,
     "metadata": {},
     "output_type": "execute_result"
    }
   ],
   "source": [
    "max(best_scores)"
   ]
  },
  {
   "cell_type": "code",
   "execution_count": 95,
   "metadata": {},
   "outputs": [
    {
     "name": "stdout",
     "output_type": "stream",
     "text": [
      "0.7597976777335999\n",
      "0.7597976430193026\n",
      "0.7597036359838307\n"
     ]
    }
   ],
   "source": [
    "for x in best_scores:\n",
    "    print(best_scores[x])"
   ]
  },
  {
   "cell_type": "code",
   "execution_count": 96,
   "metadata": {},
   "outputs": [
    {
     "data": {
      "text/plain": [
       "1.5449334013475393"
      ]
     },
     "execution_count": 96,
     "metadata": {},
     "output_type": "execute_result"
    }
   ],
   "source": [
    "max(*best_lasso_model.coef_, *best_ridge_model.coef_, *lr.coef_)"
   ]
  },
  {
   "cell_type": "code",
   "execution_count": 97,
   "metadata": {},
   "outputs": [
    {
     "data": {
      "text/plain": [
       "-0.6494673073021656"
      ]
     },
     "execution_count": 97,
     "metadata": {},
     "output_type": "execute_result"
    }
   ],
   "source": [
    "min(*best_lasso_model.coef_, *best_ridge_model.coef_, *lr.coef_)"
   ]
  },
  {
   "cell_type": "code",
   "execution_count": 99,
   "metadata": {},
   "outputs": [
    {
     "data": {
      "image/png": "[encoded data removed]",
      "text/plain": [
       "<Figure size 432x288 with 1 Axes>"
      ]
     },
     "metadata": {
      "needs_background": "light"
     },
     "output_type": "display_data"
    }
   ],
   "source": [
    "plt.plot(best_ridge_model.coef_, 'v', label=\"Ridge\")\n",
    "plt.plot(best_lasso_model.coef_, '<', label=\"Lasso\")\n",
    "plt.plot(lr.coef_, 'o', label=\"LinearRegression\")\n",
    "\n",
    "plt.xlabel(\"Coefficient index\")\n",
    "plt.ylabel(\"Coefficient magnitude\")\n",
    "plt.hlines(0, 0, len(best_ridge_model.coef_))\n",
    "plt.ylim(-1, 2)\n",
    "plt.legend()\n",
    "plt.show()"
   ]
  },
  {
   "cell_type": "code",
   "execution_count": null,
   "metadata": {},
   "outputs": [],
   "source": []
  }
 ],
 "metadata": {
  "kernelspec": {
   "display_name": "Python 3.7.4 64-bit ('base': conda)",
   "language": "python",
   "name": "python37464bitbaseconda9ef852fcd3cb450e9289824f3fbb8bb4"
  },
  "language_info": {
   "codemirror_mode": {
    "name": "ipython",
    "version": 3
   },
   "file_extension": ".py",
   "mimetype": "text/x-python",
   "name": "python",
   "nbconvert_exporter": "python",
   "pygments_lexer": "ipython3",
   "version": "3.7.4"
  }
 },
 "nbformat": 4,
 "nbformat_minor": 2
}
